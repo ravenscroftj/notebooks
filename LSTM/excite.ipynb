{
 "cells": [
  {
   "cell_type": "markdown",
   "metadata": {},
   "source": [
    "# Citation classifier excite\n",
    "\n",
    "\n",
    "GIT repo: `git clone https://github.com/ravenscroftj/notebooks.git` \n",
    "\n",
    "Implementation of LSTM that can classify citation strings into regions denoting author, article title, journal, volume, year, pages, doi, notes and some other classes. There are 13 classes in total.\n",
    "\n",
    "## Preparing Data regions\n",
    "\n",
    "The following function takes citations that have been annotated and builds a mapping of character to classes. Since neural networks are also completely numerical constructs, we create an alphabet that maps numerical indices in a vector to letters.\n"
   ]
  },
  {
   "cell_type": "code",
   "execution_count": 2,
   "metadata": {
    "collapsed": true
   },
   "outputs": [],
   "source": [
    "import lxml.etree as ET\n",
    "from collections import Counter\n",
    "\n",
    "def prepare_data(citefile):\n",
    "\n",
    "    #a list of all citations in training data\n",
    "    citations = []\n",
    "    #letters is essentially our alphabet used to map alphanumerical chars to integers\n",
    "    letters = set()\n",
    "    #this is a map of example classes found in the training data\n",
    "    classes = Counter()\n",
    "\n",
    "    with open(citefile) as f:\n",
    "\n",
    "        for line in f.readlines():\n",
    "            #add citation element to beginning and end of each example line so that we can parse into xml doc\n",
    "            root = ET.XML(\"<citation>\" + line.replace(\"&\",\"&amp;\") + \"</citation>\")\n",
    "            cite = \"\"\n",
    "            regions = []\n",
    "\n",
    "            #iterate over child elements of our citation doc\n",
    "            for el in root.iterchildren():\n",
    "                classes[el.tag] = 1\n",
    "                regions.append( (el.tag, len(cite)) )\n",
    "                cite += el.text.replace(\"&amp;\",\"&\")\n",
    "\n",
    "            #letters is a set so we just union against our new citation string to get unique chars used\n",
    "            letters = letters.union( set(list(cite)) )\n",
    "            citations.append( (cite, regions) )\n",
    "\n",
    "    return citations, sorted(classes.keys()), sorted(letters)"
   ]
  },
  {
   "cell_type": "markdown",
   "metadata": {},
   "source": [
    "We can use this function to build test and training sets. We can import data from the training sets attached"
   ]
  },
  {
   "cell_type": "code",
   "execution_count": 3,
   "metadata": {
    "collapsed": false
   },
   "outputs": [
    {
     "name": "stdout",
     "output_type": "stream",
     "text": [
      "Total classes found: 13\n",
      "Classes:  ['author', 'booktitle', 'date', 'editor', 'institution', 'journal', 'location', 'note', 'pages', 'publisher', 'tech', 'title', 'volume']\n"
     ]
    }
   ],
   "source": [
    "#extract training data from examples\n",
    "citations, classes, alphabet = prepare_data(\"excite/data/citeseerx.tagged.txt\")\n",
    "\n",
    "# Find out how many classes there were in the training data as a sanity check\n",
    "print ( str.format(\"Total classes found: {}\",len(classes) ) )\n",
    "print (\"Classes: \", classes)\n",
    "    \n"
   ]
  },
  {
   "cell_type": "markdown",
   "metadata": {},
   "source": [
    "## Architecture of Network\n",
    "\n",
    "Now that we have an idea of the number of classes we can start to plan network architecture.\n",
    "\n",
    "### Network input\n",
    "\n",
    "We are using a 5 character context window over our time series (which is essentially moving the context window along one character at a time. We need a context window function, $c(s,t)$ which given an input citation $s$ and an offset, $t$ creates a context window for network input, $x$\n",
    "\n",
    "So you might expect the following:"
   ]
  },
  {
   "cell_type": "code",
   "execution_count": 4,
   "metadata": {
    "collapsed": false
   },
   "outputs": [
    {
     "name": "stdout",
     "output_type": "stream",
     "text": [
      "Abbey, A. & Andrews, F. M.  Modeling the psychological determinants of life quality.  Social Indicators Research  16, 1,  1985.\n",
      "x for t=1:  ['A', 'b', 'b', 'e', 'y']\n",
      "x for t=2:  ['b', 'b', 'e', 'y', ',']\n"
     ]
    }
   ],
   "source": [
    "#given a citation string that looks like this\n",
    "citation = citations[0][0].strip()\n",
    "\n",
    "print (citation)\n",
    "\n",
    "x_t_1 = list(citation[0:5])\n",
    "\n",
    "print (\"x for t=1: \", x_t_1)\n",
    "\n",
    "x_t_2 = list(citation[1:6])\n",
    "\n",
    "print (\"x for t=2: \", x_t_2)"
   ]
  },
  {
   "cell_type": "markdown",
   "metadata": {},
   "source": [
    "Now we want to make sure that the character we're interested in (which aligns with offset $t$ is at the centre of this matrix. The first character in this string is 'A' so we pad it with emptystring like so:"
   ]
  },
  {
   "cell_type": "code",
   "execution_count": 5,
   "metadata": {
    "collapsed": false
   },
   "outputs": [
    {
     "name": "stdout",
     "output_type": "stream",
     "text": [
      "x for t=1:  ['', '', 'A', 'b', 'b']\n",
      "x for t=2:  ['', 'A', 'b', 'b', 'e']\n"
     ]
    }
   ],
   "source": [
    "lpadded = 2 * [''] + list(citation) + 2 * ['']\n",
    "\n",
    "x_t_1 = lpadded[0:5]\n",
    "\n",
    "x_t_2 = lpadded[1:6]\n",
    "\n",
    "print (\"x for t=1: \", x_t_1)\n",
    "\n",
    "print (\"x for t=2: \", x_t_2)"
   ]
  },
  {
   "cell_type": "markdown",
   "metadata": {},
   "source": [
    "The problem is that neural networks are completely numerical and strings must be encoded as numbers in order to be passed in. Therefore we use the alphabet collected above to map our x values to something more RNN friendly."
   ]
  },
  {
   "cell_type": "code",
   "execution_count": 6,
   "metadata": {
    "collapsed": false
   },
   "outputs": [
    {
     "name": "stdout",
     "output_type": "stream",
     "text": [
      "Encoded x for t=1 [-1 -1 24 55 55]\n",
      "Encoded x for t=2 [-1 24 55 55 58]\n"
     ]
    }
   ],
   "source": [
    "import numpy as np\n",
    "\n",
    "def amap(letters):\n",
    "    return np.array([ alphabet.index(x) if x in alphabet else -1 for x in letters])\n",
    "\n",
    "print( \"Encoded x for t=1\", amap(x_t_1) )\n",
    "print( \"Encoded x for t=2\", amap(x_t_2) )"
   ]
  },
  {
   "cell_type": "markdown",
   "metadata": {},
   "source": [
    "So we can wrap all this up in a function very easily now:"
   ]
  },
  {
   "cell_type": "code",
   "execution_count": 7,
   "metadata": {
    "collapsed": false
   },
   "outputs": [
    {
     "name": "stdout",
     "output_type": "stream",
     "text": [
      "[-1 -1 24 55 55]\n",
      "[-1 -1 24 55 55]\n"
     ]
    }
   ],
   "source": [
    "def cite_to_input(citestring, t):\n",
    "    lpadded = 2 * [''] + list(citestring) + 2 * ['']\n",
    "    cwin = lpadded[ 0 + t : 5 + t]\n",
    "    return amap(cwin)\n",
    "\n",
    "print(amap(x_t_1))\n",
    "print (cite_to_input(citation, 0))"
   ]
  },
  {
   "cell_type": "markdown",
   "metadata": {},
   "source": [
    "    \n",
    "### Network output\n",
    "    \n",
    "\n",
    "The output will be a vector of values between 0,1 as wide as the number of classes. \n",
    "\n",
    "The aim is to use back propogation through time to make the input match with an output of all zeroes except the correct class in the vector space."
   ]
  },
  {
   "cell_type": "code",
   "execution_count": 8,
   "metadata": {
    "collapsed": false
   },
   "outputs": [
    {
     "name": "stderr",
     "output_type": "stream",
     "text": [
      "Using gpu device 0: GeForce GTX 970\n"
     ]
    }
   ],
   "source": [
    "import theano\n",
    "import theano.tensor as T\n",
    "\n",
    "\n",
    "#we know the input context window is 5 \n",
    "n_in = 5\n",
    "#the output is the number of classes (currently 13)\n",
    "n_out = len(classes)\n",
    "\n",
    "#hidden units somewhere between input and output - we'll try 10 for now \n",
    "n_hidden = 10\n",
    "\n",
    "# we set up the various layers of the network \n",
    "\n",
    "#the input layer is just a vector - yes it is 5 wide but we don't care about this yet\n",
    "L_in = T.dvector('x_in')\n",
    "\n",
    "# States is a vector of memory unit values\n",
    "S_lstm = theano.shared(np.zeros(n_hidden))\n",
    "\n",
    "# we want to store the previous state of the LSTM output for future calculations ( y(t-1))\n",
    "y_lstm_t = theano.shared(np.zeros(n_hidden))\n",
    "\n",
    "#output layer is a vector of values which will eventually be len(classes) wide\n",
    "L_out = T.dvector('y_out')\n",
    "\n",
    "# set up all the weights - these are matrices that weight values map connections between layers\n",
    "# W[l,m] is the weight of connection from unit m to unit l\n",
    "\n",
    "#weights for hidden layer internal connections \n",
    "W_hh = theano.shared(np.random.randn(n_hidden,n_hidden) * 0.001)\n",
    "#weights for input to hidden connections\n",
    "W_hi  = theano.shared( np.random.randn(n_hidden, n_in) * 0.001 )\n",
    "#weights for hidden to out\n",
    "W_oh  = theano.shared( np.random.randn(n_out, n_hidden ) * 0.001 )\n",
    "\n",
    "#weight for input gate function \n",
    "W_in = theano.shared(value=np.random.randn() * 0.001, name='W_in')\n",
    "#weight for forget gate function\n",
    "W_phi = theano.shared(value=np.random.randn() * 0.001, name='W_phi')\n",
    "#weight for output gate function\n",
    "W_out = theano.shared(value=np.random.randn() * 0.001, name='W_out')\n",
    "\n",
    "\n"
   ]
  },
  {
   "cell_type": "markdown",
   "metadata": {},
   "source": [
    "## Forward Propagation\n",
    "\n",
    "This section is an implementation of Forward prop described in ['Learning Precise Timing with LSTM Recurrent Networks' - Gers et al. 2002](http://www.jmlr.org/papers/volume3/gers02a/gers02a.pdf)\n",
    "\n",
    "Each time the sequence advances (or each time $t$ goes up by 1) we have to forward propagate the input $x$ through the network and calculate output. Here we define what that looks like.\n",
    "\n",
    "### Input Gate\n",
    "\n",
    "$$ z_{c^v_j}(t) = \\sum_m w_{c^v_j m} y_m (t-1)  $$\n"
   ]
  },
  {
   "cell_type": "code",
   "execution_count": 9,
   "metadata": {
    "collapsed": false
   },
   "outputs": [
    {
     "name": "stdout",
     "output_type": "stream",
     "text": [
      "['', '', 'A', 'b', 'b']\n",
      "[-1 -1 24 55 55]\n",
      "[-0.0686938   0.01411479  0.0860507  -0.14366198  0.06835544 -0.22537654\n",
      "  0.03078831  0.0198305  -0.10041073  0.02096471]\n"
     ]
    }
   ],
   "source": [
    "z_lstm =  W_hi.dot(L_in) + W_hh.dot( y_lstm_t )\n",
    "\n",
    "#compile a function to demo what this looks like\n",
    "f = theano.function( [L_in], z_lstm)\n",
    "\n",
    "print(x_t_1)\n",
    "print(amap(x_t_1))\n",
    "print( f( amap(x_t_1) ) )"
   ]
  },
  {
   "cell_type": "markdown",
   "metadata": {},
   "source": [
    "$$ z_{in_j}(t)=\\sum_m w_{in_j m} y_m (t-1)$$\n",
    "\n",
    "$$y_{in_j}(t)= f_{in_j}(z_{in_j}(t))$$"
   ]
  },
  {
   "cell_type": "code",
   "execution_count": 10,
   "metadata": {
    "collapsed": false
   },
   "outputs": [
    {
     "name": "stdout",
     "output_type": "stream",
     "text": [
      "['', '', 'A', 'b', 'b']\n",
      "[-1 -1 24 55 55]\n",
      "0.5318857748252882\n"
     ]
    }
   ],
   "source": [
    "y_in_lstm =  T.nnet.sigmoid( L_in.dot(W_in).sum() + y_lstm_t.dot( W_in ).sum() )\n",
    "\n",
    "#compile a function to demo what this looks like\n",
    "f = theano.function( [L_in], y_in_lstm )\n",
    "\n",
    "print(x_t_1)\n",
    "print(amap(x_t_1))\n",
    "print( f( amap(x_t_1) ) )"
   ]
  },
  {
   "cell_type": "markdown",
   "metadata": {},
   "source": [
    "### Forget gate\n",
    "\n",
    "\n",
    "\n",
    "$$ z_{\\varphi_j}(t)=\\sum_m w_{\\varphi_j m} y_m (t-1)$$\n",
    "\n",
    "$$y_{\\varphi_j}(t)= f_{\\varphi_j}(z_{\\varphi_j}(t))$$"
   ]
  },
  {
   "cell_type": "code",
   "execution_count": 11,
   "metadata": {
    "collapsed": false
   },
   "outputs": [
    {
     "name": "stdout",
     "output_type": "stream",
     "text": [
      "['', '', 'A', 'b', 'b']\n",
      "[-1 -1 24 55 55]\n",
      "0.4738551528751339\n"
     ]
    }
   ],
   "source": [
    "y_phi_lstm = T.nnet.sigmoid( L_in.dot(W_phi).sum() + y_lstm_t.dot( W_phi ).sum() )\n",
    "\n",
    "#compile a function to demo what this looks like\n",
    "f = theano.function([L_in], y_phi_lstm )\n",
    "\n",
    "print(x_t_1)\n",
    "print(amap(x_t_1))\n",
    "print( f( amap(x_t_1) ) )"
   ]
  },
  {
   "cell_type": "markdown",
   "metadata": {},
   "source": [
    "### Cell state\n",
    "\n",
    "If $ t \\gt 0$ then it is calculated like so:\n",
    "\n",
    "$$s_{c^v_j} (t) =  y_{\\varphi j}(t)s_{c^v_j} (t-t) + y_{in_j}(t) g(z_{c^v_j}(t))  $$\n"
   ]
  },
  {
   "cell_type": "code",
   "execution_count": 12,
   "metadata": {
    "collapsed": false
   },
   "outputs": [
    {
     "name": "stdout",
     "output_type": "stream",
     "text": [
      "['', '', 'A', 'b', 'b']\n",
      "[-1 -1 24 55 55]\n",
      "[-0.03653725  0.00750745  0.04576914 -0.07641176  0.03635729 -0.11987457\n",
      "  0.01637586  0.01054756 -0.05340704  0.01115083]\n"
     ]
    }
   ],
   "source": [
    "s_lstm = ( y_phi_lstm * S_lstm) + (y_in_lstm * z_lstm )\n",
    "\n",
    "f = theano.function([L_in],s_lstm)\n",
    "\n",
    "print(x_t_1)\n",
    "print(amap(x_t_1))\n",
    "print(f( amap(x_t_1) ))"
   ]
  },
  {
   "cell_type": "markdown",
   "metadata": {},
   "source": [
    "### Output activation function\n",
    "\n",
    "$$ z_{out_j}(t)=\\sum_m w_{out_j m} y_m (t-1)$$\n",
    "\n",
    "$$y_{out_j}(t)= f_{out_j}(z_{out_j}(t))$$"
   ]
  },
  {
   "cell_type": "code",
   "execution_count": 13,
   "metadata": {
    "collapsed": false
   },
   "outputs": [
    {
     "name": "stdout",
     "output_type": "stream",
     "text": [
      "['', '', 'A', 'b', 'b']\n",
      "[-1 -1 24 55 55]\n",
      "0.5006810191793878\n"
     ]
    }
   ],
   "source": [
    "y_out_lstm =  T.nnet.sigmoid( L_in.dot(W_out).sum() + y_lstm_t.dot( W_out ).sum() )\n",
    "\n",
    "#compile a function to demo what this looks like\n",
    "f = theano.function( [L_in], y_out_lstm )\n",
    "\n",
    "print(x_t_1)\n",
    "print(amap(x_t_1))\n",
    "print( f( amap(x_t_1) ) )"
   ]
  },
  {
   "cell_type": "markdown",
   "metadata": {},
   "source": [
    "### LSTM Layer Output value\n",
    "\n",
    "$$ y_{c^v_j}(t) =y_{out_j}(t) s_{c^v_j}(t) $$"
   ]
  },
  {
   "cell_type": "code",
   "execution_count": 14,
   "metadata": {
    "collapsed": false
   },
   "outputs": [
    {
     "name": "stdout",
     "output_type": "stream",
     "text": [
      "['', '', 'A', 'b', 'b']\n",
      "[-1 -1 24 55 55]\n",
      "[-0.01829351  0.00375884  0.02291574 -0.03825792  0.0182034  -0.06001892\n",
      "  0.00819908  0.00528096 -0.02673989  0.00558301]\n"
     ]
    }
   ],
   "source": [
    "y_lstm = y_out_lstm * s_lstm\n",
    "\n",
    "f = theano.function([L_in],y_lstm)\n",
    "\n",
    "print(x_t_1)\n",
    "print(amap(x_t_1))\n",
    "print(f( amap(x_t_1) ))"
   ]
  },
  {
   "cell_type": "markdown",
   "metadata": {},
   "source": [
    "## Network output\n",
    "\n",
    "The final layer is a standard densely connected neural network layer len(classes) in size. y_k(t)$ denotes the final output of the network.\n",
    "\n",
    "$$ y_k(t) = f_k(z_k(t))$$\n",
    "$$ z_k(t) = \\sum_m w_{km} y_m(t) $$"
   ]
  },
  {
   "cell_type": "code",
   "execution_count": 15,
   "metadata": {
    "collapsed": false
   },
   "outputs": [
    {
     "name": "stdout",
     "output_type": "stream",
     "text": [
      "['', '', 'A', 'b', 'b']\n",
      "[-1 -1 24 55 55]\n",
      "[[ 0.07692009  0.07692089  0.07692077  0.07693041  0.07692303  0.07691903\n",
      "   0.07692771  0.0769178   0.07691851  0.07691775  0.07692107  0.07692299\n",
      "   0.07693994]]\n"
     ]
    }
   ],
   "source": [
    "z_k = W_oh.dot(y_lstm)\n",
    "y_k = T.nnet.softmax( z_k )\n",
    "\n",
    "f = theano.function([L_in], y_k)\n",
    "\n",
    "print(x_t_1)\n",
    "print(amap(x_t_1))\n",
    "print(f( amap(x_t_1) ))"
   ]
  },
  {
   "cell_type": "markdown",
   "metadata": {},
   "source": [
    "## Backwards Pass\n",
    "\n",
    "\n",
    "### References\n",
    "\n",
    "Implementation of Backwards Propagation through time (BPTT) - truncated gradients.\n",
    "\n",
    "Implementation details described in \n",
    "  * ['Long Short Term Memory' Hochreiter & Schmidhuber 1997](http://deeplearning.cs.cmu.edu/pdfs/Hochreiter97_lstm.pdf)\n",
    "  * ['Learning to Forget: Continual Prediction with LSTM' Gers et al. 1999](http://www.felixgers.de/papers/FgGates-ICANN99.pdf) \n",
    "  * ['Learning Precise Timing with LSTM Recurrent Networks' - Gers et al. 2002](http://www.jmlr.org/papers/volume3/gers02a/gers02a.pdf)\n",
    "  \n",
    "### Outputs and Output Gate\n",
    "  \n",
    "#### Defining our targets $t(t)$\n",
    "First we define targets $t(t)$ which represent the correct answers.\n",
    "\n",
    "Our input is a 5 wide vector of chars with the character we are interested in at its centre as demonstrated by the following where X is the letter we care about: [ \\_ , \\_, X \\_, \\_   ]. \n",
    "\n",
    "Our examples are divided up into boundaries so we just need to find the correct class for time $t$ (or rather offset $t$ if it helps to think that way).\n"
   ]
  },
  {
   "cell_type": "code",
   "execution_count": 16,
   "metadata": {
    "collapsed": false
   },
   "outputs": [
    {
     "name": "stdout",
     "output_type": "stream",
     "text": [
      "[('author', 0), ('title', 28), ('journal', 86), ('volume', 114), ('date', 122)]\n",
      "author\n",
      "title\n",
      "journal\n",
      "volume\n",
      "date\n"
     ]
    }
   ],
   "source": [
    "def class_for_offset(regions, t):\n",
    "    \n",
    "    for cls, idx in sorted(regions, key=lambda x: x[1], reverse=True):\n",
    "        if t >= idx:\n",
    "            return cls\n",
    "    else:\n",
    "        return regions[-1][0]\n",
    "\n",
    "\n",
    "citestring, regions = citations[0]\n",
    "\n",
    "print (regions)\n",
    "\n",
    "print( class_for_offset(regions, 12))\n",
    "print( class_for_offset(regions, 30))\n",
    "print( class_for_offset(regions, 90))\n",
    "print( class_for_offset(regions, 115))\n",
    "print( class_for_offset(regions, 123))\n"
   ]
  },
  {
   "cell_type": "markdown",
   "metadata": {},
   "source": [
    "Then its as simple as replacing the class name with an index to make 1 where everything else is zero\n",
    "\n"
   ]
  },
  {
   "cell_type": "code",
   "execution_count": 17,
   "metadata": {
    "collapsed": false
   },
   "outputs": [
    {
     "name": "stdout",
     "output_type": "stream",
     "text": [
      "[ 1.  0.  0.  0.  0.  0.  0.  0.  0.  0.  0.  0.  0.]\n"
     ]
    }
   ],
   "source": [
    "def output_vec(regions, t):\n",
    "    cls = class_for_offset(regions,t)\n",
    "    out = np.zeros(len(classes))\n",
    "    out[classes.index(cls)] = 1\n",
    "    return out\n",
    "\n",
    "\n",
    "citestring, regions = citations[0]\n",
    "\n",
    "print( output_vec(regions,12))"
   ]
  },
  {
   "cell_type": "markdown",
   "metadata": {},
   "source": [
    "So now we have $t(t)$ we can start building BPTT.\n",
    "\n",
    "#### Minimising error and gradient descent\n",
    "\n",
    "Our error function is root mean squared error of our expected and actual outputs\n",
    "\n",
    "$$E(t) = \\frac{1}{2}\\sum_ke_k(t)^2$$  \n",
    "$$e_k(t) := t_k(t) - y_k(t)$$"
   ]
  },
  {
   "cell_type": "code",
   "execution_count": 18,
   "metadata": {
    "collapsed": false
   },
   "outputs": [
    {
     "name": "stdout",
     "output_type": "stream",
     "text": [
      "Input: [-1 -1  0 24 55]\n",
      "Desired Output: [ 1.  0.  0.  0.  0.  0.  0.  0.  0.  0.  0.  0.  0.]\n",
      "Actual Output: [[ 0.07692188  0.07692113  0.07691817  0.07692901  0.07692368  0.07691751\n",
      "   0.07692434  0.07691863  0.07692129  0.07692322  0.07692093  0.07692624\n",
      "   0.07693398]]\n",
      "Error E(t)= 0.46153966120144296\n"
     ]
    }
   ],
   "source": [
    "t_k = T.dvector('t_k')\n",
    "E_t = 0.5 * T.sqr((t_k - y_k)).sum()\n",
    "\n",
    "f = theano.function([L_in, t_k], E_t)\n",
    "y = theano.function([L_in], y_k)\n",
    "\n",
    "citation, regions = citations[0]\n",
    "input  = cite_to_input(citation,0)\n",
    "target = output_vec(regions, 0)\n",
    "print (\"Input:\", input)\n",
    "print (\"Desired Output:\",target)\n",
    "print (\"Actual Output:\", y(input))\n",
    "print (\"Error E(t)=\", f(input, target))\n",
    "\n"
   ]
  },
  {
   "cell_type": "markdown",
   "metadata": {},
   "source": [
    "We want to minimize $E(t)$ by doing gradient descent weight changes $\\Delta w_{lm}$ using learning rate $\\alpha$:\n",
    "\n",
    "$$ \\Delta w_{lm}(t) = \\alpha \\delta_k (t) y_m(t-1) $$\n",
    "\n",
    "$$\\delta_k (t) = f'_k(z_k(t))e_k(t)$$\n",
    "\n",
    "$$ e_k(t) = t_k(t) - y_k(t) $$\n",
    "\n",
    "Remembering that:\n",
    "  * $\\Delta w_{lm}(t)$ is the change in weight between current cell $l$ and its input cell $m$\n",
    "  * $y^m(t-1)$ is feeder cell $m$'s previous input value (for $t-1$) and which we store in our program as `y_lstm_t`\n",
    "  "
   ]
  },
  {
   "cell_type": "code",
   "execution_count": 19,
   "metadata": {
    "collapsed": false
   },
   "outputs": [
    {
     "name": "stdout",
     "output_type": "stream",
     "text": [
      "delta_W_oh:  [[  9.85853021e-05   2.00492421e-05  -1.31677112e-04   2.38440924e-04\n",
      "    1.10519031e-05   3.08711621e-04  -6.51686291e-05  -1.61126009e-05\n",
      "    1.82070811e-06   5.52321089e-05]\n",
      " [ -8.21500403e-06  -1.67068114e-06   1.09725079e-05  -1.98690181e-05\n",
      "   -9.20942843e-07  -2.57245974e-05   5.43042968e-06   1.34264518e-06\n",
      "   -1.51717590e-07  -4.60243046e-06]\n",
      " [ -8.21437201e-06  -1.67055261e-06   1.09716637e-05  -1.98674895e-05\n",
      "   -9.20871991e-07  -2.57226183e-05   5.43001189e-06   1.34254189e-06\n",
      "   -1.51705918e-07  -4.60207637e-06]\n",
      " [ -8.21668760e-06  -1.67102353e-06   1.09747566e-05  -1.98730900e-05\n",
      "   -9.21131580e-07  -2.57298694e-05   5.43154258e-06   1.34292034e-06\n",
      "   -1.51748683e-07  -4.60337368e-06]\n",
      " [ -8.21554855e-06  -1.67079188e-06   1.09732352e-05  -1.98703351e-05\n",
      "   -9.21003887e-07  -2.57263026e-05   5.43078963e-06   1.34273418e-06\n",
      "   -1.51727647e-07  -4.60273553e-06]\n",
      " [ -8.21423129e-06  -1.67052399e-06   1.09714757e-05  -1.98671491e-05\n",
      "   -9.20856215e-07  -2.57221777e-05   5.42991887e-06   1.34251889e-06\n",
      "   -1.51703319e-07  -4.60199753e-06]\n",
      " [ -8.21569106e-06  -1.67082086e-06   1.09734255e-05  -1.98706798e-05\n",
      "   -9.21019863e-07  -2.57267488e-05   5.43088384e-06   1.34275747e-06\n",
      "   -1.51730279e-07  -4.60281537e-06]\n",
      " [ -8.21446980e-06  -1.67057249e-06   1.09717943e-05  -1.98677260e-05\n",
      "   -9.20882953e-07  -2.57229245e-05   5.43007653e-06   1.34255787e-06\n",
      "   -1.51707724e-07  -4.60213116e-06]\n",
      " [ -8.21503879e-06  -1.67068821e-06   1.09725543e-05  -1.98691022e-05\n",
      "   -9.20946741e-07  -2.57247063e-05   5.43045266e-06   1.34265087e-06\n",
      "   -1.51718232e-07  -4.60244994e-06]\n",
      " [ -8.21545158e-06  -1.67077216e-06   1.09731056e-05  -1.98701005e-05\n",
      "   -9.20993016e-07  -2.57259989e-05   5.43072553e-06   1.34271833e-06\n",
      "   -1.51725856e-07  -4.60268120e-06]\n",
      " [ -8.21496289e-06  -1.67067277e-06   1.09724529e-05  -1.98689186e-05\n",
      "   -9.20938231e-07  -2.57244686e-05   5.43040248e-06   1.34263846e-06\n",
      "   -1.51716831e-07  -4.60240741e-06]\n",
      " [ -8.21609541e-06  -1.67090309e-06   1.09739656e-05  -1.98716577e-05\n",
      "   -9.21065192e-07  -2.57280150e-05   5.43115112e-06   1.34282356e-06\n",
      "   -1.51737746e-07  -4.60304190e-06]\n",
      " [ -8.21774911e-06  -1.67123941e-06   1.09761744e-05  -1.98756574e-05\n",
      "   -9.21250580e-07  -2.57331934e-05   5.43224428e-06   1.34309383e-06\n",
      "   -1.51768287e-07  -4.60396838e-06]]\n"
     ]
    }
   ],
   "source": [
    "e_k = t_k - y_k\n",
    "\n",
    "learning_rate = 0.1\n",
    "\n",
    "delta_k = T.grad(E_t,y_k) * e_k\n",
    "\n",
    "delta_W_oh = learning_rate * T.grad(E_t, W_oh) #* y_lstm_t\n",
    "\n",
    "f = theano.function([L_in, t_k],delta_W_oh) #theano.function([L_in,t_k], learning_rate * ( delta_k.reshape((1,13)).dot(y_lstm_t) ) ) \n",
    "\n",
    "\n",
    "#print (\"W_oh: \", W_oh.get_value())\n",
    "print (\"delta_W_oh: \", f(input,target))\n",
    "\n",
    "updates = []\n",
    "updates.append((W_oh, W_oh - delta_W_oh))\n",
    "updates.append( (y_lstm_t, y_lstm) )\n",
    "\n"
   ]
  },
  {
   "cell_type": "markdown",
   "metadata": {},
   "source": [
    "### Output Gate\n",
    "\n",
    "$$\\delta_{out_j}(t) = f'_{out_j}(z_{out_j}(t)) \\Big( \\sum_{v=1}^{S_j} s_{c^v_j}(t) \\sum_k W_{kc^v_j} \\delta_k(t) \\Big) $$"
   ]
  },
  {
   "cell_type": "code",
   "execution_count": 20,
   "metadata": {
    "collapsed": false
   },
   "outputs": [
    {
     "name": "stdout",
     "output_type": "stream",
     "text": [
      "W_out: 2.06369575915e-05\n",
      "W_out - delta_W_out:  2.0636958403543224e-05\n"
     ]
    }
   ],
   "source": [
    "delta_W_out = T.grad(E_t,W_out) * s_lstm.sum() * (W_oh * delta_W_oh).sum()\n",
    "\n",
    "f = theano.function([L_in, t_k], W_out - delta_W_out) \n",
    "\n",
    "print (\"W_out:\", W_out.get_value())\n",
    "print (\"W_out - delta_W_out: \", f(input,target))"
   ]
  },
  {
   "cell_type": "markdown",
   "metadata": {},
   "source": [
    "## Single step\n",
    "\n",
    "Now that we have weights defined, we can define what it means to do a single step given time, $t$. This involves forward propogating new (and recycled inputs) and then backpropogating error signals.\n",
    "\n",
    "Here we define a python function, $step$ that carries out these processes\n"
   ]
  },
  {
   "cell_type": "code",
   "execution_count": 21,
   "metadata": {
    "collapsed": false
   },
   "outputs": [],
   "source": [
    "\n",
    "def step(x,y):\n",
    "    pass"
   ]
  },
  {
   "cell_type": "code",
   "execution_count": null,
   "metadata": {
    "collapsed": true
   },
   "outputs": [],
   "source": []
  },
  {
   "cell_type": "code",
   "execution_count": null,
   "metadata": {
    "collapsed": true
   },
   "outputs": [],
   "source": []
  },
  {
   "cell_type": "code",
   "execution_count": null,
   "metadata": {
    "collapsed": true
   },
   "outputs": [],
   "source": []
  }
 ],
 "metadata": {
  "kernelspec": {
   "display_name": "Python 3",
   "language": "python",
   "name": "python3"
  },
  "language_info": {
   "codemirror_mode": {
    "name": "ipython",
    "version": 3
   },
   "file_extension": ".py",
   "mimetype": "text/x-python",
   "name": "python",
   "nbconvert_exporter": "python",
   "pygments_lexer": "ipython3",
   "version": "3.4.3"
  }
 },
 "nbformat": 4,
 "nbformat_minor": 0
}
