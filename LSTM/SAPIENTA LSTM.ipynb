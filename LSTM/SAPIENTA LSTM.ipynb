{
 "cells": [
  {
   "cell_type": "markdown",
   "metadata": {},
   "source": [
    "# LSTM for CoreSC classification"
   ]
  },
  {
   "cell_type": "markdown",
   "metadata": {
    "slideshow": {
     "slide_type": "-"
    }
   },
   "source": [
    "LSTM implementation for SAPIENTA CoreSC sentence types.\n",
    "\n",
    "## CoreSCs\n",
    "\n",
    "There are 11 primary CoreSCs defined by [Liakata et al. (2010)](http://www.lrec-conf.org/proceedings/lrec2010/pdf/644_Paper.pdf)\n",
    "\n",
    "<table>\n",
    "<tr>\n",
    "<th>Category</th>\n",
    "<th>Description</th>\n",
    "</tr>\n",
    "<tr>\n",
    "   <td>Hypothesis </td>\n",
    "   <td>A statement not yet confirmed rather than a factual statement</td>\n",
    "</tr>\n",
    "<tr>\n",
    "   <td>Motivation</td> \n",
    "   <td>The reasons behind an investigation</td>\n",
    "   </tr>\n",
    "<tr>\n",
    "   <td>Background</td><td>Generally accepted background knowledge and previous work</td>\n",
    "   </tr>\n",
    "<tr>\n",
    "   <td>Goal</td>\n",
    "   <td>A target state of the investigation where intended discoveries are made</td>\n",
    "</tr>\n",
    "<tr>\n",
    "   <td>Object-New</td>\n",
    "   <td>An entity which is a product or main theme of the investigation</td>\n",
    "</tr>\n",
    "<tr>\n",
    "   <td>Method-New</td>\n",
    "   <td>Means by which authors seek to achieve a goal of the investigation</td>\n",
    "</tr>\n",
    "<tr>\n",
    "   <td>Experiment</td>\n",
    "   <td>An experimental method</td>\n",
    "</tr>\n",
    "<tr>\n",
    "   <td>Model</td>\n",
    "   <td>A statement about a theoretical model or framework</td>\n",
    "</tr>\n",
    "<tr>\n",
    "      <td>Observation</td>\n",
    "      <td>the data/phenomena recorded in an investigation</td>\n",
    "</tr>\n",
    "<tr>\n",
    "   <td>Result</td>\n",
    "   <td>factual statements about the outputs of an investigation</td>\n",
    "</tr>\n",
    "<tr>\n",
    "   <td>Conclusion</td>\n",
    "   <td>statements inferred from observations &amp; results relating to research hypothesis</td>\n",
    "</tr>\n",
    "</table>\n",
    "\n",
    "We ignore the subdivisions of Object and Method in this simplified learning model - partly because annotation of the training data is not specific enough to go lower level.\n",
    "\n"
   ]
  },
  {
   "cell_type": "code",
   "execution_count": null,
   "metadata": {
    "collapsed": true
   },
   "outputs": [],
   "source": [
    "import os\n",
    "\n",
    "for "
   ]
  }
 ],
 "metadata": {
  "kernelspec": {
   "display_name": "Python 3",
   "language": "python",
   "name": "python3"
  },
  "language_info": {
   "codemirror_mode": {
    "name": "ipython",
    "version": 3
   },
   "file_extension": ".py",
   "mimetype": "text/x-python",
   "name": "python",
   "nbconvert_exporter": "python",
   "pygments_lexer": "ipython3",
   "version": "3.4.3"
  }
 },
 "nbformat": 4,
 "nbformat_minor": 0
}
