{
 "cells": [
  {
   "cell_type": "markdown",
   "metadata": {},
   "source": [
    "# NLTK \n",
    "\n",
    "\n",
    "NLTK or Natural Language Toolkit is the *de-facto* standard python module for building and running natural language processing applications in the language.\n",
    "\n",
    "It consists of a collection of widely used datasets and algorithms for language processing applications such as tokenizers, part-of-speech taggers, stopword sets, standard text sets and trainable machine-learning algorithms.\n",
    "\n",
    "Using the toolkit requires a reasonable working knowledge of Python which hopefully by studying the [preceeding exercises](https://brainsteam.co.uk/wiki/public:phd:teaching:cs918) you will have by now.\n",
    "\n",
    "In this exercise we will use a number of the skills we have already examined to do some analysis on the [ART corpus](https://www.aber.ac.uk/en/cs/research/cb/projects/art/art-corpus/).\n",
    "\n",
    "## About the dataset\n",
    "\n",
    "If you have been through the XML exercise then you will already have been briefly introduced to the corpus. It consists of 225 biochemistry papers that have been broken up into individual sentences.\n",
    "\n",
    "Each sentence has also been annotated with a label that describes the core scientific concept (CoreSC) that the sentence encapsulates.\n",
    "\n",
    "For example, a sentence might be labelled \"Motivation\" if it explains why the author is carrying out a particular study or it might be labelled \"Hypothesis\" if it discusses expected results of a study. You can find out more about the annotation scheme specification [in this paper by Liakata et al. 2010](http://www.lrec-conf.org/proceedings/lrec2010/pdf/644_Paper.pdf).\n",
    "\n",
    "## What can we find out?\n",
    "\n",
    "Let's play with the data! We know that a particular sentence has a particular label. From this, can we make any assumptions about the words in the sentences? Are there some words that occur more frequently in some types of sentences?\n",
    "\n",
    "Let's find out...\n",
    "\n",
    "## Preparing the data\n",
    "\n",
    "The first thing we need to do is extract a list of sentences and their respective CoreSC label. I have downloaded the ART corpus `tar.gz` file and placed it in the assets folder in this project. The following code iterates over the contained folders, finding all XML files and parsing them.\n",
    "\n",
    "First we import requisite libraries..."
   ]
  },
  {
   "cell_type": "code",
   "execution_count": 1,
   "metadata": {
    "collapsed": false
   },
   "outputs": [],
   "source": [
    "import nltk\n",
    "import os #we haven't used this one before. Check out the docs https://docs.python.org/3/library/os.html\n",
    "from multiprocessing import Pool # we will be using this to speed up some of the longer processing loops\n",
    "import xml.etree.ElementTree as ET"
   ]
  },
  {
   "cell_type": "markdown",
   "metadata": {},
   "source": [
    "We define a function for parsing the paper, extracting sentences and returning a list of tuples (sentence text,label)\n"
   ]
  },
  {
   "cell_type": "code",
   "execution_count": 2,
   "metadata": {
    "collapsed": true
   },
   "outputs": [],
   "source": [
    "def extract_paper(filename):\n",
    "    \n",
    "    #open and parse the paper\n",
    "    tree = ET.parse(filename)\n",
    "    root = tree.getroot()\n",
    "    \n",
    "    sents = []\n",
    "    \n",
    "    #iterate through sentences\n",
    "    for sent in root.iter(\"s\"):\n",
    "        annoArt = sent.find('annotationART')\n",
    "        id = sent.get(\"sid\")\n",
    "        text = \"\".join(annoArt.itertext())\n",
    "        coreSC = annoArt.get(\"type\")\n",
    "        sents.append( (filename, id, text,coreSC) )\n",
    "    \n",
    "    return sents\n"
   ]
  },
  {
   "cell_type": "markdown",
   "metadata": {},
   "source": [
    "We iterate through all papers in the ART corpus using [`os.walk`](https://docs.python.org/3/library/os.html#os.walk) which recursively steps through all files and subdirectories in a given directory, allowing you to process any file of interest."
   ]
  },
  {
   "cell_type": "code",
   "execution_count": 3,
   "metadata": {
    "collapsed": false
   },
   "outputs": [
    {
     "name": "stdout",
     "output_type": "stream",
     "text": [
      "Inspected 225 files\n",
      "Collected 34680 sentences\n"
     ]
    }
   ],
   "source": [
    "art_path = \"assets/ART_Corpus\"\n",
    "\n",
    "all_sents = []\n",
    "\n",
    "filecount = 0\n",
    "\n",
    "# this layer of the for loop iterates through each subdirectory of the given path\n",
    "# producing a list of directories and files in that immediate directory.\n",
    "# root represents the (sub)directory currently being inspected\n",
    "for root, dirs, files in os.walk(art_path):\n",
    "    \n",
    "    #we loop through the list of files in the current subdirectory\n",
    "    for file in files:\n",
    "        \n",
    "        if file.endswith(\".xml\"):\n",
    "            filecount += 1\n",
    "            #we use os.path.join to concatenate the directory name and file name safely\n",
    "            #with respect to slashes in the path\n",
    "            fullpath = os.path.join(root,file)\n",
    "            \n",
    "            #we parse the file and keep the sentences\n",
    "            all_sents += extract_paper(fullpath)\n",
    "            \n",
    "#lets get a total count of sentences collected and files examined\n",
    "print(\"Inspected {} files\".format(filecount))\n",
    "print (\"Collected {} sentences\".format(len(all_sents)))\n"
   ]
  },
  {
   "cell_type": "markdown",
   "metadata": {},
   "source": [
    "As a sanity check, let's inspect 5 sentences in the array and make sure that they are of the format (filename, id, some text, coresc). We use the standard library module [`random`](https://docs.python.org/3.0/library/random.html) to pick 5 from the list at random. "
   ]
  },
  {
   "cell_type": "code",
   "execution_count": 4,
   "metadata": {
    "collapsed": false
   },
   "outputs": [
    {
     "name": "stdout",
     "output_type": "stream",
     "text": [
      "('assets/ART_Corpus/ann2/b401234h_mode2.xml', '68', 'For example, when V ≠ 0 eqn. (14) implies ∂\\ue0cd/∂x ≠ 0 at all x ≠ L, so that a steady-state current flows in the system.', 'Met')\n",
      "('assets/ART_Corpus/ann6/b316053j_mode2.xml', '19', 'A high repetition rate is also required for multiple photon absorption leading to dissociation during ion trapping times.', 'Bac')\n",
      "('assets/ART_Corpus/ann7/b407500e_mode2.xml', '76', 'We rationalized these findings by positing a switch in the mode of proton and electron transfer at the S2 stage of the cycle, a change activated by the positive charge developed on the OEC in the S1 → S2 transition.10', 'Bac')\n",
      "('assets/ART_Corpus/ann4/b312242e_mode2.xml', '122', 'Comparison of Table 5 with Table 6 (which contains analogous data for the systems restricted to 90°) reveals that in all cases the relaxation of the 90° restriction produces larger P1–M1–M2–P2, significantly bigger interaction energies and, in almost all cases, smaller r(M–M).', 'Res')\n",
      "('assets/ART_Corpus/ann8/b411044g_mode2.xml', '9', 'The overflowing cylinder provides an extremely stable, continuously expanding, air–water interface with a surface age in the range of 0.1–1 s.', 'Bac')\n"
     ]
    }
   ],
   "source": [
    "import random\n",
    "\n",
    "randsents = random.sample(all_sents,5)\n",
    "\n",
    "for senttuple in randsents:\n",
    "    print (senttuple)"
   ]
  },
  {
   "cell_type": "markdown",
   "metadata": {},
   "source": [
    "This looks right. Out of curiosity, lets see how many of each CoreSC type there are and plot a Pie chart using matplotlib.\n"
   ]
  },
  {
   "cell_type": "code",
   "execution_count": 5,
   "metadata": {
    "collapsed": false
   },
   "outputs": [
    {
     "data": {
      "image/png": "[encoded data removed]",
      "text/plain": [
       "<matplotlib.figure.Figure at 0x7fd37979f940>"
      ]
     },
     "metadata": {},
     "output_type": "display_data"
    }
   ],
   "source": [
    "%matplotlib inline\n",
    "import matplotlib.pyplot as plt\n",
    "\n",
    "#read about the counter object on the \n",
    "#collections doc page (https://docs.python.org/3/library/collections.html#collections.Counter)\n",
    "from collections import Counter \n",
    "\n",
    "lbl_tally = Counter([ lbl for file, id, text, lbl in all_sents])\n",
    "\n",
    "total = len(all_sents)\n",
    "\n",
    "percentages = { x: (lbl_tally[x] / total * 100) for x in lbl_tally }\n",
    "\n",
    "labels = [ x for x in percentages.keys() ]\n",
    "values = [ percentages[x] for x in labels]\n",
    "\n",
    "plt.pie(values, \n",
    "        labels=labels, \n",
    "        labeldistance=1.3,\n",
    "        autopct=\"%1.1f%%\", \n",
    "        pctdistance=1.1,\n",
    "        colors=[\"white\",\"green\",\"yellow\",\"blue\",\"red\", \"purple\", \"orange\",\"pink\",\"grey\",\"lightblue\"])\n",
    "plt.show()"
   ]
  },
  {
   "cell_type": "markdown",
   "metadata": {},
   "source": [
    "So we see that there is quite a lot of variation in the types of sentences and their respective representation within the corpus. Results takes up around a fifth of the total number of sentences and hypothesis a measly 1.9%.\n",
    "\n",
    "We need to remember this in our experiments - all CoreSCs are not born equal - some are more likely to occur than others."
   ]
  },
  {
   "cell_type": "markdown",
   "metadata": {},
   "source": [
    "## Word distributions\n",
    "\n",
    "Let's look at which words are most likely to occur in different sentence types. We build a dictionary of words by parsing and tokenizing every single sentence in our collection. We store a record of each word's occurence in each CoreSC so that we can build a frequency distribution table later. We will depend upon NLTK heavily for this work.\n",
    "\n",
    "### Tokenizing sentences\n",
    "First we use `nltk.word_tokenize` to break down each sentence into a series of \"words\" and build a dictionary. Then we examine the top 10 words."
   ]
  },
  {
   "cell_type": "code",
   "execution_count": 6,
   "metadata": {
    "collapsed": false
   },
   "outputs": [
    {
     "name": "stdout",
     "output_type": "stream",
     "text": [
      "[('the', 68837), (',', 39491), ('of', 37264), ('.', 35687), ('and', 22079), (')', 20407), ('(', 20394), ('in', 18974), ('to', 17391), ('a', 14400)]\n"
     ]
    }
   ],
   "source": [
    "dictionary = Counter()\n",
    "\n",
    "for file, id, text, lbl in all_sents:\n",
    "    \n",
    "    words = nltk.word_tokenize(text)\n",
    "    dictionary.update(words)\n",
    "    \n",
    "print(dictionary.most_common(10))"
   ]
  },
  {
   "cell_type": "markdown",
   "metadata": {
    "collapsed": true
   },
   "source": [
    "### Filtering out common words\n",
    "\n",
    "Unsurprisingly, the most common word is 'the' and second most common is 'of'. In fact there really aren't any surprises. \n",
    "\n",
    "In natural language processing, these are what we call \"stopwords\" and they are typically filtered out before we do anything interesting with the data to remove excess noise. After all, we already know that 'the' etc are common words - we aren't interested in this.\n",
    "\n",
    "NLTK comes, by default, with a set of stopwords we can use to filter on. It does not incorporate punctutation so we manually append '.' and ',' to the stopwords list. We also append 'Fig' to the stoplist since this is commonly used throughout many of the papers to represent \"figure\" as in \"look at Fig 1 to see...\""
   ]
  },
  {
   "cell_type": "code",
   "execution_count": 7,
   "metadata": {
    "collapsed": false
   },
   "outputs": [
    {
     "name": "stdout",
     "output_type": "stream",
     "text": [
      "There are 2439 stopwords\n"
     ]
    }
   ],
   "source": [
    "from nltk.corpus import stopwords as stopwordloader\n",
    "\n",
    "stopwords = stopwordloader.words()\n",
    "\n",
    "stopwords.extend(['.',',',')','(',':','+','=','fig'])\n",
    "\n",
    "print (\"There are {} stopwords\".format(len(stopwords)))"
   ]
  },
  {
   "cell_type": "markdown",
   "metadata": {},
   "source": [
    "This modified next step could take a bit longer because Python now has to run a filter operation on every single word."
   ]
  },
  {
   "cell_type": "code",
   "execution_count": 9,
   "metadata": {
    "collapsed": false
   },
   "outputs": [
    {
     "name": "stdout",
     "output_type": "stream",
     "text": [
      "[('1', 2664), ('energy', 2323), ('two', 1988), ('2', 1962), ('state', 1588), ('using', 1543), ('surface', 1505), ('used', 1472), ('observed', 1402), ('reaction', 1391)]\n"
     ]
    }
   ],
   "source": [
    "dictionary = Counter()\n",
    "\n",
    "p = Pool()\n",
    "\n",
    "def wordcount(sentence):\n",
    "    \n",
    "    wc = Counter()\n",
    "    \n",
    "    file, id, text, lbl = sentence\n",
    "    \n",
    "    words = [ word for word in nltk.word_tokenize(text) if word.lower() not in stopwords ]\n",
    "    wc.update(words)\n",
    "    \n",
    "    return wc, lbl\n",
    " \n",
    "for wc, lbl in p.map(wordcount, all_sents):\n",
    "    dictionary.update(wc)\n",
    "    \n",
    "print(dictionary.most_common(10))"
   ]
  },
  {
   "cell_type": "markdown",
   "metadata": {},
   "source": [
    "This is much more interesting, we can see that the top words all look much more relevent to the biochemistry domain and there are no longer any punctuation marks in the list.\n",
    "\n",
    "Now we attempt to capture the most common words in each separate CoreSC. We initialise counters for each CoreSC label.\n"
   ]
  },
  {
   "cell_type": "code",
   "execution_count": 11,
   "metadata": {
    "collapsed": false
   },
   "outputs": [
    {
     "name": "stdout",
     "output_type": "stream",
     "text": [
      "Top 5 words for Bac\n",
      "[('state', 402), ('energy', 401), ('two', 361), ('structure', 329), ('reaction', 310)]\n",
      "Top 5 words for Hyp\n",
      "[('may', 91), ('expected', 88), ('would', 78), ('state', 52), ('energy', 46)]\n",
      "Top 5 words for Obs\n",
      "[('1', 601), ('2', 501), ('shown', 433), ('Table', 403), ('shows', 373)]\n",
      "Top 5 words for Met\n",
      "[('used', 352), ('using', 345), ('1', 243), ('energy', 233), ('method', 188)]\n",
      "Top 5 words for Res\n",
      "[('1', 558), ('energy', 548), ('two', 507), ('2', 485), ('observed', 484)]\n",
      "Top 5 words for Mod\n",
      "[('1', 421), ('energy', 398), ('eqn', 370), ('[', 319), (']', 316)]\n",
      "Top 5 words for Mot\n",
      "[('important', 39), ('interest', 37), ('reaction', 32), ('studies', 30), ('molecular', 28)]\n",
      "Top 5 words for Goa\n",
      "[('order', 59), ('study', 58), ('using', 57), ('present', 52), ('work', 46)]\n",
      "Top 5 words for Obj\n",
      "[('using', 99), ('study', 91), ('two', 81), ('present', 81), ('results', 79)]\n",
      "Top 5 words for Exp\n",
      "[('1', 360), ('%', 354), ('using', 333), ('used', 300), ('laser', 242)]\n",
      "Top 5 words for Con\n",
      "[('results', 243), ('energy', 237), ('may', 211), ('state', 194), ('two', 173)]\n"
     ]
    }
   ],
   "source": [
    "counters = { x: Counter() for x in set([lbl for file, id, text, lbl in all_sents]) }\n",
    "\n",
    "p = Pool()\n",
    " \n",
    "for wc, lbl in p.map(wordcount, all_sents):\n",
    "    counters[lbl].update(wc)\n",
    "    \n",
    "for lbl in counters:\n",
    "    print(\"Top 5 words for {}\".format(lbl))\n",
    "    print(counters[lbl].most_common(5))"
   ]
  },
  {
   "cell_type": "markdown",
   "metadata": {},
   "source": [
    "### TD/IDF\n",
    "\n",
    "You can see that there is a lot of crossover for some of these words - 'droplet' appears in the top 5 for 8 of the 10 CoreSC concepts represented in the ART corpus. What would be more interesting is a list of the top words that appear in a CoreSC **and** that are mostly distinct to that CoreSC.\n",
    "\n",
    "Here we use a measurement called Term Frequency-Intra-Document Frequency (TF-IDF). The Term Frequency (TF) is the number of times a term appears in the document (or CoreSC) you are inspecting. The Intra-Document Frequency (IDF) is the specivity of the term or word. By multiplying TF by IDF we identify how 'unique' the term is to the document under scrutiny. \n",
    "\n",
    "A high TF-IDF suggests that the word or term is very relevent to the current document. A low TF-IDF suggests that the word is common across the whole corpus. \n",
    "\n",
    "Here we use this principle to identify which words in the dictionary are most relevent when working with a specific CoreSC category.\n",
    "\n",
    "TF is normally just calculated as the frequency of the term within the document you are interested in. However if one document is longer than the rest (or in our case one CoreSC is represented more strongly than another) then words in that class (i.e. words in Background (Bac) will probably have a stronger natural TF than words in Methodology (Met) purely because Background forms 28% of the corpus and Methodology just over 1%. In order to normalise this, we use augmented frequency defined as:\n",
    "\n",
    "$$ tf(t,d) = 0.5 + 0.5 \\frac { f_{t,d} } { max\\{ f_{t',d} : t' \\in d \\}  } $$\n",
    "\n",
    "We are dividing the raw frequency $f_{t,d}$ by the maximum raw frequency of any term in the CoreSC category.\n",
    "\n",
    "NB: TF-IDF can also be used to identify and filter out stopwords. However, by removing common stopwords using a list as we did in the steps above, we have reduced the complexity of the calculations pre-emptively and hopefully reduced overall noise."
   ]
  },
  {
   "cell_type": "code",
   "execution_count": 22,
   "metadata": {
    "collapsed": false
   },
   "outputs": [],
   "source": [
    "import math \n",
    "from multiprocessing import Pool\n",
    "\n",
    "tfidfs =  { label : {} for label in counters }\n",
    "\n",
    "max_ftds = { label : counters[label].most_common(1)[0][1] for label in counters }\n",
    "\n",
    "def tf(word, coresc):\n",
    "    global max_ftds\n",
    "    f_td = max_ftds[coresc]\n",
    "    return 0.5 + (0.5 * counters[coresc][word] / f_td)\n",
    "\n",
    "def idf(word):\n",
    "    N = len(counters) \n",
    "    return math.log(N / sum([1 for x in counters if word in counters[x]]) )\n",
    "\n",
    "idfs = { word: idf(word) for word in dictionary }\n"
   ]
  },
  {
   "cell_type": "code",
   "execution_count": 25,
   "metadata": {
    "collapsed": false
   },
   "outputs": [
    {
     "name": "stdout",
     "output_type": "stream",
     "text": [
      "Con [('δCCSD', 1.2285512817423752), ('μ-O2CR', 1.2186833999613118), ('operando', 1.2186833999613118), ('corroborates', 1.2137494590707802), ('intermittent', 1.2137494590707802), ('H–π', 1.2137494590707802), ('cofacial', 1.2137494590707802), ('Tafel–Volmer', 1.2137494590707802), ('Concluding', 1.2137494590707802), ('CH2NO2', 1.2137494590707802)]\n",
      "------------------------------------\n",
      "Bac [('LiAlH4', 1.23175466127578), ('Mo-nitrogenase', 1.2257897476618536), ('catalyzes', 1.2257897476618536), ('cyanobacteria', 1.2228072908548904), ('reviews', 1.2198248340479274), ('TiCl4', 1.2198248340479274), ('FeMo', 1.2198248340479274), ('haem', 1.2198248340479274), ('thylakoid', 1.2198248340479274), ('1985', 1.2198248340479274)]\n",
      "------------------------------------\n",
      "Met [('DF/LIF', 1.2159781425980374), ('Mandelshtam', 1.2159781425980374), ('TaqMan®', 1.2159781425980374), ('quantitation', 1.212572041358267), ('isoxazoline', 1.212572041358267), ('citrate-type', 1.212572041358267), ('F0', 1.212572041358267), ('GMG', 1.212572041358267), ('x–y', 1.212572041358267), ('MGB', 1.212572041358267)]\n",
      "------------------------------------\n",
      "Obs [('TiO2/Ru2phenTPyP', 1.210917163551257), ('±0.4', 1.2089222423592452), ('kJmol−1', 1.2089222423592452), ('rose', 1.2069273211672331), ('resonated', 1.2069273211672331), ('1470', 1.2069273211672331), ('00080', 1.2069273211672331), ('N–O-', 1.2069273211672331), ('1113', 1.2069273211672331), ('∼22', 1.2069273211672331)]\n",
      "------------------------------------\n",
      "Res [('/T', 1.244069321640015), ('microvoids', 1.2290287598930716), ('s2', 1.2247314565368022), ('–H1', 1.2225828048586673), ('10−34', 1.218285501502398), ('8-oxoG˙+', 1.216136849824263), ('H⋯H', 1.216136849824263), ('site’', 1.216136849824263), ('νCO', 1.216136849824263), ('g6,7', 1.2139881981461287)]\n",
      "------------------------------------\n",
      "Hyp [('Ω″', 1.2779991289090218), ('−*', 1.2384733826541037), ('deacylation', 1.225298133902464), ('non-charged', 1.225298133902464), ('Mm⋯', 1.225298133902464), ('variances', 1.225298133902464), ('synthases', 1.225298133902464), ('log-transformed', 1.225298133902464), ('kinases', 1.225298133902464), ('reacylation', 1.225298133902464)]\n",
      "------------------------------------\n",
      "Mot [('scientifically', 1.2604321305735027), ('Particularly', 1.2604321305735027), ('fibrous', 1.2604321305735027), ('puzzling', 1.2604321305735027), ('photodynamics', 1.2604321305735027), ('“accessory”', 1.229689883486344), ('Tweezing', 1.229689883486344), ('households', 1.229689883486344), ('Counting', 1.229689883486344), ('family12–14', 1.229689883486344)]\n",
      "------------------------------------\n",
      "Goa [('…σgπuπg*σu*', 1.259911075538127), ('α-alumina', 1.2395899291584795), ('phenanthryl', 1.2395899291584795), ('Species', 1.2395899291584795), ('“near-spectroscopic”', 1.2395899291584795), ('acenaphthyl', 1.2395899291584795), ('fibre-based', 1.2395899291584795), ('propagations', 1.2395899291584795), ('to-date', 1.2192687827788324), ('11–40', 1.2192687827788324)]\n",
      "------------------------------------\n",
      "Obj [('+Ar', 1.2473899651425868), ('Gaussian-3', 1.2352793829567363), ('Mm-phenyl', 1.2352793829567363), ('D3d', 1.2352793829567363), ('glycyltryptophanyl', 1.2352793829567363), ('sono-voltammetry', 1.2352793829567363), ('4.1.5.2', 1.2352793829567363), ('Tafel–Heyrovsky–Volmer', 1.2352793829567363), ('1,6,8-trioxadispiro', 1.2352793829567363), ('battery', 1.2231688007708859)]\n",
      "------------------------------------\n",
      "Mod [('microconstant', 1.2331219158214901), ('Substituting', 1.2274262025844391), ('orbit', 1.2245783459659139), ('x1', 1.2245783459659139), ('ζj', 1.2245783459659139), ('ψel', 1.2245783459659139), ('Etot', 1.2245783459659139), ('n3l3', 1.2217304893473884), ('s|s0', 1.2217304893473884), ('ρvib', 1.218882632728863)]\n",
      "------------------------------------\n",
      "Exp [('CH=CHCH2', 1.4120938828701517), ('quat.', 1.3987722424657163), ('ArH', 1.3754593717579542), ('CH2CHO', 1.35880732125241), ('SitBuPh2', 1.3321640404435393), ('MH+', 1.3055207596346683), ('CHMe', 1.2788774788257977), ('CH2CH2', 1.2788774788257977), ('CH2CH2O', 1.2755470687246888), ('SiArH', 1.27221665862358)]\n",
      "------------------------------------\n"
     ]
    }
   ],
   "source": [
    "import itertools\n",
    "\n",
    "tfidf = lambda word,coresc: tf(word,coresc) * idfs[word]\n",
    "    \n",
    "def mappable_tfidf(word):\n",
    "    for coresc in counters:\n",
    "        yield (coresc,word,tfidf(word,coresc))\n",
    "        \n",
    "for coresc, word, tfidf_val in itertools.chain(*map(mappable_tfidf, dictionary.keys() )):\n",
    "    tfidfs[coresc][word] = tfidf_val\n",
    "    \n",
    "for coresc in tfidfs:\n",
    "    topwords = sorted(tfidfs[coresc], key= lambda x: tfidfs[coresc][x], reverse=True)[0:10] \n",
    "    topscores = [ (word, tfidfs[coresc][word]) for word in topwords ]\n",
    "    print ( coresc, topscores )\n",
    "    print (\"------------------------------------\")"
   ]
  },
  {
   "cell_type": "markdown",
   "metadata": {
    "collapsed": true
   },
   "source": [
    "This is now becoming rather interesting. We can see that the words TF-IDF identifies as most important for each CoreSC seem to fit the CoreSC context quite well.\n",
    "\n",
    "For example, the most pertinent words in the \"Conclusion\" class are things like \"corroborates\", \"intermittent\" and \"concluding\" which are words you might expect to find in a conclusion. The \"model section\" has words like \"orbit\" and \"substituting\" which you might expect to find in a definition of a scientific model.\n",
    "\n",
    "## Classifying text\n",
    "\n",
    "We can be fairly sure from the above experiment that the words in a sentence are a good indicator as to which CoreSC it belongs to. It logically follows that a sentence containing multiple words with a high TF-IDF for one particular category is likely to belong to that category.\n",
    "\n",
    "We can try training a machine learning classifier to predict which CoreSC a sentence belongs to.\n",
    "\n",
    "### Data preparation\n",
    "\n",
    "We want to train the classifier on a representative set of the sentences available. However we want to avoid showing the classifier all of the data so that we have something to test it with later. Here we will split the data into two subsets: a training set and a testing set. We will use 4/5 of the sentences for training and 1/5 for testing. "
   ]
  },
  {
   "cell_type": "code",
   "execution_count": 58,
   "metadata": {
    "collapsed": false
   },
   "outputs": [
    {
     "name": "stdout",
     "output_type": "stream",
     "text": [
      "Hyp 656\n",
      "Training set 524\n",
      "Test set 132\n",
      "------------------\n",
      "Bac 6657\n",
      "Training set 5325\n",
      "Test set 1332\n",
      "------------------\n",
      "Met 3751\n",
      "Training set 3000\n",
      "Test set 751\n",
      "------------------\n",
      "Obs 4659\n",
      "Training set 3727\n",
      "Test set 932\n",
      "------------------\n",
      "Goa 548\n",
      "Training set 438\n",
      "Test set 110\n",
      "------------------\n",
      "Res 7373\n",
      "Training set 5898\n",
      "Test set 1475\n",
      "------------------\n",
      "Mot 466\n",
      "Training set 372\n",
      "Test set 94\n",
      "------------------\n",
      "Con 3083\n",
      "Training set 2466\n",
      "Test set 617\n",
      "------------------\n",
      "Obj 1190\n",
      "Training set 952\n",
      "Test set 238\n",
      "------------------\n",
      "Mod 3456\n",
      "Training set 2764\n",
      "Test set 692\n",
      "------------------\n",
      "Exp 2841\n",
      "Training set 2272\n",
      "Test set 569\n",
      "------------------\n"
     ]
    }
   ],
   "source": [
    "sent_groups = {}\n",
    "train_sets = {}\n",
    "test_sets = {}\n",
    "\n",
    "for file, id, text, lbl in all_sents:\n",
    "    \n",
    "    if lbl not in sent_groups:\n",
    "        sent_groups[lbl] = []\n",
    "        \n",
    "    sent_groups[lbl].append((id,text))\n",
    "    \n",
    "for lbl in sent_groups:\n",
    "    print(lbl,len(sent_groups[lbl]))\n",
    "    \n",
    "    train_proportion = len(sent_groups[lbl]) * 4 // 5\n",
    "    \n",
    "    all_examples = range(len(sent_groups[lbl]))\n",
    "    \n",
    "    train_idxs = random.sample(all_examples, train_proportion)\n",
    "    \n",
    "    test_idxs = set(all_examples) - set(train_idxs)\n",
    "    \n",
    "    train_sets[lbl] = [ sent_groups[lbl][x] for x in train_idxs ]    \n",
    "    test_sets[lbl] = [ sent_groups[lbl][x] for x in test_idxs ]\n",
    "\n",
    "    \n",
    "    print(\"Training set\", len(train_sets[lbl]))\n",
    "    print(\"Test set\", len(test_sets[lbl]))\n",
    "    print(\"------------------\")\n",
    "    \n",
    "    "
   ]
  },
  {
   "cell_type": "code",
   "execution_count": 63,
   "metadata": {
    "collapsed": false
   },
   "outputs": [
    {
     "name": "stdout",
     "output_type": "stream",
     "text": [
      "0.343272832036877\n",
      "Most Informative Features\n",
      "             may in sent = True              Hyp : Exp    =    203.5 : 1.0\n",
      "        expected in sent = True              Hyp : Exp    =    189.1 : 1.0\n",
      "        interest in sent = True              Mot : Obs    =    183.2 : 1.0\n",
      "              mg in sent = True              Exp : Res    =    115.1 : 1.0\n",
      "     investigate in sent = True              Goa : Res    =    110.2 : 1.0\n"
     ]
    }
   ],
   "source": [
    "import itertools\n",
    "\n",
    "from nltk.classify.util import apply_features\n",
    "\n",
    "def extract_features(sent):\n",
    "    id,text = sent\n",
    "    features = {}\n",
    "    for word in nltk.word_tokenize(text):\n",
    "        features['{} in sent'.format(word)] = True\n",
    "    return features\n",
    "        \n",
    "training_sentences = list(itertools.chain(*[ [ (sent,coresc) for sent in sents] for coresc,sents in train_sets.items() ]))\n",
    "\n",
    "test_sentences =  list(itertools.chain(*[ [ (sent,coresc) for sent in sents] for coresc,sents in test_sets.items() ]))\n",
    "\n",
    "classifier = nltk.NaiveBayesClassifier.train(apply_features(extract_features, training_sentences,labeled=True) )\n",
    "\n",
    "print(nltk.classify.accuracy(classifier, apply_features(extract_features, test_sentences,labeled=True)))\n",
    "\n",
    "classifier.show_most_informative_features(5)"
   ]
  },
  {
   "cell_type": "markdown",
   "metadata": {},
   "source": [
    "So we're immediately able to classify 34.32% of the sentences into the correct CoreSC off the bat. Different CoreSCs are more likely to occur in different locations within a paper. For example most papers start with Background information and end with a conclusion. We next add paper position (based off sentence ID) to see if that improves classification."
   ]
  },
  {
   "cell_type": "code",
   "execution_count": 80,
   "metadata": {
    "collapsed": false
   },
   "outputs": [
    {
     "name": "stdout",
     "output_type": "stream",
     "text": [
      "0.35767790262172283\n",
      "Most Informative Features\n",
      "       position_in_paper = '1'               Obj : Bac    =    436.2 : 1.0\n",
      "             may in sent = True              Hyp : Exp    =    203.5 : 1.0\n",
      "        expected in sent = True              Hyp : Exp    =    189.1 : 1.0\n",
      "        interest in sent = True              Mot : Obs    =    183.2 : 1.0\n",
      "              mg in sent = True              Exp : Res    =    115.1 : 1.0\n",
      "     investigate in sent = True              Goa : Res    =    110.2 : 1.0\n",
      "          should in sent = True              Hyp : Exp    =    110.0 : 1.0\n",
      "          likely in sent = True              Hyp : Obs    =    101.8 : 1.0\n",
      "   understanding in sent = True              Mot : Res    =     97.1 : 1.0\n",
      "      importance in sent = True              Mot : Obs    =     96.6 : 1.0\n"
     ]
    }
   ],
   "source": [
    "import itertools\n",
    "\n",
    "from nltk.classify.util import apply_features\n",
    "\n",
    "def extract_features(sent):\n",
    "    id,text = sent\n",
    "    features = {}\n",
    "    features['position_in_paper'] = id\n",
    "    for word in nltk.word_tokenize(text):\n",
    "        features['{} in sent'.format(word)] = True\n",
    "    return features\n",
    "        \n",
    "classifier = nltk.NaiveBayesClassifier.train(apply_features(extract_features, training_sentences,labeled=True) )\n",
    "\n",
    "print(nltk.classify.accuracy(classifier, apply_features(extract_features, test_sentences,labeled=True)))\n",
    "\n",
    "classifier.show_most_informative_features(10)"
   ]
  },
  {
   "cell_type": "markdown",
   "metadata": {},
   "source": [
    "This has in fact been a slight improvement of around 1.4%. We can visualise the incorrect classifications using a confusion matrix - this is a common way to inspect which classes are being confused most. \n",
    "\n"
   ]
  },
  {
   "cell_type": "code",
   "execution_count": 84,
   "metadata": {
    "collapsed": false
   },
   "outputs": [
    {
     "name": "stdout",
     "output_type": "stream",
     "text": [
      "    |   R   B   O   M   M   C   E   O   H   G   M |\n",
      "    |   e   a   b   e   o   o   x   b   y   o   o |\n",
      "    |   s   c   s   t   d   n   p   j   p   a   t |\n",
      "----+---------------------------------------------+\n",
      "Res |<545> 10  97  16  82 233  11   6 279 128  68 |\n",
      "Bac | 112<157> 15  27  74 147  11  20 250 209 310 |\n",
      "Obs | 241   3<352> 11  65  50  28   4  88  64  26 |\n",
      "Met |  34  17  10<115> 99  46  77  17  57 188  91 |\n",
      "Mod |  32   4  11  18<384> 32  12   7  89  86  17 |\n",
      "Con |  66   5   5   6  14<216>  2   3 144  71  85 |\n",
      "Exp |   5   1  12  24  16   .<430>  5  15  50  11 |\n",
      "Obj |   6   2   1   4  19  13   6 <55>  9  95  28 |\n",
      "Hyp |   5   .   .   .   5  18   .   . <79>  9  16 |\n",
      "Goa |   1   .   1   3   3   5   2   4   3 <76> 12 |\n",
      "Mot |   1   1   .   .   1   5   .   1   7   4 <74>|\n",
      "----+---------------------------------------------+\n",
      "(row = reference; col = test)\n",
      "\n"
     ]
    }
   ],
   "source": [
    "gold = [ lbl for txt, lbl in test_sentences]\n",
    "\n",
    "test = [ classifier.classify(extract_features(txt)) for txt,lbl in test_sentences  ]\n",
    "\n",
    "cm = nltk.ConfusionMatrix(gold, test)\n",
    "\n",
    "print(cm.pretty_format(sort_by_count=True))"
   ]
  },
  {
   "cell_type": "code",
   "execution_count": null,
   "metadata": {
    "collapsed": true
   },
   "outputs": [],
   "source": []
  }
 ],
 "metadata": {
  "kernelspec": {
   "display_name": "Python 3",
   "language": "python",
   "name": "python3"
  },
  "language_info": {
   "codemirror_mode": {
    "name": "ipython",
    "version": 3
   },
   "file_extension": ".py",
   "mimetype": "text/x-python",
   "name": "python",
   "nbconvert_exporter": "python",
   "pygments_lexer": "ipython3",
   "version": "3.4.3"
  }
 },
 "nbformat": 4,
 "nbformat_minor": 0
}
