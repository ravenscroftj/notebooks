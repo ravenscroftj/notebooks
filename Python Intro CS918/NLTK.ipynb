{
 "cells": [
  {
   "cell_type": "markdown",
   "metadata": {},
   "source": [
    "# NLTK \n",
    "\n",
    "\n",
    "NLTK or Natural Language Toolkit is the *de-facto* standard python module for building and running natural language processing applications in the language.\n",
    "\n",
    "It consists of a collection of widely used datasets and algorithms for language processing applications such as tokenizers, part-of-speech taggers, stopword sets, standard text sets and trainable machine-learning algorithms.\n",
    "\n",
    "Using the toolkit requires a reasonable working knowledge of Python which hopefully by studying the [preceeding exercises](https://brainsteam.co.uk/wiki/public:phd:teaching:cs918) you will have by now.\n",
    "\n",
    "In this exercise we will use a number of the skills we have already examined to do some analysis on the [ART corpus](https://www.aber.ac.uk/en/cs/research/cb/projects/art/art-corpus/).\n",
    "\n",
    "## About the dataset\n",
    "\n",
    "If you have been through the XML exercise then you will already have been briefly introduced to the corpus. It consists of 225 biochemistry papers that have been broken up into individual sentences.\n",
    "\n",
    "Each sentence has also been annotated with a label that describes the core scientific concept (CoreSC) that the sentence encapsulates.\n",
    "\n",
    "For example, a sentence might be labelled \"Motivation\" if it explains why the author is carrying out a particular study or it might be labelled \"Hypothesis\" if it discusses expected results of a study. You can find out more about the annotation scheme specification [in this paper by Liakata et al. 2010](http://www.lrec-conf.org/proceedings/lrec2010/pdf/644_Paper.pdf).\n",
    "\n",
    "## What can we find out?\n",
    "\n",
    "Let's play with the data! We know that a particular sentence has a particular label. From this, can we make any assumptions about the words in the sentences? Are there some words that occur more frequently in some types of sentences?\n",
    "\n",
    "Let's find out...\n",
    "\n",
    "## Preparing the data\n",
    "\n",
    "The first thing we need to do is extract a list of sentences and their respective CoreSC label. I have downloaded the ART corpus `tar.gz` file and placed it in the assets folder in this project. The following code iterates over the contained folders, finding all XML files and parsing them.\n",
    "\n",
    "First we import requisite libraries..."
   ]
  },
  {
   "cell_type": "code",
   "execution_count": 1,
   "metadata": {
    "collapsed": false
   },
   "outputs": [],
   "source": [
    "import nltk\n",
    "import os #we haven't used this one before. Check out the docs https://docs.python.org/3/library/os.html\n",
    "\n",
    "import xml.etree.ElementTree as ET"
   ]
  },
  {
   "cell_type": "markdown",
   "metadata": {},
   "source": [
    "We define a function for parsing the paper, extracting sentences and returning a list of tuples (sentence text,label)\n"
   ]
  },
  {
   "cell_type": "code",
   "execution_count": 2,
   "metadata": {
    "collapsed": true
   },
   "outputs": [],
   "source": [
    "def extract_paper(filename):\n",
    "    \n",
    "    #open and parse the paper\n",
    "    tree = ET.parse(\"assets/b414459g_mode2.xml\")\n",
    "    root = tree.getroot()\n",
    "    \n",
    "    sents = []\n",
    "    \n",
    "    #iterate through sentences\n",
    "    for sent in root.iter(\"s\"):\n",
    "        annoArt = sent.find('annotationART')\n",
    "        id = sent.get(\"sid\")\n",
    "        text = \"\".join(annoArt.itertext())\n",
    "        coreSC = annoArt.get(\"type\")\n",
    "        sents.append( (filename, id, text,coreSC) )\n",
    "    \n",
    "    return sents\n"
   ]
  },
  {
   "cell_type": "markdown",
   "metadata": {},
   "source": [
    "We iterate through all papers in the ART corpus using [`os.walk`](https://docs.python.org/3/library/os.html#os.walk) which recursively steps through all files and subdirectories in a given directory, allowing you to process any file of interest."
   ]
  },
  {
   "cell_type": "code",
   "execution_count": 4,
   "metadata": {
    "collapsed": false
   },
   "outputs": [
    {
     "name": "stdout",
     "output_type": "stream",
     "text": [
      "Inspected 225 files\n",
      "Collected 16650 sentences\n"
     ]
    }
   ],
   "source": [
    "art_path = \"assets/ART_Corpus\"\n",
    "\n",
    "all_sents = []\n",
    "\n",
    "filecount = 0\n",
    "\n",
    "# this layer of the for loop iterates through each subdirectory of the given path\n",
    "# producing a list of directories and files in that immediate directory.\n",
    "# root represents the (sub)directory currently being inspected\n",
    "for root, dirs, files in os.walk(art_path):\n",
    "    \n",
    "    #we loop through the list of files in the current subdirectory\n",
    "    for file in files:\n",
    "        \n",
    "        if file.endswith(\".xml\"):\n",
    "            filecount += 1\n",
    "            #we use os.path.join to concatenate the directory name and file name safely\n",
    "            #with respect to slashes in the path\n",
    "            fullpath = os.path.join(root,file)\n",
    "            \n",
    "            #we parse the file and keep the sentences\n",
    "            all_sents += extract_paper(file)\n",
    "            \n",
    "#lets get a total count of sentences collected and files examined\n",
    "print(\"Inspected {} files\".format(filecount))\n",
    "print (\"Collected {} sentences\".format(len(all_sents)))"
   ]
  },
  {
   "cell_type": "markdown",
   "metadata": {},
   "source": [
    "As a sanity check, let's inspect 5 sentences in the array and make sure that they are of the format (filename, id, some text, coresc). We use the standard library module [`random`](https://docs.python.org/3.0/library/random.html) to pick 5 from the list at random. "
   ]
  },
  {
   "cell_type": "code",
   "execution_count": 5,
   "metadata": {
    "collapsed": false
   },
   "outputs": [
    {
     "name": "stdout",
     "output_type": "stream",
     "text": [
      "('b411798k_mode2.xml', '32', 'Köhler theory enables the equilibrium droplet size to be estimated at a particular relative humidity and for a given dry particle diameter.1', 'Bac')\n",
      "('b313922k_mode2.xml', '48', 'Successive modes of the same scattered polarisation, as indicated by the brackets, correspond to sequential integer values of the mode number, n.', 'Obs')\n",
      "('b316166h_mode2.xml', '54', 'Perhaps the most important issue to address is the influence of the laser on the droplet temperature through absorption.20', 'Obj')\n",
      "('b409641j_mode2.xml', '74', 'Not only can accurate measurements be made of droplet size, but the evolution of the chemical composition can be monitored by spontaneous and stimulated Raman scattering.', 'Con')\n",
      "('b315520j_mode2.xml', '11', 'When coupled with cavity enhanced Raman scattering (CERS), the size of the droplet can be determined with nanometre precision.4,5', 'Mot')\n"
     ]
    }
   ],
   "source": [
    "import random\n",
    "\n",
    "randsents = random.sample(all_sents,5)\n",
    "\n",
    "for senttuple in randsents:\n",
    "    print (senttuple)"
   ]
  },
  {
   "cell_type": "markdown",
   "metadata": {},
   "source": [
    "This looks right. Out of curiosity, lets see how many of each CoreSC type there are and plot a Pie chart using matplotlib.\n"
   ]
  },
  {
   "cell_type": "code",
   "execution_count": 39,
   "metadata": {
    "collapsed": false
   },
   "outputs": [
    {
     "data": {
      "image/png": "[encoded data removed]",
      "text/plain": [
       "<matplotlib.figure.Figure at 0x7f09c25bfc88>"
      ]
     },
     "metadata": {},
     "output_type": "display_data"
    }
   ],
   "source": [
    "%matplotlib inline\n",
    "import matplotlib.pyplot as plt\n",
    "\n",
    "#read about the counter object on the \n",
    "#collections doc page (https://docs.python.org/3/library/collections.html#collections.Counter)\n",
    "from collections import Counter \n",
    "\n",
    "lbl_tally = Counter([ lbl for file, id, text, lbl in all_sents])\n",
    "\n",
    "total = len(all_sents)\n",
    "\n",
    "percentages = { x: (lbl_tally[x] / total * 100) for x in lbl_tally }\n",
    "\n",
    "labels = [ x for x in percentages.keys() ]\n",
    "values = [ percentages[x] for x in labels]\n",
    "\n",
    "plt.pie(values, \n",
    "        labels=labels, \n",
    "        labeldistance=1.3,\n",
    "        autopct=\"%1.1f%%\", \n",
    "        pctdistance=1.1,\n",
    "        colors=[\"white\",\"green\",\"yellow\",\"blue\",\"red\", \"purple\", \"orange\",\"pink\",\"grey\",\"lightblue\"])\n",
    "plt.show()"
   ]
  },
  {
   "cell_type": "markdown",
   "metadata": {},
   "source": [
    "So we see that there is quite a lot of variation in the types of sentences and their respective representation within the corpus. Background takes up over a quarter of the total number of sentences and hypothesis a measly 1.4%.\n",
    "\n",
    "We need to remember this in our experiments - all CoreSCs are not born equal - some are more likely to occur than others."
   ]
  },
  {
   "cell_type": "markdown",
   "metadata": {},
   "source": [
    "## Word distributions\n",
    "\n",
    "Let's look at which words are most likely to occur in different sentence types. We build a dictionary of words by parsing and tokenizing every single sentence in our collection. We store a record of each word's occurence in each CoreSC so that we can build a frequency distribution table later. We will depend upon NLTK heavily for this work.\n",
    "\n",
    "### Tokenizing sentences\n",
    "First we use `nltk.word_tokenize` to break down each sentence into a series of \"words\" and build a dictionary. Then we examine the top 10 words."
   ]
  },
  {
   "cell_type": "code",
   "execution_count": 24,
   "metadata": {
    "collapsed": false
   },
   "outputs": [
    {
     "name": "stdout",
     "output_type": "stream",
     "text": [
      "[('the', 33975), ('of', 23850), (',', 18000), ('.', 13275), ('a', 12375), ('and', 10350), ('to', 9225), ('droplet', 7875), ('with', 7650), ('in', 7650)]\n"
     ]
    }
   ],
   "source": [
    "dictionary = Counter()\n",
    "\n",
    "for file, id, text, lbl in all_sents:\n",
    "    \n",
    "    words = nltk.word_tokenize(text)\n",
    "    dictionary.update(words)\n",
    "    \n",
    "print(dictionary.most_common(10))"
   ]
  },
  {
   "cell_type": "markdown",
   "metadata": {
    "collapsed": true
   },
   "source": [
    "### Filtering out common words\n",
    "\n",
    "Unsurprisingly, the most common word is 'the' and second most common is 'of'. In fact until we get down to 'droplet' there really aren't any surprises. After 'droplet' we have with and in which are also what you might consider \"common\" words in the English language. \n",
    "\n",
    "In natural language processing, these are what we call \"stopwords\" and they are typically filtered out before we do anything interesting with the data to remove excess noise. After all, we already know that 'the' etc are common words - we aren't interested in this.\n",
    "\n",
    "NLTK comes, by default, with a set of stopwords we can use to filter on. It does not incorporate punctutation so we manually append '.' and ',' to the stopwords list."
   ]
  },
  {
   "cell_type": "code",
   "execution_count": 30,
   "metadata": {
    "collapsed": false
   },
   "outputs": [
    {
     "name": "stdout",
     "output_type": "stream",
     "text": [
      "There are 2435 stopwords\n"
     ]
    }
   ],
   "source": [
    "from nltk.corpus import stopwords as stopwordloader\n",
    "\n",
    "stopwords = stopwordloader.words()\n",
    "\n",
    "stopwords.extend(['.',',',')','('])\n",
    "\n",
    "print (\"There are {} stopwords\".format(len(stopwords)))"
   ]
  },
  {
   "cell_type": "markdown",
   "metadata": {},
   "source": [
    "This modified next step could take a bit longer because Python now has to run a filter operation on every single word."
   ]
  },
  {
   "cell_type": "code",
   "execution_count": 33,
   "metadata": {
    "collapsed": false
   },
   "outputs": [
    {
     "name": "stdout",
     "output_type": "stream",
     "text": [
      "[('droplet', 7875), ('droplets', 4275), ('aerosol', 3825), ('water', 3600), ('size', 3375), ('laser', 3375), ('scattering', 3150), ('CERS', 2925), ('trap', 2250), ('two', 2250)]\n"
     ]
    }
   ],
   "source": [
    "dictionary = Counter()\n",
    "\n",
    "for file, id, text, lbl in all_sents:\n",
    "    \n",
    "    words = [ word for word in nltk.word_tokenize(text) if word.lower() not in stopwords ]\n",
    "    dictionary.update(words)\n",
    "    \n",
    "print(dictionary.most_common(10))"
   ]
  },
  {
   "cell_type": "markdown",
   "metadata": {},
   "source": [
    "This is much more interesting, we can see that the top words all look much more relevent to the biochemistry domain and there are no longer any punctuation marks in the list.\n",
    "\n",
    "Now we attempt to capture the most common words in each separate CoreSC. We initialise counters for each CoreSC label.\n"
   ]
  },
  {
   "cell_type": "code",
   "execution_count": 38,
   "metadata": {
    "collapsed": false
   },
   "outputs": [
    {
     "name": "stdout",
     "output_type": "stream",
     "text": [
      "Top 5 words for Mot\n",
      "[('droplet', 900), ('single', 900), ('two', 675), ('optical', 675), ('scattering', 675)]\n",
      "Top 5 words for Mod\n",
      "[('light', 450), ('absorbance', 450), ('particle', 450), ('refractive', 450), ('gravitational', 450)]\n",
      "Top 5 words for Obs\n",
      "[('droplets', 1350), ('water', 1125), ('Fig', 900), ('±', 675), ('scattering', 675)]\n",
      "Top 5 words for Obj\n",
      "[('droplet', 1125), ('aerosol', 450), ('droplets', 450), ('efficiencies', 225), ('size', 225)]\n",
      "Top 5 words for Con\n",
      "[('droplet', 900), ('CERS', 900), ('optical', 675), ('size', 450), ('power', 450)]\n",
      "Top 5 words for Exp\n",
      "[('aerosol', 1800), ('droplet', 1575), ('trap', 900), ('trapped', 900), ('nm', 675)]\n",
      "Top 5 words for Met\n",
      "[('three', 225), ('scenario', 225), ('vertical', 225), ('using', 225), ('achieved', 225)]\n",
      "Top 5 words for Hyp\n",
      "[('resonant', 450), ('droplet', 450), ('K.', 225), ('occur.21', 225), ('work', 225)]\n",
      "Top 5 words for Res\n",
      "[('trapping', 675), ('droplet', 675), ('temperature', 450), ('invariance', 450), ('temperature.5', 450)]\n",
      "Top 5 words for Bac\n",
      "[('size', 1350), ('droplet', 1350), ('scattering', 1125), ('force', 1125), ('wavelengths', 1125)]\n"
     ]
    }
   ],
   "source": [
    "counters = { x: Counter() for x in set([lbl for file, id, text, lbl in all_sents]) }\n",
    "\n",
    "for file, id, text, lbl in all_sents:\n",
    "    \n",
    "    words = [ word for word in nltk.word_tokenize(text) if word.lower() not in stopwords ]\n",
    "    counters[lbl].update(words)\n",
    "    \n",
    "for lbl in counters:\n",
    "    print(\"Top 5 words for {}\".format(lbl))\n",
    "    print(counters[lbl].most_common(5))"
   ]
  },
  {
   "cell_type": "markdown",
   "metadata": {},
   "source": [
    "### TD-IDF\n",
    "\n",
    "You can see that there is a lot of crossover for some of these words - 'droplet' appears in the top 5 for 8 of the 10 CoreSC concepts represented in the ART corpus. What would be more interesting is a list of the top words that appear in a CoreSC **and** that are mostly distinct to that CoreSC.\n",
    "\n",
    "Here we use a measurement called Term Frequency/Inverse Document Frequency (TF/IDF). \n",
    "\n",
    "Pioneered in information retrieval and search, this is a simple ratio that tells you how relevent a term, or in our case word, is in identifying a document, or again in our case a CoreSC.\n",
    "\n",
    "You might imagine that in searching a text corpus containing documents about banks and mortgages, the word \"money\" would come up a lot. "
   ]
  },
  {
   "cell_type": "code",
   "execution_count": null,
   "metadata": {
    "collapsed": true
   },
   "outputs": [],
   "source": []
  }
 ],
 "metadata": {
  "kernelspec": {
   "display_name": "Python 3",
   "language": "python",
   "name": "python3"
  },
  "language_info": {
   "codemirror_mode": {
    "name": "ipython",
    "version": 3
   },
   "file_extension": ".py",
   "mimetype": "text/x-python",
   "name": "python",
   "nbconvert_exporter": "python",
   "pygments_lexer": "ipython3",
   "version": "3.4.3"
  }
 },
 "nbformat": 4,
 "nbformat_minor": 0
}
