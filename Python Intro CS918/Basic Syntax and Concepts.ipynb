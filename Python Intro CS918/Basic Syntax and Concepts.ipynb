{
 "cells": [
  {
   "cell_type": "markdown",
   "metadata": {},
   "source": [
    "# CS918: Introduction to Python and iPython\n",
    "## Author: James Ravenscroft ( j.ravenscroft@warwick.ac.uk)\n",
    "\n",
    "\n",
    "## Python \n",
    "Python is a general purpose scripting language frequently used for data science and machine learning applications. It is open source and available on many different platforms (Windows, Mac OSX, Linux, Android and more)\n",
    "\n",
    "### Versions\n",
    "Currently the python foundation supports two different versions with slightly different syntax. We will be focussing on Python 3.X rather than the legacy 2.X family.\n",
    "\n",
    "### Basic Syntax\n",
    "\n",
    " * Python 3 looks like many other modern programming languages such as C, Java, PHP and Perl. \n",
    " * There are no semi-colons at the end of lines"
   ]
  },
  {
   "cell_type": "code",
   "execution_count": 6,
   "metadata": {
    "collapsed": false
   },
   "outputs": [
    {
     "name": "stdout",
     "output_type": "stream",
     "text": [
      "The answer is 3\n"
     ]
    }
   ],
   "source": [
    "# lines starting with a hash are comments\n",
    "x = 1 + 2 #here is a variable declaration\n",
    "print(\"The answer is\", x) #here is a function call to the function \"print\""
   ]
  },
  {
   "cell_type": "markdown",
   "metadata": {},
   "source": [
    "The language is whitespace sensitive - things should be indented to make them part of a function, class, if/else or loop."
   ]
  },
  {
   "cell_type": "code",
   "execution_count": 7,
   "metadata": {
    "collapsed": false
   },
   "outputs": [
    {
     "name": "stdout",
     "output_type": "stream",
     "text": [
      "incrementing i 5 times\n",
      "1\n",
      "2\n",
      "3\n",
      "4\n",
      "5\n",
      "decrementing i 5 times\n",
      "i is 5\n",
      "4\n",
      "3\n",
      "2\n",
      "1\n",
      "0\n"
     ]
    }
   ],
   "source": [
    "i = 0\n",
    "print(\"incrementing i 5 times\")\n",
    "while i < 5:\n",
    "    i += 1\n",
    "    print(i)\n",
    "    \n",
    "print (\"decrementing i 5 times\")\n",
    "\n",
    "while i > -1:\n",
    "    if i == 5:\n",
    "        print(\"i is 5\")\n",
    "    else:\n",
    "        print(i)\n",
    "    \n",
    "    i -= 1\n",
    "    \n"
   ]
  },
  {
   "cell_type": "markdown",
   "metadata": {},
   "source": [
    "------------------------------------------------\n",
    "\n",
    "## Python Data Types\n",
    "\n",
    "\n",
    "### Fundamental types\n",
    "We will work with 4 main \"basic\" types: strings, integers, floats and booleans."
   ]
  },
  {
   "cell_type": "code",
   "execution_count": 11,
   "metadata": {
    "collapsed": false
   },
   "outputs": [
    {
     "name": "stdout",
     "output_type": "stream",
     "text": [
      "String: hello world\n",
      "<class 'str'>\n",
      "\n",
      "----------------\n",
      "\n",
      "Int: 1\n",
      "<class 'int'>\n",
      "\n",
      "----------------\n",
      "\n",
      "Float: 1.235\n",
      "<class 'float'>\n",
      "\n",
      "----------------\n",
      "\n",
      "Bool: False\n",
      "<class 'bool'>\n"
     ]
    }
   ],
   "source": [
    "a_string = \"hello world\"\n",
    "print(\"String:\",a_string)\n",
    "print(type(a_string))\n",
    "\n",
    "print (\"\\n----------------\\n\")\n",
    "\n",
    "an_int = 1\n",
    "print(\"Int:\", an_int)\n",
    "print(type(an_int))\n",
    "\n",
    "print (\"\\n----------------\\n\")\n",
    "\n",
    "a_float = 1.235\n",
    "print(\"Float:\", a_float)\n",
    "print(type(a_float))\n",
    "\n",
    "print (\"\\n----------------\\n\")\n",
    "\n",
    "a_bool = False\n",
    "print(\"Bool:\",a_bool)\n",
    "print(type(a_bool))"
   ]
  },
  {
   "cell_type": "markdown",
   "metadata": {},
   "source": [
    "-------------------------------------------\n",
    "\n",
    "### Data structures/containers\n",
    "\n",
    "There are 4 built in \"complex\" data structures in python. \n",
    "\n",
    "#### List\n",
    "\n",
    "Lists are simply a mutable (editable) collection of python objects that can be edited and updated. Lists can contain multiple different types."
   ]
  },
  {
   "cell_type": "code",
   "execution_count": 13,
   "metadata": {
    "collapsed": false
   },
   "outputs": [
    {
     "name": "stdout",
     "output_type": "stream",
     "text": [
      "[1, 2, 3, 4, 5]\n",
      "<class 'list'>\n"
     ]
    }
   ],
   "source": [
    "alist = [1,2,3,4,5]\n",
    "\n",
    "print(alist)\n",
    "print(type(alist))\n"
   ]
  },
  {
   "cell_type": "code",
   "execution_count": 15,
   "metadata": {
    "collapsed": false
   },
   "outputs": [
    {
     "name": "stdout",
     "output_type": "stream",
     "text": [
      "['sometext', 1.234, 1, True, False]\n",
      "<class 'list'>\n"
     ]
    }
   ],
   "source": [
    "mixed = [\"sometext\", 1.234, 1, True, False]\n",
    "\n",
    "print(mixed)\n",
    "print(type(mixed))"
   ]
  },
  {
   "cell_type": "markdown",
   "metadata": {},
   "source": [
    "List items can be accessed and updated via python indexing syntax."
   ]
  },
  {
   "cell_type": "code",
   "execution_count": 17,
   "metadata": {
    "collapsed": false
   },
   "outputs": [
    {
     "name": "stdout",
     "output_type": "stream",
     "text": [
      "1.234\n",
      "['hello world', 1.234, 1, True, False]\n"
     ]
    }
   ],
   "source": [
    "print(mixed[1]) #should print 1.234\n",
    "\n",
    "#lets replace 'sometext' with 'hello world'\n",
    "mixed[0] = \"hello world\"\n",
    "\n",
    "print(mixed)"
   ]
  },
  {
   "cell_type": "markdown",
   "metadata": {},
   "source": [
    "You can append items to lists using the append method."
   ]
  },
  {
   "cell_type": "code",
   "execution_count": 18,
   "metadata": {
    "collapsed": false
   },
   "outputs": [
    {
     "name": "stdout",
     "output_type": "stream",
     "text": [
      "['hello world', 1.234, 1, True, False, 'testing']\n"
     ]
    }
   ],
   "source": [
    "mixed.append(\"testing\")\n",
    "print(mixed)"
   ]
  },
  {
   "cell_type": "markdown",
   "metadata": {},
   "source": [
    "#### List Slicing\n",
    "\n",
    "Python has syntax for specifying \"slices\" of lists that you want to work with.\n",
    "\n",
    "`varname[ start_index : end_index ] -> slice of list varname`\n",
    "\n",
    "The slice includes the item with index `start_index` and includes all elements until index `end_index`. The item with index `end_index` is excluded."
   ]
  },
  {
   "cell_type": "code",
   "execution_count": 35,
   "metadata": {
    "collapsed": false
   },
   "outputs": [
    {
     "name": "stdout",
     "output_type": "stream",
     "text": [
      "[1.234, 1, True]\n"
     ]
    }
   ],
   "source": [
    "print (mixed[1:4]) #should give us elements 2,3 and 4 i.e. 1.234, 1 and True"
   ]
  },
  {
   "cell_type": "markdown",
   "metadata": {},
   "source": [
    "The two slice parameters are optional. Omitting them can also be useful."
   ]
  },
  {
   "cell_type": "code",
   "execution_count": 40,
   "metadata": {
    "collapsed": false
   },
   "outputs": [
    {
     "name": "stdout",
     "output_type": "stream",
     "text": [
      "[1.234, 1, True, False, 'testing']\n",
      "['hello world', 1.234, 1]\n",
      "[True, False, 'testing']\n",
      "['hello world', 1.234, 1, True]\n"
     ]
    }
   ],
   "source": [
    "#print all items in mixed after item 1\n",
    "print (mixed[1:])\n",
    "\n",
    "#print all items in mixed until you get to item 4 (which is excluded)\n",
    "print(mixed[:3])\n",
    "\n",
    "#print the last 3 items of mixed\n",
    "print(mixed[-3:])\n",
    "\n",
    "#print the entirety of the list until reaching the 2nd last element\n",
    "print(mixed[:-2])"
   ]
  },
  {
   "cell_type": "markdown",
   "metadata": {},
   "source": [
    "### Tuple\n",
    "\n",
    "Like a list but immutable. Useful for passing around groups of structured data.\n"
   ]
  },
  {
   "cell_type": "code",
   "execution_count": 21,
   "metadata": {
    "collapsed": false
   },
   "outputs": [
    {
     "name": "stdout",
     "output_type": "stream",
     "text": [
      "123\n"
     ]
    }
   ],
   "source": [
    "atuple = (123, \"hello world\")\n",
    "\n",
    "print (atuple[0])"
   ]
  },
  {
   "cell_type": "markdown",
   "metadata": {},
   "source": [
    "Check out what happens when you try and change a value in a tuple"
   ]
  },
  {
   "cell_type": "code",
   "execution_count": 22,
   "metadata": {
    "collapsed": false
   },
   "outputs": [
    {
     "ename": "TypeError",
     "evalue": "'tuple' object does not support item assignment",
     "output_type": "error",
     "traceback": [
      "\u001b[1;31m---------------------------------------------------------------------------\u001b[0m",
      "\u001b[1;31mTypeError\u001b[0m                                 Traceback (most recent call last)",
      "\u001b[1;32m<ipython-input-22-28881e801fb3>\u001b[0m in \u001b[0;36m<module>\u001b[1;34m()\u001b[0m\n\u001b[1;32m----> 1\u001b[1;33m \u001b[0matuple\u001b[0m\u001b[1;33m[\u001b[0m\u001b[1;36m0\u001b[0m\u001b[1;33m]\u001b[0m \u001b[1;33m=\u001b[0m \u001b[1;36m321\u001b[0m\u001b[1;33m\u001b[0m\u001b[0m\n\u001b[0m",
      "\u001b[1;31mTypeError\u001b[0m: 'tuple' object does not support item assignment"
     ]
    }
   ],
   "source": [
    "atuple[0] = 321"
   ]
  },
  {
   "cell_type": "markdown",
   "metadata": {},
   "source": [
    "### Set\n",
    "\n",
    "Like a mathematical set - can be used to filter out duplicates in lists and check for membership.\n"
   ]
  },
  {
   "cell_type": "code",
   "execution_count": 32,
   "metadata": {
    "collapsed": false
   },
   "outputs": [
    {
     "name": "stdout",
     "output_type": "stream",
     "text": [
      "list: ['spam', 'spam', 'spam', 'spam', 'eggs', 'eggs', 'bacon', 'spam']\n",
      "set: {'spam', 'eggs', 'bacon'}\n",
      "intersection A,B {'eggs'}\n",
      "Union A,B {'bacon', 'spam', 'prosecco', 'eggs', 'sausages', 'spaghetti'}\n",
      "Difference A,B {'prosecco', 'sausages', 'spaghetti'}\n"
     ]
    }
   ],
   "source": [
    "spamlist = [\"spam\",\"spam\",\"spam\",\"spam\",\"eggs\",\"eggs\",\"bacon\", \"spam\"]\n",
    "setA = set(spamlist)\n",
    "print(\"list:\", spamlist)\n",
    "print(\"set:\", setA)\n",
    "\n",
    "setB = {'spaghetti', 'eggs', 'sausages', 'prosecco'}\n",
    "\n",
    "\n",
    "print(\"intersection A,B\", setA.intersection(setB)) #should print 'eggs' which is in both sets\n",
    "print (\"Union A,B\",setA.union(setB)) #should print all items in both sets\n",
    "print (\"Difference A,B\", setB.difference(setA)) #should print "
   ]
  },
  {
   "cell_type": "markdown",
   "metadata": {},
   "source": [
    "### Dictionary or dict\n",
    "\n",
    "dicts are essentially like a HashMap in Java - a mutable set of key -> value pairs maintained in memory. Python allows you to access the items using the indexing syntax described above for lists - indices must be strings."
   ]
  },
  {
   "cell_type": "code",
   "execution_count": 41,
   "metadata": {
    "collapsed": false
   },
   "outputs": [
    {
     "name": "stdout",
     "output_type": "stream",
     "text": [
      "eggs\n",
      "{'spam': 'eggs', 'bacon': 'fried bread'}\n"
     ]
    }
   ],
   "source": [
    "mydict = {\"spam\" : \"eggs\", \"bacon\" : \"sausage\"}\n",
    "\n",
    "print(mydict['spam'])\n",
    "\n",
    "mydict['bacon'] = \"fried bread\"\n",
    "\n",
    "print(mydict)"
   ]
  },
  {
   "cell_type": "markdown",
   "metadata": {},
   "source": [
    "It is possible to get a list of keys or a list of values or even a list of tuples describing keys and values."
   ]
  },
  {
   "cell_type": "code",
   "execution_count": 43,
   "metadata": {
    "collapsed": false
   },
   "outputs": [
    {
     "name": "stdout",
     "output_type": "stream",
     "text": [
      "keys: dict_keys(['spam', 'bacon'])\n",
      "values: dict_values(['eggs', 'fried bread'])\n",
      "entries: dict_items([('spam', 'eggs'), ('bacon', 'fried bread')])\n"
     ]
    }
   ],
   "source": [
    "print(\"keys:\",mydict.keys())\n",
    "print(\"values:\", mydict.values())\n",
    "print(\"entries:\", mydict.items())"
   ]
  },
  {
   "cell_type": "markdown",
   "metadata": {},
   "source": [
    "---------------------------------------\n",
    "\n",
    "## Functions\n",
    "\n",
    "Function definitions in python are very simple.\n",
    "\n"
   ]
  },
  {
   "cell_type": "code",
   "execution_count": 45,
   "metadata": {
    "collapsed": false
   },
   "outputs": [
    {
     "name": "stdout",
     "output_type": "stream",
     "text": [
      "2 x 2 =  4\n"
     ]
    }
   ],
   "source": [
    "\n",
    "def square(x):\n",
    "    y = x * x\n",
    "    return y\n",
    "\n",
    "#what is the square of 2? should print 4\n",
    "print(\"2 x 2 = \", square(2))"
   ]
  },
  {
   "cell_type": "markdown",
   "metadata": {},
   "source": [
    "Functions can have many parameters and default values can be specified too"
   ]
  },
  {
   "cell_type": "code",
   "execution_count": 47,
   "metadata": {
    "collapsed": false
   },
   "outputs": [
    {
     "name": "stdout",
     "output_type": "stream",
     "text": [
      "Default is square 4\n",
      "Now lets cube 8\n"
     ]
    }
   ],
   "source": [
    "def square(x):\n",
    "    y = x * x\n",
    "    return y\n",
    "\n",
    "def cube(x):\n",
    "    return x * x * x\n",
    "\n",
    "def domaths(number, operation=square):\n",
    "    return operation(number)\n",
    "\n",
    "print(\"Default is square\", domaths(2))\n",
    "print(\"Now lets cube\", domaths(2,cube))\n"
   ]
  },
  {
   "cell_type": "markdown",
   "metadata": {},
   "source": [
    "---------------------------------\n",
    "\n",
    "## For loops and iteration\n",
    "\n",
    "for loops in python are one of the most powerful features of the language - especially when combined with some of the more advanced concepts as described below.\n",
    "\n",
    "A basic for loop looks like this:"
   ]
  },
  {
   "cell_type": "code",
   "execution_count": 48,
   "metadata": {
    "collapsed": false
   },
   "outputs": [
    {
     "name": "stdout",
     "output_type": "stream",
     "text": [
      "1\n",
      "2\n",
      "3\n",
      "4\n",
      "5\n"
     ]
    }
   ],
   "source": [
    "iterable = [1,2,3,4,5]\n",
    "\n",
    "for item in iterable:\n",
    "    print(item)\n",
    "    "
   ]
  },
  {
   "cell_type": "markdown",
   "metadata": {},
   "source": [
    "If you want to emulate a C/Java/PHP style for loop in Python, you can use the `range(x,y,step)` function like so:"
   ]
  },
  {
   "cell_type": "code",
   "execution_count": 55,
   "metadata": {
    "collapsed": false
   },
   "outputs": [
    {
     "name": "stdout",
     "output_type": "stream",
     "text": [
      "0\n",
      "1\n",
      "2\n",
      "3\n",
      "4\n",
      "5\n",
      "6\n",
      "7\n",
      "8\n",
      "9\n"
     ]
    }
   ],
   "source": [
    "for i in range(0,10,1): #this is like for(int i=0; i < 10; i++){} in java\n",
    "    print (i)"
   ]
  },
  {
   "cell_type": "markdown",
   "metadata": {},
   "source": [
    "You can expand lists of tuples using for loops so that each part of the tuple is accessible.\n",
    "\n",
    "Remember how I said we could iterate over keys ***and*** values in a dict earlier?"
   ]
  },
  {
   "cell_type": "code",
   "execution_count": 57,
   "metadata": {
    "collapsed": false
   },
   "outputs": [
    {
     "name": "stdout",
     "output_type": "stream",
     "text": [
      "{'spam': 'eggs', 'bacon': 'fried bread'}\n",
      "key= spam , value= eggs\n",
      "key= bacon , value= fried bread\n"
     ]
    }
   ],
   "source": [
    "print(mydict) #as a reminder\n",
    "\n",
    "for key,value in mydict.items():\n",
    "    print(\"key=\",key,\", value=\",value)"
   ]
  },
  {
   "cell_type": "markdown",
   "metadata": {},
   "source": [
    "We can also keep count of how many times we've been around the loop using the python enumerate function."
   ]
  },
  {
   "cell_type": "code",
   "execution_count": 59,
   "metadata": {
    "collapsed": false
   },
   "outputs": [
    {
     "name": "stdout",
     "output_type": "stream",
     "text": [
      "This is item 0\n",
      "Item: spam\n",
      "This is the first time around the loop\n",
      "This is item 1\n",
      "Item: eggs\n",
      "This is item 2\n",
      "Item: sausages\n",
      "This is item 3\n",
      "Item: bacon\n"
     ]
    }
   ],
   "source": [
    "items = [\"spam\",\"eggs\",\"sausages\",\"bacon\"]\n",
    "\n",
    "for i, item in enumerate(items):\n",
    "    print (\"This is item\", i)\n",
    "    print(\"Item:\",item)\n",
    "    if i <1:\n",
    "        print (\"This is the first time around the loop\")\n",
    "    "
   ]
  },
  {
   "cell_type": "markdown",
   "metadata": {},
   "source": [
    "### Yield operator\n",
    "\n",
    "Holding huge lists in memory can be very expensive. Python allows you to iterate over lists that are still being generated - item by item.\n"
   ]
  },
  {
   "cell_type": "code",
   "execution_count": 63,
   "metadata": {
    "collapsed": false
   },
   "outputs": [
    {
     "name": "stdout",
     "output_type": "stream",
     "text": [
      "Generated number 0 Yielding back to caller\n",
      "Processing number 0\n",
      "Generated number 1 Yielding back to caller\n",
      "Processing number 1\n",
      "Generated number 2 Yielding back to caller\n",
      "Processing number 2\n",
      "Generated number 3 Yielding back to caller\n",
      "Processing number 3\n",
      "Generated number 4 Yielding back to caller\n",
      "Processing number 4\n"
     ]
    }
   ],
   "source": [
    "\n",
    "def generate_number_list(limit=5):\n",
    "    for i in range(0,limit):\n",
    "        print(\"Generated number\",i,\"Yielding back to caller\")\n",
    "        yield i\n",
    "        \n",
    "for i in generate_number_list():\n",
    "    print (\"Processing number\",i)"
   ]
  },
  {
   "cell_type": "markdown",
   "metadata": {},
   "source": [
    "----------------------------------------\n",
    "## Context Managers - with statement\n",
    "\n",
    "Allows you to operate within a specific context without worrying about state management. For example file i/o\n",
    "\n",
    "### Old method"
   ]
  },
  {
   "cell_type": "code",
   "execution_count": 74,
   "metadata": {
    "collapsed": true
   },
   "outputs": [],
   "source": [
    "fp = open(\"test.txt\",\"wb\")\n",
    "\n",
    "for i in range(0,10):\n",
    "    fp.write(bytes(\"Test {}\".format(i),\"UTF-8\"))\n",
    "    \n",
    "fp.close()"
   ]
  },
  {
   "cell_type": "markdown",
   "metadata": {},
   "source": [
    "### New method"
   ]
  },
  {
   "cell_type": "code",
   "execution_count": 76,
   "metadata": {
    "collapsed": false
   },
   "outputs": [],
   "source": [
    "with open(\"test.txt\",\"w\") as fp:\n",
    "    for i in range(0,10):\n",
    "        fp.write(\"Test {}\".format(i))"
   ]
  },
  {
   "cell_type": "markdown",
   "metadata": {},
   "source": [
    "You will likely see with statements all over the place. They are very common and extremely convenient.\n",
    "\n",
    "---------------------------\n",
    "\n",
    "## Conclusion\n",
    "\n",
    "That's the end of basic syntax. Lets move on to [Functional concepts](Functional%20Concepts.ipynb)"
   ]
  },
  {
   "cell_type": "code",
   "execution_count": null,
   "metadata": {
    "collapsed": true
   },
   "outputs": [],
   "source": []
  }
 ],
 "metadata": {
  "kernelspec": {
   "display_name": "Python 3",
   "language": "python",
   "name": "python3"
  },
  "language_info": {
   "codemirror_mode": {
    "name": "ipython",
    "version": 3
   },
   "file_extension": ".py",
   "mimetype": "text/x-python",
   "name": "python",
   "nbconvert_exporter": "python",
   "pygments_lexer": "ipython3",
   "version": "3.4.3"
  }
 },
 "nbformat": 4,
 "nbformat_minor": 0
}
