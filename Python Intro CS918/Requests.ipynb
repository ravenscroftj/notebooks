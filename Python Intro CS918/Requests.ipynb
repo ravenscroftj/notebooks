{
 "cells": [
  {
   "cell_type": "markdown",
   "metadata": {},
   "source": [
    "# Requests\n",
    "\n",
    "Requests is an open source module designed to automate HTTP calls using python. \n",
    "\n",
    "## Installation\n",
    "\n",
    "If you are using anaconda then run\n",
    "<code bash>\n",
    "anaconda install requests\n",
    "</code>\n",
    "\n",
    "Else if you are using standard python then install via pip\n",
    "<code bash>\n",
    "pip install requests\n",
    "</code>\n",
    "\n",
    "This guide will briefly explore the library which is very extensive. For more information [visit the requests website](http://docs.python-requests.org/en/latest/)."
   ]
  },
  {
   "cell_type": "code",
   "execution_count": 1,
   "metadata": {
    "collapsed": true
   },
   "outputs": [],
   "source": [
    "import requests #this will fail if you do not have requests installed - try using one of the above methods to install it."
   ]
  },
  {
   "cell_type": "markdown",
   "metadata": {},
   "source": [
    "## Make a GET request\n",
    "\n",
    "We will make a simple get request to reddit to find a list of news articles\n"
   ]
  },
  {
   "cell_type": "code",
   "execution_count": 6,
   "metadata": {
    "collapsed": false
   },
   "outputs": [
    {
     "name": "stdout",
     "output_type": "stream",
     "text": [
      "{'error': 429}\n"
     ]
    }
   ],
   "source": [
    "\n",
    "result = requests.get(\"https://www.reddit.com/r/news.json\", auth=(\"jamesravey\",\"sk1rvYd0g\")) \n",
    "\n",
    "print (result.json())"
   ]
  },
  {
   "cell_type": "code",
   "execution_count": null,
   "metadata": {
    "collapsed": true
   },
   "outputs": [],
   "source": []
  }
 ],
 "metadata": {
  "kernelspec": {
   "display_name": "Python 3",
   "language": "python",
   "name": "python3"
  },
  "language_info": {
   "codemirror_mode": {
    "name": "ipython",
    "version": 3
   },
   "file_extension": ".py",
   "mimetype": "text/x-python",
   "name": "python",
   "nbconvert_exporter": "python",
   "pygments_lexer": "ipython3",
   "version": "3.4.3"
  }
 },
 "nbformat": 4,
 "nbformat_minor": 0
}
