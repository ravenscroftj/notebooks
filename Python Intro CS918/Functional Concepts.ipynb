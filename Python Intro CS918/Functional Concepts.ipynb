{
 "cells": [
  {
   "cell_type": "markdown",
   "metadata": {},
   "source": [
    "# Functional Concepts in Python\n",
    "\n",
    "Functional programming in Python allows you to write very concise and expressive code that can effectively reshape data into whichever structure is easiest to work with for a given framework.\n",
    "\n",
    "## List comprehensions\n",
    "\n",
    "List comprehensions allow you to dynamically generate lists by filtering, altering or otherwise manipulating another data set.\n",
    "\n",
    "Lets look at an example"
   ]
  },
  {
   "cell_type": "code",
   "execution_count": 2,
   "metadata": {
    "collapsed": false
   },
   "outputs": [
    {
     "name": "stdout",
     "output_type": "stream",
     "text": [
      "[0, 3, 6, 9, 12, 15, 18, 21, 24, 27, 30, 33, 36, 39, 42, 45, 48, 51, 54, 57, 60, 63, 66, 69, 72, 75, 78, 81, 84, 87, 90, 93, 96, 99]\n"
     ]
    }
   ],
   "source": [
    "multiples = [ x for x in range(0,100) if x % 3 == 0 ]\n",
    "\n",
    "print (multiples)"
   ]
  },
  {
   "cell_type": "markdown",
   "metadata": {},
   "source": [
    "We don't have to return a 1:1 mapping - we might change the data type given back"
   ]
  },
  {
   "cell_type": "code",
   "execution_count": 12,
   "metadata": {
    "collapsed": false
   },
   "outputs": [
    {
     "name": "stdout",
     "output_type": "stream",
     "text": [
      "[['blah'], ['blah', 'blah'], ['blah', 'blah', 'blah'], ['blah', 'blah', 'blah', 'blah']]\n"
     ]
    }
   ],
   "source": [
    "silly = [ ['blah'] * x for x in range(1,5)]\n",
    "\n",
    "print(silly) #returns a list of lists"
   ]
  },
  {
   "cell_type": "markdown",
   "metadata": {},
   "source": [
    "Another example is to map a function on to every single item in a list"
   ]
  },
  {
   "cell_type": "code",
   "execution_count": 8,
   "metadata": {
    "collapsed": false
   },
   "outputs": [
    {
     "name": "stdout",
     "output_type": "stream",
     "text": [
      "[1, 4, 9, 16, 25, 36, 49, 64, 81]\n",
      "[9, 36, 81]\n"
     ]
    }
   ],
   "source": [
    "def square(x):\n",
    "    return x*x\n",
    "\n",
    "squares = [ square(x) for x in range(1,10)]\n",
    "\n",
    "print(squares)\n",
    "\n",
    "# we can also apply a filter - lets have squares of multiples of \n",
    "# 3 between 1 and 10 (so 3*3,6*6,9*9)\n",
    "\n",
    "print ( [ square(x) for x in range(1,10) if x % 3 == 0] )"
   ]
  },
  {
   "cell_type": "markdown",
   "metadata": {},
   "source": [
    "-------------------------------------------\n",
    "## Lambdas\n",
    "\n",
    "Lambdas are just tiny functions - nothing more to it than that. If you want to repeat a small/short operation a number of times (for example, build a list comprehension like above) then it is easier to define it as a lambda.\n",
    "\n",
    "For example:"
   ]
  },
  {
   "cell_type": "code",
   "execution_count": 9,
   "metadata": {
    "collapsed": false
   },
   "outputs": [
    {
     "name": "stdout",
     "output_type": "stream",
     "text": [
      "[1, 4, 9, 16, 25, 36, 49, 64, 81]\n"
     ]
    }
   ],
   "source": [
    "square = lambda x: x*x # same as the def function above but much more compact\n",
    "\n",
    "squares = [ square(x) for x in range(1,10)]\n",
    "\n",
    "print(squares)"
   ]
  },
  {
   "cell_type": "markdown",
   "metadata": {},
   "source": [
    "---------------------------------------------\n",
    "## Dict comprehensions\n",
    "\n",
    "Like list comprehensions but can be used to generate a dict with keys and values"
   ]
  },
  {
   "cell_type": "code",
   "execution_count": 23,
   "metadata": {
    "collapsed": false
   },
   "outputs": [
    {
     "name": "stdout",
     "output_type": "stream",
     "text": [
      "[('sausages', 10), ('eggs', 7), ('bacon', 9), ('mushroom', 4), ('hash-brown', 6)]\n",
      "6\n",
      "{'mushroom': 4, 'hash-brown': 6, 'eggs': 7, 'sausages': 10, 'bacon': 9}\n",
      "6\n",
      "Foods with 5/10 or more:  {'hash-brown': 6, 'eggs': 7, 'sausages': 10, 'bacon': 9}\n"
     ]
    }
   ],
   "source": [
    "#list of breakfast foods\n",
    "breakfast_foods = ['sausages','eggs','bacon','mushroom','hash-brown']\n",
    "#respective popularity of the breakfast food items out of 10\n",
    "respective_pop  = [10, 7, 9, 4, 6]\n",
    "\n",
    "#returns a set of tuples which have the breakfast food zipped together with its popularity\n",
    "zipped = (list(zip(breakfast_foods,respective_pop)))\n",
    "\n",
    "print(zipped)\n",
    "\n",
    "#this is still rubbish for fast access - how do we get to hash brown?\n",
    "for food,pop in zipped:\n",
    "    if food == \"hash-brown\":\n",
    "        print (pop)\n",
    "        \n",
    "#we will generate a map of food -> popularity using a dict comprehension\n",
    "foods = { food:pop for food,pop in zipped}\n",
    "\n",
    "print (foods)\n",
    "\n",
    "#much better!\n",
    "print (foods['hash-brown'])\n",
    "\n",
    "#we can still use filters too\n",
    "\n",
    "print (\"Foods with 5/10 or more: \", {food:pop for food,pop in zipped if pop > 5})\n",
    "        "
   ]
  },
  {
   "cell_type": "markdown",
   "metadata": {},
   "source": [
    "## Conclusion\n",
    "\n",
    "These are some of the most useful parts of the Python programming language that allow you to quickly transform data from one structure to another. Now its time to look at some of the libraries and modules Python has to offer starting with [pickle](Pickle.ipynb)"
   ]
  },
  {
   "cell_type": "code",
   "execution_count": null,
   "metadata": {
    "collapsed": true
   },
   "outputs": [],
   "source": []
  }
 ],
 "metadata": {
  "kernelspec": {
   "display_name": "Python 3",
   "language": "python",
   "name": "python3"
  },
  "language_info": {
   "codemirror_mode": {
    "name": "ipython",
    "version": 3
   },
   "file_extension": ".py",
   "mimetype": "text/x-python",
   "name": "python",
   "nbconvert_exporter": "python",
   "pygments_lexer": "ipython3",
   "version": "3.4.3"
  }
 },
 "nbformat": 4,
 "nbformat_minor": 0
}
