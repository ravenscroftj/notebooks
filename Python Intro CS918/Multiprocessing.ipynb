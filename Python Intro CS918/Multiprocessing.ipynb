{
 "cells": [
  {
   "cell_type": "code",
   "execution_count": 2,
   "metadata": {
    "collapsed": false
   },
   "outputs": [
    {
     "name": "stdout",
     "output_type": "stream",
     "text": [
      "[1, 4, 9, 16, 25, 36, 49, 64, 81]\n"
     ]
    }
   ],
   "source": [
    "square = lambda x: x*x\n",
    "\n",
    "print ([ square(x) for x in range(1,10)])"
   ]
  },
  {
   "cell_type": "markdown",
   "metadata": {},
   "source": [
    "# Multiprocessing\n",
    "\n",
    "Multiprocessing is a very large and complex library that ships with Python by default. I am only going to talk about one of its many features. For more info visit the [library documentation](https://docs.python.org/2/library/multiprocessing.html)\n",
    "\n",
    "\n",
    "## Mapping functions\n",
    "\n",
    "In [part 2](Functional%20Concepts.ipynb) of this tutorial we looked at List comprehensions and applying a function to every item in a list using code like the following:"
   ]
  },
  {
   "cell_type": "markdown",
   "metadata": {},
   "source": [
    "Python's built in `map` function is synonymous for the above list comprehension.\n",
    "\n"
   ]
  },
  {
   "cell_type": "code",
   "execution_count": 3,
   "metadata": {
    "collapsed": false
   },
   "outputs": [
    {
     "name": "stdout",
     "output_type": "stream",
     "text": [
      "[1, 4, 9, 16, 25, 36, 49, 64, 81]\n"
     ]
    }
   ],
   "source": [
    "print( list(map(square, range(1,10)) ))"
   ]
  },
  {
   "cell_type": "markdown",
   "metadata": {},
   "source": [
    "What if you have a huge list to run an operation on? It's going to take ages. Lets use the timer to find out how long."
   ]
  },
  {
   "cell_type": "code",
   "execution_count": 4,
   "metadata": {
    "collapsed": false
   },
   "outputs": [
    {
     "name": "stdout",
     "output_type": "stream",
     "text": [
      "Took 77.082002 seconds\n"
     ]
    }
   ],
   "source": [
    "import time\n",
    "import math\n",
    "\n",
    "start = time.clock()\n",
    "#we are going to work out N factorial for every number between 1 and 100000\n",
    "for i in map(math.factorial, range(1,10000)):\n",
    "   pass \n",
    "\n",
    "end = time.clock()\n",
    "\n",
    "print (\"Took {} seconds\".format(end-start) )"
   ]
  },
  {
   "cell_type": "markdown",
   "metadata": {},
   "source": [
    "These days most machines have multiple cores. Lets use multiprocessing's Pool class to farm out work to all processors"
   ]
  },
  {
   "cell_type": "code",
   "execution_count": 21,
   "metadata": {
    "collapsed": false
   },
   "outputs": [
    {
     "name": "stdout",
     "output_type": "stream",
     "text": [
      "Took 0.18581500000000517 seconds\n"
     ]
    }
   ],
   "source": [
    "from multiprocessing import Pool\n",
    "\n",
    "p = Pool()\n",
    "\n",
    "start = time.clock()\n",
    "\n",
    "for i in p.map(math.factorial, range(1,10000)):\n",
    "   pass \n",
    "\n",
    "end = time.clock()\n",
    "\n",
    "print (\"Took {} seconds\".format(end-start) )"
   ]
  },
  {
   "cell_type": "markdown",
   "metadata": {},
   "source": [
    "By creating a task pool that has the same number of worker threads as the current machine has CPU cores, we are able to work through the large list of jobs much faster!"
   ]
  },
  {
   "cell_type": "markdown",
   "metadata": {},
   "source": [
    "## Conclusion\n",
    "\n",
    "Multiprocessing with `Pool.map()` allows you to significantly boost the speed with which you process a large batch of data by farming it out across your CPU's cores.\n",
    "\n",
    "Next we look at [Filesystem IO](TextFileIO.ipynb)"
   ]
  },
  {
   "cell_type": "code",
   "execution_count": null,
   "metadata": {
    "collapsed": true
   },
   "outputs": [],
   "source": []
  }
 ],
 "metadata": {
  "kernelspec": {
   "display_name": "Python 3",
   "language": "python",
   "name": "python3"
  },
  "language_info": {
   "codemirror_mode": {
    "name": "ipython",
    "version": 3
   },
   "file_extension": ".py",
   "mimetype": "text/x-python",
   "name": "python",
   "nbconvert_exporter": "python",
   "pygments_lexer": "ipython3",
   "version": "3.4.3"
  }
 },
 "nbformat": 4,
 "nbformat_minor": 0
}
