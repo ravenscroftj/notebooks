{
 "cells": [
  {
   "cell_type": "markdown",
   "metadata": {},
   "source": [
    "# Scientific Paper Text Analysis"
   ]
  },
  {
   "cell_type": "code",
   "execution_count": 32,
   "metadata": {
    "collapsed": false
   },
   "outputs": [
    {
     "name": "stdout",
     "output_type": "stream",
     "text": [
      "There are 40186 sentences in this document\n",
      "Scientific Concepts:\n",
      "There are 1358 Obj ( 3.379286318618424% )sentences\n",
      "There are 3646 Con ( 9.072811426865078% )sentences\n",
      "There are 783 Hyp ( 1.9484397551386055% )sentences\n",
      "There are 541 Mot ( 1.3462399840740558% )sentences\n",
      "There are 7607 Bac ( 18.92947792763649% )sentences\n",
      "There are 3656 Mod ( 9.097695714925596% )sentences\n",
      "There are 4285 Met ( 10.662917433932215% )sentences\n",
      "There are 8407 Res ( 20.920220972477978% )sentences\n",
      "There are 629 Goa ( 1.565221719006619% )sentences\n",
      "There are 6 Other ( 0.014930572836311155% )sentences\n",
      "There are 3858 Exp ( 9.600358333748071% )sentences\n",
      "There are 5410 Obs ( 13.462399840740558% )sentences\n"
     ]
    }
   ],
   "source": [
    "import os\n",
    "import csv\n",
    "import xml.etree.ElementTree as ET\n",
    "\n",
    "from collections import Counter\n",
    "\n",
    "ccount = Counter()\n",
    "\n",
    "with open(\"gt.csv\",encoding='utf-8',mode=\"w\") as f:\n",
    "    csvw = csv.writer(f, lineterminator='\\n')\n",
    "\n",
    "    sentences = 0\n",
    "    for rootdir, dirs, files in os.walk(\"consensus_annotated/\"):\n",
    "\n",
    "        for file in files:\n",
    "            fullname = os.path.join(rootdir, file)\n",
    "\n",
    "            #open and parse the paper\n",
    "            tree = ET.parse(fullname)\n",
    "            root = tree.getroot()\n",
    "\n",
    "            #lets find all sentences in the paper\n",
    "            for sentEl in root.iter(\"s\"):\n",
    "                sentences += 1\n",
    "                annoArt = sentEl.find('CoreSc1')\n",
    "                text = sentEl.find(\"text\")\n",
    "                if annoArt != None:\n",
    "                    ccount[annoArt.get('type')] += 1\n",
    "                    csvw.writerow([\"\".join(text.itertext()),annoArt.get('type')])\n",
    "\n",
    "                else:\n",
    "                    ccount['Other'] += 1\n",
    "\n",
    "\n",
    "    print(\"There are {} sentences in this document\".format(sentences))\n",
    "\n",
    "    print (\"Scientific Concepts:\")\n",
    "    for lbl,value in ccount.items():\n",
    "        pc = int(value) / sentences * 100\n",
    "        print(\"There are {} {} ( {}% )sentences\".format(value,lbl, pc))\n",
    "        "
   ]
  },
  {
   "cell_type": "code",
   "execution_count": 30,
   "metadata": {
    "collapsed": false
   },
   "outputs": [
    {
     "name": "stdout",
     "output_type": "stream",
     "text": [
      "There are 3.379286318618424% Obj sentences\n",
      "There are 9.072811426865078% Con sentences\n",
      "There are 1.9484397551386055% Hyp sentences\n",
      "There are 1.3462399840740558% Mot sentences\n",
      "There are 18.92947792763649% Bac sentences\n",
      "There are 9.097695714925596% Mod sentences\n",
      "There are 10.662917433932215% Met sentences\n",
      "There are 20.920220972477978% Res sentences\n",
      "There are 1.565221719006619% Goa sentences\n",
      "There are 0.014930572836311155% Other sentences\n",
      "There are 9.600358333748071% Exp sentences\n",
      "There are 13.462399840740558% Obs sentences\n"
     ]
    }
   ],
   "source": [
    "import random\n",
    "\n",
    "with open(\"gt.csv\",\"r\") as f:\n",
    "    \n",
    "    csvr = csv.reader(f,lineterminator='\\n')\n",
    "    \n",
    "    for lbl,value in ccount.items():\n",
    "        \n",
    "        "
   ]
  },
  {
   "cell_type": "code",
   "execution_count": null,
   "metadata": {
    "collapsed": true
   },
   "outputs": [],
   "source": []
  }
 ],
 "metadata": {
  "kernelspec": {
   "display_name": "Python 3",
   "language": "python",
   "name": "python3"
  },
  "language_info": {
   "codemirror_mode": {
    "name": "ipython",
    "version": 3
   },
   "file_extension": ".py",
   "mimetype": "text/x-python",
   "name": "python",
   "nbconvert_exporter": "python",
   "pygments_lexer": "ipython3",
   "version": "3.5.1"
  }
 },
 "nbformat": 4,
 "nbformat_minor": 0
}
