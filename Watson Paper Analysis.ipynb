{
 "cells": [
  {
   "cell_type": "markdown",
   "metadata": {},
   "source": [
    "# Scientific Paper Text Analysis\n",
    "\n",
    "CoreSC is a sentence-level annotation scheme for scientific papers that *\"recognizes the main components of scientific investigations as represented in articles\"* [Liakata et al 2012](http://www.ncbi.nlm.nih.gov/pmc/articles/PMC3315721/?report=classic). \n",
    "\n",
    "![alt text](assets/coresc.jpg \"Examples of CoreSC designations\")\n",
    "\n",
    "We spent months building a CRF classifier that gets ~51% accuracy over 11 classes of sentence. \n",
    "\n",
    "I spent 2 days training and testing an NLC instance with 63% accuracy out of the box.\n"
   ]
  },
  {
   "cell_type": "code",
   "execution_count": 53,
   "metadata": {
    "collapsed": false
   },
   "outputs": [
    {
     "name": "stdout",
     "output_type": "stream",
     "text": [
      "There are 8501 sentences in this corpus\n",
      "Scientific Concepts:\n",
      "There are 168 Goa ( 1.9762380896365135% )sentences\n",
      "There are 1839 Exp ( 21.63274908834255% )sentences\n",
      "There are 631 Obs ( 7.4226561580990476% )sentences\n",
      "There are 54 Other ( 0.6352193859545936% )sentences\n",
      "There are 1826 Bac ( 21.47982590283496% )sentences\n",
      "There are 4 Mod ( 0.04705328784848841% )sentences\n",
      "There are 293 Obj ( 3.446653334901776% )sentences\n",
      "There are 586 Con ( 6.893306669803552% )sentences\n",
      "There are 305 Mot ( 3.5878131984472414% )sentences\n",
      "There are 929 Met ( 10.928126102811433% )sentences\n",
      "There are 1718 Res ( 20.209387130925773% )sentences\n",
      "There are 148 Hyp ( 1.7409716503940715% )sentences\n"
     ]
    }
   ],
   "source": [
    "import os\n",
    "import csv\n",
    "import xml.etree.ElementTree as ET\n",
    "\n",
    "from collections import Counter,defaultdict\n",
    "\n",
    "\n",
    "\n",
    "sentences = defaultdict(lambda: [])\n",
    "for rootdir, dirs, files in os.walk(\"consensus_annotated/\"):\n",
    "\n",
    "    for file in files:\n",
    "        fullname = os.path.join(rootdir, file)\n",
    "\n",
    "        #open and parse the paper\n",
    "        tree = ET.parse(fullname)\n",
    "        root = tree.getroot()\n",
    "\n",
    "        #lets find all sentences in the paper\n",
    "        for sentEl in root.iter(\"s\"):\n",
    "            annoArt = sentEl.find('CoreSc1')\n",
    "            text = sentEl.find(\"text\")\n",
    "            if annoArt != None:\n",
    "                sentences[annoArt.get('type')].append(\"\".join(sentEl.itertext()))\n",
    "\n",
    "            else:\n",
    "                    sentences['Other'].append(\"\".join(sentEl.itertext()))\n",
    "\n",
    "\n",
    "\n",
    "sentcount = sum( [len(x) for x in sentences.values() ])\n",
    "print(\"There are {} sentences in this corpus\".format(sentcount))\n",
    "\n",
    "print (\"Scientific Concepts:\")\n",
    "for lbl,sents in sentences.items():\n",
    "\n",
    "    pc = len(sents) / sentcount * 100\n",
    "    print(\"There are {} {} ( {}% )sentences\".format(len(sents),lbl, pc))\n"
   ]
  },
  {
   "cell_type": "code",
   "execution_count": 55,
   "metadata": {
    "collapsed": false,
    "scrolled": true
   },
   "outputs": [
    {
     "name": "stdout",
     "output_type": "stream",
     "text": [
      "Goa 117 51\n",
      "Exp 1287 552\n",
      "Obs 441 190\n",
      "Other 37 17\n",
      "Bac 1278 548\n",
      "Mod 2 2\n",
      "Obj 205 88\n",
      "Con 410 176\n",
      "Mot 213 92\n",
      "Met 650 279\n",
      "Res 1202 516\n",
      "Hyp 103 45\n"
     ]
    }
   ],
   "source": [
    "import random\n",
    "import math\n",
    "\n",
    "TRAIN = 0.7\n",
    "\n",
    "def write_gt(filename, gt_dict):\n",
    "    \n",
    "    with open(filename,encoding='utf-8',mode=\"w\") as f:\n",
    "        csvw = csv.writer(f, lineterminator='\\n')\n",
    "        \n",
    "        for lbl,sents in gt_dict.items():\n",
    "            for sent in sents:\n",
    "                if len(sent) > 1024:\n",
    "                    continue\n",
    "                else:\n",
    "                    csvw.writerow([sent,lbl])\n",
    "\n",
    "def split_train_test(sentences, proportion):\n",
    "    \n",
    "    indices = range(0,len(sentences))\n",
    "    \n",
    "    samplesize = math.floor(len(indices) * proportion)\n",
    "    \n",
    "    trainidx = random.sample(indices,samplesize)\n",
    "    \n",
    "    testidx = list(set(indices) - set(trainidx))\n",
    "    \n",
    "    return [sentences[x] for x in trainidx], [sentences[y] for y in testidx]\n",
    "    \n",
    "train = { x:None for x in sentences.keys() }\n",
    "test = { x:None for x in sentences.keys() }\n",
    "\n",
    "for idx, sents in sentences.items():\n",
    "    train[idx],test[idx] = split_train_test(sentences[idx], TRAIN)\n",
    "    print(idx,len(train[idx]),len(test[idx]))\n",
    "    \n",
    "write_gt(\"train.csv\", train)\n",
    "write_gt(\"test.csv\",test)"
   ]
  },
  {
   "cell_type": "markdown",
   "metadata": {
    "collapsed": true
   },
   "source": [
    "## Training a classifier\n",
    "\n",
    "\n"
   ]
  },
  {
   "cell_type": "code",
   "execution_count": 56,
   "metadata": {
    "collapsed": false
   },
   "outputs": [
    {
     "name": "stdout",
     "output_type": "stream",
     "text": [
      "Using endpoint https://gateway.watsonplatform.net/natural-language-classifier/api with username 59b52427-a680-49cf-aa23-50531cbcf1d4 \n"
     ]
    }
   ],
   "source": [
    "import json\n",
    "\n",
    "with open(\"creds.json\") as f:\n",
    "    creds = json.load(f)['credentials']\n",
    "    username,password = creds['username'], creds['password']\n",
    "    endpoint = creds['url']\n",
    "    \n",
    "    print(\"Using endpoint {} with username {} \".format(endpoint,username))"
   ]
  },
  {
   "cell_type": "code",
   "execution_count": 57,
   "metadata": {
    "collapsed": true
   },
   "outputs": [],
   "source": [
    "import requests"
   ]
  },
  {
   "cell_type": "code",
   "execution_count": 58,
   "metadata": {
    "collapsed": false
   },
   "outputs": [
    {
     "name": "stdout",
     "output_type": "stream",
     "text": [
      "{\n",
      "  \"classifier_id\" : \"3a84d1x62-nlc-1038\",\n",
      "  \"name\" : \"CoreSC Classifier\",\n",
      "  \"language\" : \"en\",\n",
      "  \"created\" : \"2016-04-28T08:28:00.125Z\",\n",
      "  \"url\" : \"https://gateway.watsonplatform.net/natural-language-classifier/api/v1/classifiers/3a84d1x62-nlc-1038\",\n",
      "  \"status\" : \"Training\",\n",
      "  \"status_description\" : \"The classifier instance is in its training phase, not yet ready to accept classify requests\"\n",
      "}\n"
     ]
    }
   ],
   "source": [
    "meta = { \"language\":\"en\", \"name\":\"CoreSC Classifier\"  } \n",
    "\n",
    "r = requests.post(endpoint + \"/v1/classifiers\", \n",
    "              auth=(username,password),\n",
    "             files={ \"training_data\" : open(\"train.csv\"), \"training_metadata\" : json.dumps(meta)   })\n",
    "\n",
    "print (r.text)\n",
    "\n",
    "classifierID = r.json()['classifier_id']"
   ]
  },
  {
   "cell_type": "code",
   "execution_count": 63,
   "metadata": {
    "collapsed": false,
    "scrolled": true
   },
   "outputs": [
    {
     "name": "stdout",
     "output_type": "stream",
     "text": [
      "{'name': 'CoreSC Classifier', 'url': 'https://gateway.watsonplatform.net/natural-language-classifier/api/v1/classifiers/3a84d1x62-nlc-1038', 'classifier_id': '3a84d1x62-nlc-1038', 'created': '2016-04-28T08:28:00.125Z', 'language': 'en', 'status': 'Available', 'status_description': 'The classifier instance is now available and is ready to take classifier requests.'}\n"
     ]
    }
   ],
   "source": [
    "classifierID=\"3a84d1x62-nlc-1038\" #\"3a84d1x62-nlc-1027\" #3a84cfx63-nlc-886\"\n",
    "r = requests.get(endpoint + \"/v1/classifiers/\" + classifierID, \n",
    "              auth=(username,password))\n",
    "\n",
    "print (r.json())"
   ]
  },
  {
   "cell_type": "markdown",
   "metadata": {},
   "source": [
    "## Test classifier"
   ]
  },
  {
   "cell_type": "code",
   "execution_count": 64,
   "metadata": {
    "collapsed": false
   },
   "outputs": [
    {
     "name": "stdout",
     "output_type": "stream",
     "text": [
      "<Response [200]>\n",
      "b'{\\n  \"classifier_id\" : \"3a84d1x62-nlc-1038\",\\n  \"url\" : \"https://gateway.watsonplatform.net/natural-language-classifier/api/v1/classifiers/3a84d1x62-nlc-1038\",\\n  \"text\" : \"Aryl hydrocarbon receptor (AhR) agonists suppress interleukin-6 expression by bone marrow stromal cells: an immunotoxicology study\",\\n  \"top_class\" : \"Bac\",\\n  \"classes\" : [ {\\n    \"class_name\" : \"Bac\",\\n    \"confidence\" : 0.9851534941025172\\n  }, {\\n    \"class_name\" : \"Obj\",\\n    \"confidence\" : 0.0037460404592158138\\n  }, {\\n    \"class_name\" : \"Hyp\",\\n    \"confidence\" : 0.0021243958290101186\\n  }, {\\n    \"class_name\" : \"Other\",\\n    \"confidence\" : 0.0018484181209979776\\n  }, {\\n    \"class_name\" : \"Con\",\\n    \"confidence\" : 0.001608292345229142\\n  }, {\\n    \"class_name\" : \"Goa\",\\n    \"confidence\" : 0.0013573938282026969\\n  }, {\\n    \"class_name\" : \"Mod\",\\n    \"confidence\" : 8.968194007939619E-4\\n  }, {\\n    \"class_name\" : \"Res\",\\n    \"confidence\" : 8.561750682276065E-4\\n  }, {\\n    \"class_name\" : \"Mot\",\\n    \"confidence\" : 6.851031715196856E-4\\n  }, {\\n    \"class_name\" : \"Met\",\\n    \"confidence\" : 6.01987106813002E-4\\n  } ]\\n}'\n"
     ]
    }
   ],
   "source": [
    "from collections import Counter\n",
    "from IPython.display import display\n",
    "from ipywidgets import FloatProgress\n",
    "\n",
    "tps = Counter()\n",
    "fns = Counter()\n",
    "\n",
    "\n",
    "fp = FloatProgress(min=0, max=sum(len(x) for x in test.values()))\n",
    "display(fp)\n",
    "resuls = []\n",
    "\n",
    "f = open(\"results.txt\",\"w\")\n",
    "\n",
    "for label,sents in test.items():\n",
    "    \n",
    "    for sent in sents:\n",
    "        r = requests.get(\n",
    "            endpoint + \"/v1/classifiers/\" + classifierID + \"/classify\",\n",
    "            auth=(username,password),\n",
    "            params={\"text\" : sent}\n",
    "        )\n",
    "        try:\n",
    "            result = r.json()['classes'][0]['class_name']\n",
    "\n",
    "            results.append((label, result))\n",
    "\n",
    "            f.write(\"{},{}\\n\".format(label,result))\n",
    "            \n",
    "        except:\n",
    "            pass\n",
    "\n",
    "        fp.value += 1\n",
    "\n",
    "f.close()\n",
    "    \n"
   ]
  },
  {
   "cell_type": "code",
   "execution_count": 76,
   "metadata": {
    "collapsed": false
   },
   "outputs": [
    {
     "name": "stdout",
     "output_type": "stream",
     "text": [
      "21647 34168\n",
      "Label\t\tPrecision\tRecall\t\tF-measure\n",
      "Goa\t\t78.47%\t\t43.04%\t\t55.59%\n",
      "Exp\t\t81.15%\t\t82.59%\t\t81.87%\n",
      "Obs\t\t68.47%\t\t64.65%\t\t66.50%\n",
      "Other\t\t93.75%\t\t88.24%\t\t90.91%\n",
      "Bac\t\t59.81%\t\t71.75%\t\t65.24%\n",
      "Mod\t\t64.03%\t\t66.28%\t\t65.13%\n",
      "Obj\t\t58.77%\t\t50.63%\t\t54.40%\n",
      "Con\t\t71.50%\t\t52.08%\t\t60.26%\n",
      "Mot\t\t61.35%\t\t36.73%\t\t45.95%\n",
      "Met\t\t54.18%\t\t53.92%\t\t54.05%\n",
      "Res\t\t55.51%\t\t68.86%\t\t61.47%\n",
      "Hyp\t\t58.87%\t\t36.87%\t\t45.34%\n",
      "63.35460079606649\n"
     ]
    }
   ],
   "source": [
    "correct = sum([1 for true,exp in results if true == exp])\n",
    "total = len(results)\n",
    "\n",
    "print (correct,total)\n",
    "\n",
    "tp = Counter()\n",
    "fp = Counter()\n",
    "fn = Counter()\n",
    "\n",
    "for true, predictedLabel in results:\n",
    "    #logger.info(\"%s, %s, %s\", true, predictedLabel, probability)\n",
    "    if true == predictedLabel:\n",
    "        tp[true] += 1\n",
    "    else:\n",
    "        fp[predictedLabel] += 1\n",
    "        fn[true] += 1\n",
    "\n",
    "print (\"Label\\t\\tPrecision\\tRecall\\t\\tF-measure\")\n",
    "for label in sentences.keys():\n",
    "    #logger.info(label)\n",
    "    if tp[label] == 0:\n",
    "        prec = 0\n",
    "        rec = 0\n",
    "    else:\n",
    "        prec = tp[label] / (tp[label] + fp[label])\n",
    "        rec = tp[label] / (tp[label] + fn[label])\n",
    "\n",
    "    if (prec + rec) > 0:\n",
    "        fm = (2 * prec * rec ) / (prec + rec)\n",
    "    else:\n",
    "        fm = 0\n",
    "\n",
    "    #logger.info('prec: %d tp / (%d tp + %d fp) = %f', tp[label], tp[label], fp[label], prec)\n",
    "    #logger.info('rec: %d tp / (%d tp + %d fn) = %f', tp[label], tp[label], fn[label], rec)\n",
    "    #logger.info('F-measure: %f',fm)\n",
    "\n",
    "   \n",
    "    print(\"{}\\t\\t{:.2%}\\t\\t{:.2%}\\t\\t{:.2%}\".format(label,prec,rec,fm))\n",
    "    #csvw.writerow([label, prec, rec, fm])\n",
    "    \n",
    "\n",
    "print (correct/total*100)"
   ]
  },
  {
   "cell_type": "markdown",
   "metadata": {},
   "source": [
    "## Alchemy enrichment"
   ]
  },
  {
   "cell_type": "code",
   "execution_count": 60,
   "metadata": {
    "collapsed": false
   },
   "outputs": [],
   "source": [
    "from alchemyapi import AlchemyAPI\n",
    "\n",
    "import os\n",
    "import hashlib\n",
    "import json\n",
    "from IPython.display import display\n",
    "from ipywidgets import FloatProgress\n",
    "\n",
    "fp = FloatProgress(min=0, max=sum(len(x) for x in sentences.values()))\n",
    "\n",
    "alchemyapi = AlchemyAPI()\n",
    "\n",
    "display(fp)\n",
    "\n",
    "for idx, sents in sentences.items():\n",
    "    \n",
    "    datapath = os.path.join(\"data\",idx)\n",
    "    \n",
    "    for sent in sents:\n",
    "        fp.value += 1\n",
    "        m = hashlib.md5()\n",
    "        m.update(sent.encode('utf-8'))\n",
    "        \n",
    "        if not os.path.exists(datapath):\n",
    "            os.makedirs(datapath)\n",
    "            \n",
    "        sent_file = os.path.join(datapath, m.hexdigest())\n",
    "        \n",
    "        if os.path.exists(sent_file) and (os.path.getsize(sent_file) > 69):\n",
    "            continue\n",
    "\n",
    "        result = alchemyapi.combined(\"text\", sent, options={ \"showSourceText\":1})\n",
    "\n",
    "        with open(sent_file,\"w\") as f:\n",
    "            json.dump(result, f)\n",
    "\n",
    "        \n",
    "        "
   ]
  },
  {
   "cell_type": "code",
   "execution_count": 91,
   "metadata": {
    "collapsed": false
   },
   "outputs": [
    {
     "name": "stdout",
     "output_type": "stream",
     "text": [
      "------------ Goa ------------\n",
      "---Concepts---\n",
      "[('DNA', 37), ('Gene', 32), ('Gene expression', 21), ('Cancer', 17), ('Protein', 13), ('Cell', 12), ('Cell nucleus', 12), ('Transcription', 12), ('Bacteria', 10), ('Present', 9), ('Molecular biology', 9), ('Cell biology', 8), ('Enzyme', 7), ('Adenosine triphosphate', 7), ('Organism', 7), ('Transcription factor', 6), ('Breast cancer', 6), ('Signal transduction', 6), ('Genetics', 6), ('Time', 6), ('Metastasis', 5), ('In vivo', 5), ('Mitochondrion', 4), ('In vitro', 4), ('Oxidative stress', 4), ('Chromosome', 4), ('Cell cycle', 4), ('Cell division', 4), ('Histone', 4), ('Cytoplasm', 4), ('DNA replication', 4), ('Evolution', 4), ('DNA repair', 3), ('Oncology', 3), ('Stromal cell', 3), ('Oxidative phosphorylation', 3), ('Polymerase chain reaction', 3), ('Apoptosis', 3), ('Tumor', 3), ('Stroma', 2), ('Statistics', 2), ('Statistical terminology', 2), ('Gallbladder', 2), ('Enzyme inhibitor', 2), ('Proteasome', 2), ('Maize', 2), ('Inflammation', 2), ('Methylation', 2), ('Logit', 2), ('Bone marrow', 2)]\n",
      "---Keywords---\n",
      "[('present study', 13), ('exposure', 10), ('cells', 10), ('effect', 10), ('rats', 9), ('role', 8), ('study', 8), ('mechanism', 7), ('aim', 7), ('goal', 7), ('aspirin', 7), ('vitro', 6), ('expression', 6), ('effects', 6), ('oxidative stress', 6), ('addition', 5), ('levels', 5), ('analyses', 5), ('apoptosis', 5), ('differences', 5), ('Figure', 5), ('impact', 4), ('TCDD', 4), ('hypothesis', 4), ('smoking', 4), ('DNA', 4), ('PCB3', 4), ('AhR ligands', 4), ('BPDE', 4), ('Neuro', 3), ('mice', 3), ('ability', 3), ('cell proliferation', 3), ('female rats', 3), ('ICZ', 3), ('association', 3), ('possibility', 3), ('p21 promoter', 3), ('GSPs', 3), ('mutations', 3), ('investigation', 3), ('p53', 3), ('genistein', 3), ('GST activity', 3), ('A549 cells', 3), ('experiment', 3), ('protein levels', 3), ('number', 3), ('experiments', 3), ('responses', 3)]\n",
      "------------ Exp ------------\n",
      "---Concepts---\n",
      "[('DNA', 109), ('Molecular biology', 64), ('Gene', 49), ('Protein', 41), ('Cell biology', 39), ('Bacteria', 38), ('Enzyme', 34), ('Water', 34), ('Buffer solution', 32), ('Oxygen', 32), ('Polymerase chain reaction', 30), ('Immune system', 30), ('Western blot', 29), ('Antibody', 29), ('Cancer', 28), ('Harshad number', 27), ('PH', 27), ('St. Louis, Missouri', 26), ('Gene expression', 24), ('Chemistry', 23), ('Genetics', 23), ('Liver', 22), ('Missouri', 22), ('Gel electrophoresis', 22), ('Cell culture', 22), ('Adenosine triphosphate', 21), ('According to Jim', 21), ('Mouse', 20), ('Rat', 20), ('Sodium hydroxide', 20), ('Transcription', 20), ('Scientific control', 19), ('Cell', 19), ('Reverse transcriptase', 18), ('Sodium chloride', 17), ('Blood', 17), ('Ethanol', 16), ('Solvent', 15), ('DNA replication', 14), ('ELISA', 14), ('Lung', 14), ('Plate tectonics', 13), ('Immunohistochemistry', 13), ('Metastasis', 12), ('The Culture', 12), ('Atlas of Peculiar Galaxies', 12), ('Chlorine', 12), ('Lung cancer', 12), ('Ad libitum', 12), ('Mass', 12)]\n",
      "---Keywords---\n",
      "[('min', 147), ('cells', 126), ('mice', 57), ('rats', 52), ('room temperature', 45), ('animals', 41), ('hr', 41), ('μl', 38), ('PBS', 38), ('Cells', 38), ('DNA', 35), ('pH', 34), ('CA', 32), ('USA', 31), ('treatment', 31), ('slides', 30), ('ml', 29), ('age', 26), ('group', 26), ('nm', 24), ('groups', 24), ('samples', 23), ('incubation', 23), ('MO', 23), ('exposure', 23), ('medium', 22), ('methanol', 22), ('experiments', 21), ('addition', 21), ('solution', 20), ('°C', 20), ('Sigma', 20), ('times', 19), ('Animals', 19), ('study', 19), ('centrifugation', 18), ('total', 18), ('mixture', 18), ('mg', 17), ('37°C', 17), ('controls', 17), ('manufacturer', 17), ('15 min', 16), ('μg', 16), ('experiment', 16), ('St. Louis', 16), ('aspirin', 16), ('water', 15), ('TPA', 15), ('drinking water', 15)]\n",
      "------------ Obs ------------\n",
      "---Concepts---\n",
      "[('DNA', 56), ('Cancer', 32), ('Gene', 25), ('Mouse', 15), ('Rat', 12), ('Gene expression', 12), ('Enzyme inhibitor', 11), ('Squamous cell carcinoma', 11), ('DNA adduct', 11), ('Inhibitor', 10), ('Xanthine oxidase inhibitor', 10), ('Cell biology', 10), ('Mutation', 10), ('Genetics', 9), ('Cell nucleus', 9), ('Race', 9), ('Epithelium', 8), ('Anatomical pathology', 8), ('Scientific control', 7), ('Cell', 7), ('Bacteria', 7), ('Scientific method', 7), ('Adenosine triphosphate', 7), ('DNA repair', 6), ('Tumor', 6), ('Signal transduction', 6), ('Squamous epithelium', 6), ('Liver', 5), ('Metastasis', 5), ('Water', 5), ('Enzyme', 5), ('Pleural effusion', 5), ('Cytoplasm', 5), ('Peritoneum', 5), ('Major', 5), ('Breast cancer', 5), ('Asbestos', 5), ('Lung', 5), ('Oral mucosa', 5), ('Organ', 5), ('Stanford prison experiment', 5), ('Time', 5), ('Western blot', 4), ('Present', 4), ('Harshad number', 4), ('Ductal carcinoma', 4), ('Chromosome', 4), ('Band', 4), ('Cell division', 4), ('AKT', 4)]\n",
      "---Keywords---\n",
      "[('Figure', 79), ('Table', 54), ('rats', 32), ('cells', 28), ('exposure', 27), ('mice', 23), ('cases', 23), ('data', 17), ('treatment', 16), ('DNA', 16), ('GJIC', 15), ('effect', 15), ('concentration', 15), ('tumors', 13), ('addition', 13), ('controls', 13), ('results', 12), ('Fig.', 12), ('workers', 12), ('contrast', 12), ('group', 11), ('inhibition', 11), ('nucleotides', 11), ('number', 11), ('expression', 10), ('adducts', 10), ('animals', 10), ('min', 9), ('groups', 9), ('lung', 8), ('peak', 8), ('dose', 8), ('samples', 8), ('DCA', 8), ('PCB', 8), ('cohort', 8), ('liver', 8), ('m/z', 7), ('trihalomethanes', 7), ('levels', 7), ('questionnaire', 7), ('Cx43', 7), ('TCDD', 7), ('TPA', 6), ('chloroform', 6), ('smokers', 6), ('presence', 6), ('genes', 6), ('toxicity', 6), ('DMBA', 6)]\n",
      "------------ Bac ------------\n",
      "---Concepts---\n",
      "[('Cancer', 249), ('DNA', 245), ('Gene', 155), ('Protein', 86), ('Gene expression', 84), ('Breast cancer', 78), ('Bacteria', 76), ('Metastasis', 71), ('Adenosine triphosphate', 70), ('DNA repair', 67), ('1920', 65), ('Cell', 59), ('1918', 58), ('1912', 52), ('Genetics', 52), ('Pleural effusion', 51), ('Signal transduction', 50), ('Oncology', 48), ('Cell nucleus', 47), ('Mutation', 46), ('1922', 44), ('Transcription factor', 42), ('Estrogen', 42), ('Chromosome', 41), ('Enzyme', 41), ('Immune system', 41), ('1916', 39), ('Epidemiology', 39), ('Apoptosis', 38), ('Rat', 38), ('Cell cycle', 37), ('Mouse', 37), ('Organism', 37), ('P53', 37), ('Carcinogen', 36), ('1924', 35), ('1913', 35), ('1921', 33), ('Metabolism', 33), ('Oxidative stress', 31), ('Transcription', 31), ('Oxygen', 31), ('Histone', 31), ('Water', 30), ('Oxidative phosphorylation', 30), ('1911', 30), ('1925', 27), ('Lung cancer', 27), ('1926', 27), ('Iron', 26)]\n",
      "---Keywords---\n",
      "[('rats', 63), ('apoptosis', 54), ('studies', 52), ('mice', 49), ('exposure', 48), ('PCBs', 47), ('TCDD', 44), ('DNA damage', 41), ('expression', 40), ('humans', 40), ('breast cancer', 39), ('activation', 39), ('GJIC', 35), ('drinking water', 32), ('induction', 32), ('cell proliferation', 32), ('p53', 32), ('addition', 31), ('PAHs', 29), ('cells', 28), ('contrast', 26), ('study', 25), ('DNA', 25), ('liver', 24), ('increase', 23), ('oxidative stress', 23), ('DCA', 22), ('risk', 22), ('TCA', 21), ('inhibition', 21), ('BD', 20), ('formation', 20), ('ability', 20), ('development', 19), ('workers', 19), ('cancer', 19), ('treatment', 19), ('tumor promotion', 18), ('presence', 18), ('vitro', 18), ('Cr', 18), ('effects', 18), ('IARC', 18), ('mechanism', 18), ('incidence', 17), ('result', 17), ('oxidative DNA damage', 17), ('Wyde', 17), ('styrene', 17), ('evidence', 17)]\n",
      "------------ Mod ------------\n",
      "---Concepts---\n",
      "[('Actuarial science', 1), ('Order theory', 1), ('Integer', 1), ('Thermo Electron', 1), ('Cigarette', 1), ('Division', 1), ('Fisher Scientific', 1), ('Thermo Fisher Scientific', 1), ('Real analysis', 1), ('Tobacco', 1), ('Cigar', 1), ('Functional analysis', 1), ('Regression analysis', 1), ('Least squares', 1), ('Nicotine', 1), ('Function', 1), ('Standardized mortality ratio', 1), ('Das Model', 1), ('Laboratory equipment', 1), ('Smoking', 1), ('Electronic cigarette', 1), ('Research support companies', 1)]\n",
      "---Keywords---\n",
      "[('cigarette smoking', 1), ('Thermo Scientific Cellomics', 1), ('standardized mortality ratios', 1), ('Preliminary analysis', 1), ('smoking times cigarettes', 1), ('power form', 1), ('clustering', 1), ('total pack-years', 1), ('endothelial cells', 1), ('regression equation', 1), ('SMR', 1), ('variation', 1), ('fluorescently labeled cells', 1), ('Fisher Scientific', 1), ('Breslow', 1), ('smoking intensity', 1), ('illustration', 1), ('concentration effect', 1), ('duration', 1), ('model', 1)]\n",
      "------------ Obj ------------\n",
      "---Concepts---\n",
      "[('DNA', 40), ('Cancer', 33), ('Gene', 27), ('Gene expression', 14), ('Cell', 12), ('Signal transduction', 11), ('Genetics', 11), ('Chromosome', 10), ('Bacteria', 10), ('Breast cancer', 10), ('DNA repair', 9), ('Metastasis', 9), ('Protein', 9), ('Enzyme', 8), ('Transcription', 8), ('Cell nucleus', 8), ('Mutation', 8), ('Mouse', 7), ('Asbestos', 7), ('Rat', 7), ('Immune system', 7), ('Adenosine triphosphate', 7), ('Carcinogen', 6), ('Oxidative stress', 6), ('Tumor', 6), ('Tremolite', 6), ('Transcription factor', 5), ('Present', 5), ('Liver', 5), ('Cell biology', 5), ('Organism', 5), ('Apoptosis', 5), ('Oxidative phosphorylation', 5), ('Histone', 5), ('Amphibole', 5), ('Time', 5), ('Oncology', 4), ('Rodent', 4), ('Molecular biology', 4), ('Lung cancer', 4), ('Restriction enzyme', 4), ('Toxicology', 4), ('Colorectal cancer', 4), ('Cell division', 4), ('Cyclooxygenase', 4), ('Riebeckite', 4), ('DNA methylation', 4), ('Human', 4), ('Anti-inflammatory', 3), ('Mutagen', 3)]\n",
      "---Keywords---\n",
      "[('effect', 17), ('study', 10), ('effects', 10), ('rats', 9), ('cells', 9), ('TPA', 8), ('liver', 8), ('addition', 7), ('DNA', 7), ('present study', 7), ('lung', 6), ('expression', 6), ('aspirin', 6), ('DNA damage', 5), ('mice', 5), ('cell proliferation', 5), ('role', 5), ('DCA', 5), ('kidney tumors', 5), ('apoptosis', 5), ('activity', 4), ('MDA-MB-231 cells', 4), ('cell line', 4), ('ability', 4), ('interaction', 4), ('important role', 4), ('COX', 4), ('detectable PAH–DNA adducts', 4), ('c-myc gene', 4), ('action', 4), ('occupational exposure', 4), ('breast cancer', 4), ('GST polymorphisms', 4), ('TCA', 4), ('smoking status', 4), ('number', 4), ('article', 3), ('mode', 3), ('current study', 3), ('FB1', 3), ('half-life', 3), ('PPs', 3), ('arsenic concentration', 3), ('breast tissue', 3), ('PCBs', 3), ('COEs', 3), ('cigarette smoke', 3), ('NSAID', 3), ('dichloroacetic acid', 3), ('important industrial chemical', 3)]\n",
      "------------ Con ------------\n",
      "---Concepts---\n",
      "[('DNA', 88), ('Cancer', 69), ('Gene', 55), ('Bacteria', 32), ('Protein', 28), ('Gene expression', 27), ('Adenosine triphosphate', 26), ('Breast cancer', 22), ('Cell', 20), ('Present', 19), ('Oxidative stress', 19), ('Apoptosis', 19), ('Histone', 18), ('Signal transduction', 18), ('Enzyme', 16), ('Oxidative phosphorylation', 16), ('Liver', 15), ('Time', 15), ('DNA repair', 14), ('Oncology', 14), ('Metastasis', 13), ('Evolution', 13), ('Pleural effusion', 12), ('Genetics', 12), ('Cell nucleus', 12), ('P53', 12), ('Mutagen', 11), ('Cell division', 11), ('Estrogen', 11), ('Mutation', 11), ('Cyclooxygenase', 11), ('Chromosome', 10), ('Organism', 10), ('Asbestos', 10), ('Rat', 10), ('Transcription', 10), ('Mouse', 9), ('Mammary gland', 9), ('Amphibole', 8), ('Metabolism', 8), ('Paracetamol', 7), ('Cell cycle', 7), ('Water', 7), ('In vivo', 7), ('DNA replication', 7), ('Play', 7), ('Riebeckite', 7), ('Tumor', 7), ('Mitochondrion', 6), ('Transcription factor', 6)]\n",
      "---Keywords---\n",
      "[('results', 68), ('data', 38), ('study', 29), ('activation', 25), ('TPA', 24), ('exposure', 22), ('findings', 21), ('expression', 20), ('present study', 20), ('rats', 20), ('apoptosis', 20), ('inhibition', 20), ('induction', 18), ('mice', 17), ('cell proliferation', 15), ('oxidative stress', 15), ('conclusion', 15), ('cells', 15), ('evidence', 14), ('aspirin', 14), ('TCDD', 13), ('chloroform', 12), ('response', 12), ('studies', 12), ('p53', 12), ('DNA damage', 11), ('risk', 11), ('formation', 11), ('liver', 11), ('effect', 11), ('addition', 11), ('mechanism', 11), ('role', 11), ('oxidative DNA damage', 11), ('lack', 11), ('time', 11), ('differences', 10), ('mechanisms', 10), ('treatment', 10), ('mutagenicity', 10), ('PB', 9), ('action', 9), ('mammary carcinogenesis', 9), ('GJIC', 8), ('activity', 8), ('ability', 8), ('factors', 8), ('roxarsone', 8), ('finding', 8), ('DCA', 8)]\n",
      "------------ Mot ------------\n",
      "---Concepts---\n",
      "[('Cancer', 46), ('DNA', 29), ('Breast cancer', 23), ('Metastasis', 20), ('Gene', 18), ('Pleural effusion', 15), ('Oncology', 12), ('Epidemiology', 9), ('Mutation', 9), ('Adenosine triphosphate', 8), ('Tobacco smoking', 7), ('1920', 7), ('Mutagen', 6), ('Histone', 6), ('Future', 6), ('Gene expression', 6), ('DNA repair', 5), ('Natural environment', 5), ('DNA adduct', 5), ('In vivo', 5), ('Lung cancer', 5), ('Bacteria', 5), ('1912', 5), ('Carcinogen', 5), ('Scientific method', 5), ('1922', 5), ('Signal transduction', 5), ('1926', 4), ('Present', 4), ('Cancer staging', 4), ('Health', 4), ('Model organism', 4), ('Chemotherapy', 4), ('Enzyme', 4), ('Human', 4), ('Toxicology', 4), ('Genetics', 4), ('Nickel', 4), ('1917', 4), ('Apoptosis', 4), ('Evolution', 4), ('Risk', 4), ('Cell nucleus', 4), ('Personal life', 4), ('Protein', 4), ('Health care', 4), ('1924', 3), ('Liver', 3), ('Cell biology', 3), ('Chromosome', 3)]\n",
      "---Keywords---\n",
      "[('mechanism', 18), ('role', 15), ('studies', 15), ('exposure', 12), ('mechanisms', 11), ('breast cancer risk', 11), ('factors', 9), ('results', 9), ('rats', 9), ('PCBs', 8), ('study', 8), ('carcinogenicity', 8), ('question', 8), ('TPA', 7), ('increase', 6), ('expression', 6), ('activation', 6), ('effects', 6), ('humans', 6), ('BD', 5), ('lack', 5), ('EB-diol', 5), ('previous studies', 5), ('carcinogenesis', 5), ('data', 5), ('DNA adduct formation', 5), ('carcinogens', 5), ('PAHs', 5), ('children', 5), ('tumor promotion', 5), ('findings', 5), ('risk', 5), ('GST polymorphisms', 5), ('effect', 5), ('aspirin', 5), ('DNA damage', 4), ('understanding', 4), ('interactions', 4), ('ICZ', 4), ('association', 4), ('FB1', 4), ('PCB exposure', 4), ('MF', 4), ('genotoxicity', 4), ('AhR', 4), ('result', 4), ('action', 4), ('concentrations', 4), ('breast carcinogenesis', 4), ('apoptosis', 4)]\n",
      "------------ Met ------------\n",
      "---Concepts---\n",
      "[('Statistics', 61), ('DNA', 61), ('Molecular biology', 35), ('Cancer', 34), ('Normal distribution', 28), ('Gene', 23), ('Polymerase chain reaction', 23), ('Gene expression', 23), ('Breast cancer', 22), ('Statistical significance', 20), ('Protein', 20), ('Metastasis', 19), ('Analysis of variance', 19), ('According to Jim', 19), ('Statistical tests', 17), ('Pleural effusion', 16), ('Regression analysis', 16), ('P-value', 15), ('Scientific method', 14), ('Multiple comparisons', 13), ('Statistical hypothesis testing', 13), ('Cell', 13), ('Genetics', 12), ('Ronald Fisher', 11), ('Transcription', 11), ('Mathematics', 11), (\"Student's t-test\", 10), ('DNA replication', 10), ('Enzyme', 10), ('Method acting', 10), ('Informed consent', 10), ('Thermus aquaticus', 9), ('DNA polymerase', 9), ('Logistic regression', 9), ('Bacteria', 9), ('Assay', 9), ('Time', 9), ('Liver', 8), ('Antibody', 8), ('Epidemiology', 8), ('1920', 8), ('Evolution', 8), ('Mutation', 8), ('Western blot', 7), ('Human', 7), ('1912', 7), ('Gel electrophoresis', 7), ('Restriction enzyme', 7), ('Cultural studies', 7), ('Present', 7)]\n",
      "---Keywords---\n",
      "[('study', 27), ('controls', 25), ('cases', 22), ('data', 21), ('exposure', 21), ('age', 21), ('method', 19), ('DNA', 19), ('workers', 18), ('values', 16), ('questionnaire', 14), ('analysis', 14), ('rats', 14), ('analyses', 14), ('number', 13), ('effects', 13), ('results', 12), ('addition', 12), ('ANOVA', 11), ('group', 11), ('diagnosis', 10), ('presence', 10), ('samples', 10), ('version', 10), ('differences', 10), ('present study', 10), ('groups', 9), ('time', 9), ('women', 9), ('consent', 9), ('Data', 9), ('Student', 9), ('USA', 9), ('expression', 8), ('breast cancer', 8), ('effect', 8), ('test', 8), ('cells', 8), ('Fig.', 8), ('adducts', 8), ('variance', 8), ('lymphocytes', 8), ('HPLC', 8), ('statistical significance', 7), ('mutations', 7), ('OCs', 7), ('Dunnett', 7), ('p-values', 7), ('variables', 7), ('LC-MS', 7)]\n",
      "------------ Res ------------\n",
      "---Concepts---\n",
      "[('DNA', 167), ('Cancer', 103), ('Gene', 100), ('Gene expression', 76), ('Statistics', 60), ('Bacteria', 58), ('Statistical significance', 51), ('Adenosine triphosphate', 48), ('Mouse', 47), ('Rat', 44), ('Protein', 43), ('Metastasis', 38), ('Cell nucleus', 37), ('Cell', 35), ('Genetics', 35), ('Present', 33), ('Mathematics', 33), ('Chromosome', 32), ('Transcription', 32), ('Time', 32), ('Liver', 29), ('Cell division', 28), ('Breast cancer', 28), ('Mutation', 27), ('Scientific control', 26), ('Cell biology', 26), ('Male', 26), ('Controlling for a variable', 25), ('Lung cancer', 24), ('Scientific method', 23), ('Apoptosis', 22), ('P53', 22), ('Histone', 21), ('DNA repair', 20), ('Signal transduction', 20), ('Cancer staging', 19), ('Enzyme', 19), ('Epidemiology', 19), ('Water', 18), ('Messenger RNA', 18), ('Pleural effusion', 17), ('Organism', 17), ('Evolution', 17), ('Mammary gland', 17), ('Tobacco smoking', 16), ('Molecular biology', 15), ('Chloroform', 14), ('Immune system', 14), ('The Expression of the Emotions in Man and Animals', 13), ('DNA adduct', 13)]\n",
      "---Keywords---\n",
      "[('Figure', 138), ('data', 73), ('rats', 68), ('Table', 65), ('exposure', 59), ('mice', 57), ('cells', 54), ('treatment', 52), ('chloroform', 51), ('contrast', 50), ('liver', 49), ('results', 48), ('CI', 47), ('DCA', 46), ('expression', 44), ('controls', 41), ('TCA', 39), ('study', 39), ('present study', 36), ('number', 34), ('TCDD', 33), ('addition', 33), ('GJIC', 32), ('levels', 32), ('increase', 30), ('inhibition', 30), ('group', 30), ('tumors', 30), ('workers', 29), ('effect', 28), ('Fig.', 28), ('apoptosis', 28), ('dose', 28), ('risk', 28), ('cell proliferation', 27), ('p53', 26), ('PB', 26), ('time', 25), ('groups', 22), ('concentrations', 22), ('TPA', 21), ('drinking water', 21), ('incidence', 21), ('difference', 21), ('c-myc gene', 21), ('activation', 20), ('trihalomethanes', 20), ('multiplicity', 20), ('female mice', 19), ('significant increase', 19)]\n",
      "------------ Hyp ------------\n",
      "---Concepts---\n",
      "[('DNA', 21), ('Gene', 14), ('Gene expression', 13), ('Cancer', 11), ('DNA repair', 10), ('Protein', 9), ('Bacteria', 8), ('Histone', 7), ('Breast cancer', 6), ('Estrogen', 6), ('Mutagen', 5), ('DNA ligase', 5), ('Oxidative phosphorylation', 5), ('Cell', 5), ('Adenosine triphosphate', 5), ('Mutation', 5), ('Evolution', 5), ('Transcription', 4), ('Liver', 4), ('Metastasis', 4), ('Cell division', 4), ('Organism', 4), ('Apoptosis', 4), ('Oxidative stress', 4), ('Mitochondrion', 3), ('Enzyme', 3), ('Play', 3), ('Oncology', 3), ('Bone marrow', 3), ('Rat', 3), ('Stromal cell', 3), ('Cell nucleus', 3), ('Pleural effusion', 3), ('Human', 3), ('Oxygen', 3), ('Menopause', 3), ('DNA methylation', 3), ('Immune system', 2), ('Caspase', 2), ('Mesenchymal stem cell', 2), ('Transcription factor', 2), ('Messenger RNA', 2), ('Effect', 2), ('Endometrium', 2), ('Developmental biology', 2), ('Logic', 2), ('Toxicology', 2), ('Dose', 2), ('Scientific method', 2), ('Male', 2)]\n",
      "---Keywords---\n",
      "[('mechanism', 11), ('exposure', 11), ('DNA damage', 7), ('cell proliferation', 7), ('metabolism', 7), ('hypothesis', 7), ('PAHs', 6), ('TCDD', 5), ('DNA', 5), ('trihalomethanes', 5), ('p21Waf1/Cip1 expression', 4), ('TPA', 4), ('differences', 4), ('results', 4), ('role', 4), ('inhibition', 4), ('induction', 4), ('effect', 4), ('female rats', 3), ('tumor promotion', 3), ('vivo', 3), ('mice', 3), ('possible mechanism', 3), ('addition', 3), ('AhR', 3), ('down-regulation', 3), ('action', 3), ('apoptosis', 3), ('CD', 3), ('BPA', 3), ('PB', 3), ('toxicity', 3), ('cancer cells', 3), ('BPDE-induced p53 accumulation', 3), ('possibility', 3), ('cells', 3), ('liver', 3), ('scenario', 2), ('inflammation', 2), ('ability', 2), ('ICZ', 2), ('factors', 2), ('caspase inhibition', 2), ('reduction', 2), ('combination', 2), ('lung', 2), ('tamoxifen', 2), ('I3C', 2), ('increase', 2), ('cell death', 2)]\n"
     ]
    }
   ],
   "source": [
    "for idx in [ x for x in sentences.keys() if x != \"Other\" ]:\n",
    "    \n",
    "    datapath = os.path.join(\"data\",idx)\n",
    "    \n",
    "    concepts = Counter()\n",
    "    keywords = Counter()\n",
    "    \n",
    "    for root,dirs,files in os.walk(datapath):\n",
    "        \n",
    "        for file in files:\n",
    "            with open(os.path.join(root,file)) as f:\n",
    "                data = json.load(f)\n",
    "                concepts.update([c['text'] for c in data['concepts']])\n",
    "                keywords.update([k['text'] for k in data['keywords']])\n",
    "           \n",
    "    print (\"------------ {} ------------\".format(idx))\n",
    "    \n",
    "    print (\"---Concepts---\")\n",
    "    print (concepts.most_common(50))\n",
    "    \n",
    "    print (\"---Keywords---\")\n",
    "    print (keywords.most_common(50))"
   ]
  },
  {
   "cell_type": "markdown",
   "metadata": {
    "collapsed": true
   },
   "source": [
    "# Managing Classifiers"
   ]
  },
  {
   "cell_type": "code",
   "execution_count": 61,
   "metadata": {
    "collapsed": false
   },
   "outputs": [
    {
     "name": "stdout",
     "output_type": "stream",
     "text": [
      "{'classifiers': [{'url': 'https://gateway.watsonplatform.net/natural-language-classifier/api/v1/classifiers/3a84d1x62-nlc-1027', 'name': 'CoreSC Classifier', 'classifier_id': '3a84d1x62-nlc-1027', 'created': '2016-04-28T06:44:28.406Z', 'language': 'en'}, {'url': 'https://gateway.watsonplatform.net/natural-language-classifier/api/v1/classifiers/3a84d1x62-nlc-1038', 'name': 'CoreSC Classifier', 'classifier_id': '3a84d1x62-nlc-1038', 'created': '2016-04-28T08:28:00.125Z', 'language': 'en'}, {'url': 'https://gateway.watsonplatform.net/natural-language-classifier/api/v1/classifiers/3a84cfx63-nlc-886', 'name': 'CoreSC Classifier', 'classifier_id': '3a84cfx63-nlc-886', 'created': '2016-04-27T09:07:18.634Z', 'language': 'en'}]}\n"
     ]
    }
   ],
   "source": [
    "\n",
    "print (requests.get(endpoint + \"/v1/classifiers\", \n",
    "              auth=(username,password)).json())\n"
   ]
  },
  {
   "cell_type": "code",
   "execution_count": 41,
   "metadata": {
    "collapsed": false
   },
   "outputs": [
    {
     "name": "stdout",
     "output_type": "stream",
     "text": [
      "{}\n"
     ]
    }
   ],
   "source": [
    "print (requests.delete(endpoint + \"/v1/classifiers/3a84d1x62-nlc-962\", \n",
    "              auth=(username,password)).json())\n"
   ]
  }
 ],
 "metadata": {
  "kernelspec": {
   "display_name": "Python 3",
   "language": "python",
   "name": "python3"
  },
  "language_info": {
   "codemirror_mode": {
    "name": "ipython",
    "version": 3
   },
   "file_extension": ".py",
   "mimetype": "text/x-python",
   "name": "python",
   "nbconvert_exporter": "python",
   "pygments_lexer": "ipython3",
   "version": "3.4.3"
  }
 },
 "nbformat": 4,
 "nbformat_minor": 0
}
