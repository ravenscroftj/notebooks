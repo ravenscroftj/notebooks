{
 "cells": [
  {
   "cell_type": "markdown",
   "metadata": {},
   "source": [
    "# Alchemy API\n",
    "\n"
   ]
  },
  {
   "cell_type": "markdown",
   "metadata": {},
   "source": [
    "Alchemy API is our Swiss Army Knife for natural lanugage processing. It offers a number of NLP microservices including named entity recognition, concept extraction and targetted sentiment analysis.\n",
    "\n",
    "Let's start off by setting up Alchemy API. You need to go into bluemix and [create an instance of alchemy](https://console.ng.bluemix.net/catalog/services/alchemyapi/).\n",
    "\n",
    "Then you'll need to find your alchemy API key and paste it into the following snippet and run."
   ]
  },
  {
   "cell_type": "code",
   "execution_count": 4,
   "metadata": {
    "collapsed": false
   },
   "outputs": [
    {
     "name": "stdout",
     "output_type": "stream",
     "text": [
      "saved api key...\n"
     ]
    }
   ],
   "source": [
    "API_KEY = \"<your_key_here>\"\n",
    "\n",
    "with open(\"api_key.txt\",\"w\") as f:\n",
    "    f.write(API_KEY)\n",
    "    print(\"saved api key...\")"
   ]
  },
  {
   "cell_type": "markdown",
   "metadata": {},
   "source": [
    "Once you've got an API key we can start using the API itself. We will start off with overall document sentiment.\n",
    "\n",
    "## Sentiment Analysis\n",
    "\n",
    "The sentiment analysis endpoint allows you to retrieve an overall score for a document's sentiment. Here we look at an article about [David Bowie's death](http://www.bbc.co.uk/news/entertainment-arts-35278872) to find out the overall tone of the document."
   ]
  },
  {
   "cell_type": "code",
   "execution_count": 5,
   "metadata": {
    "collapsed": false
   },
   "outputs": [
    {
     "name": "stdout",
     "output_type": "stream",
     "text": [
      "{'score': '0.288876', 'mixed': '1', 'type': 'positive'}\n"
     ]
    }
   ],
   "source": [
    "from alchemyapi import AlchemyAPI\n",
    "\n",
    "alchemyapi = AlchemyAPI()\n",
    "\n",
    "print (alchemyapi.sentiment('url','http://www.bbc.co.uk/news/entertainment-arts-35278872')['docSentiment'])"
   ]
  },
  {
   "cell_type": "markdown",
   "metadata": {},
   "source": [
    "As expected this write up is very mixed although comes out as positive overall. This is not particularly useful when the subject is so melancholy and multifaceted. Let's investigate some of the entities and concepts in the document and then use targetted emotion to specifically find out the author's opinion on these matters."
   ]
  },
  {
   "cell_type": "markdown",
   "metadata": {},
   "source": [
    "## Concept extraction\n",
    "\n"
   ]
  },
  {
   "cell_type": "code",
   "execution_count": 14,
   "metadata": {
    "collapsed": false
   },
   "outputs": [
    {
     "name": "stdout",
     "output_type": "stream",
     "text": [
      "David Bowie | Person | 0.786537\n",
      "Sir Paul McCartney | Person | 0.213444\n",
      "UK | Country | 0.206861\n",
      "Blackstar | Person | 0.197027\n",
      "David | Person | 0.196996\n",
      "New York | City | 0.192178\n",
      "Twitter | Company | 0.189424\n",
      "Facebook | Company | 0.184585\n",
      "BBC | Company | 0.172416\n",
      "producer | JobTitle | 0.171418\n",
      "Iggy Pop | Person | 0.169573\n",
      "New York | City | 0.166362\n",
      "Tony Visconti | Person | 0.163646\n",
      "Brixton | City | 0.162836\n",
      "Elvis Presley | Person | 0.160523\n",
      "cancer | HealthCondition | 0.159453\n",
      "social media | FieldTerminology | 0.159094\n",
      "London | City | 0.158075\n",
      "Brian May | Person | 0.156929\n",
      "Duncan Jones | Person | 0.156329\n",
      "Midge Ure | Person | 0.156259\n",
      "Ziggy | Person | 0.155002\n",
      "Brian Eno | Person | 0.152916\n",
      "David Jones | Person | 0.15165\n",
      "Panthers | Organization | 0.151284\n",
      "Ricky Gervais | Person | 0.150862\n",
      "BBC Arts | PrintMedia | 0.150781\n",
      "Davy Jones | Person | 0.146958\n",
      "Chris Hadfield | Person | 0.146879\n",
      "director | JobTitle | 0.146746\n",
      "Monkees | Organization | 0.14508\n",
      "Merce Cunningham | Person | 0.145074\n",
      "Mercury Records | Company | 0.144651\n",
      "Beatles | Organization | 0.142788\n",
      "pop music | FieldTerminology | 0.142097\n",
      "Nicolas Roeg | Person | 0.139742\n",
      "Yoko Ono | Person | 0.139541\n",
      "International Space Station | Facility | 0.1386\n",
      "Lazarus | Person | 0.137976\n",
      "Madonna | Person | 0.136651\n",
      "John Lennon | Person | 0.135697\n",
      "heart attack | HealthCondition | 0.134607\n",
      "Official Charts Company | Company | 0.133679\n",
      "BBC Music | Company | 0.13328\n",
      "Mark Savage | Person | 0.129303\n",
      "Andy Warhol | Person | 0.129246\n",
      "editor | JobTitle | 0.128711\n",
      "Michael Eavis | Person | 0.128087\n",
      "commander | JobTitle | 0.124023\n",
      "Berlin | City | 0.122842\n"
     ]
    }
   ],
   "source": [
    "ents = alchemyapi.entities('url','http://www.bbc.co.uk/news/entertainment-arts-35278872')\n",
    "for  e in ents['entities']:\n",
    "    print (e['text'], \"|\", e['type'], \"|\", e['relevance'])"
   ]
  },
  {
   "cell_type": "markdown",
   "metadata": {},
   "source": [
    "There are a number of entities covered in this write up. Lots of celebrities chimed in with something to say about Bowie passing away. We can examine how these people are regarded."
   ]
  },
  {
   "cell_type": "code",
   "execution_count": 16,
   "metadata": {
    "collapsed": false
   },
   "outputs": [
    {
     "name": "stdout",
     "output_type": "stream",
     "text": [
      "David Bowie positive 0.11641\n",
      "Sir Paul McCartney neutral \n",
      "Blackstar negative -0.0118115\n",
      "David positive 0.257304\n",
      "Iggy Pop positive 0.342849\n",
      "Tony Visconti positive 0.423158\n",
      "Elvis Presley positive 0.477191\n",
      "Brian May neutral \n",
      "Duncan Jones neutral \n",
      "Midge Ure neutral \n",
      "Ziggy negative -0.0118972\n",
      "Brian Eno neutral \n",
      "David Jones neutral \n",
      "Ricky Gervais negative -0.576202\n",
      "Davy Jones positive 0.665917\n",
      "Chris Hadfield neutral \n",
      "Merce Cunningham positive 0.734231\n",
      "Nicolas Roeg neutral \n",
      "Yoko Ono neutral \n",
      "Lazarus neutral \n",
      "Madonna negative -0.259528\n",
      "John Lennon neutral \n",
      "Mark Savage negative -0.340568\n",
      "Andy Warhol positive 0.598561\n",
      "Michael Eavis neutral \n"
     ]
    }
   ],
   "source": [
    "for e in [e for e in ents['entities'] if e['type'] == \"Person\"]:\n",
    "    sent = alchemyapi.sentiment_targeted('url','http://www.bbc.co.uk/news/entertainment-arts-35278872',e['text'])\n",
    "    if 'docSentiment' in sent:\n",
    "        print ( e['text'], sent['docSentiment']['type'], \n",
    "               ( sent['docSentiment']['score'] if 'score' in sent['docSentiment'] else '') )"
   ]
  },
  {
   "cell_type": "markdown",
   "metadata": {},
   "source": [
    "In the article, David Bowie is, unsurprisingly, regarded as positive. There is a mix of positive and negative emotions around many of the people in the article.\n",
    "\n",
    "\n",
    "## Social media Analysis\n",
    "Similar analysis can easily be applied to twitter. \n",
    "\n",
    "The following code runs using the vanilla python twitter module which can be installed via `pip install twitter`.\n",
    "\n",
    "You will also need to [sign up for a developer account and get access keys](https://apps.twitter.com/) to paste into the variables below."
   ]
  },
  {
   "cell_type": "code",
   "execution_count": 18,
   "metadata": {
    "collapsed": true
   },
   "outputs": [],
   "source": [
    "from twitter import Twitter, OAuth\n",
    "\n",
    "con_secret = \"<CONSUMER_TOKEN>\"\n",
    "con_secret_key = \"<CONSUMER_SECRET>\"\n",
    "token = \"<TOKEN>\"\n",
    "token_key = \"<TOKEN_KEY>\"\n",
    "\n",
    "t = Twitter(auth=OAuth(token, token_key, con_secret, con_secret_key))"
   ]
  },
  {
   "cell_type": "markdown",
   "metadata": {},
   "source": [
    "Once we've initialised our twitter object we can search for tweets about Bowie and get entities mentioned in tweets."
   ]
  },
  {
   "cell_type": "code",
   "execution_count": 19,
   "metadata": {
    "collapsed": false
   },
   "outputs": [
    {
     "name": "stdout",
     "output_type": "stream",
     "text": [
      "Parking Kong\n",
      "RT @lecoolbarcelona: Llegamos! #newsletter con los mejores planes de #Barcelona y #foto de @PilgrimKhan https://t.co/clg6Bd3Sdz #Bowie http…\n",
      "{'url': 'http://www.bbc.co.uk/news/entertainment-arts-35278872', 'entities': [], 'usage': 'By accessing AlchemyAPI or using information generated by AlchemyAPI, you are agreeing to be bound by the AlchemyAPI Terms of Use: http://www.alchemyapi.com/company/terms.html', 'status': 'OK', 'language': 'spanish'}\n",
      "Adam Collins\n",
      "#Bowie @ Ding Dong Lounge https://t.co/SOe3QUn8J8\n",
      "{'url': 'http://www.bbc.co.uk/news/entertainment-arts-35278872', 'entities': [], 'usage': 'By accessing AlchemyAPI or using information generated by AlchemyAPI, you are agreeing to be bound by the AlchemyAPI Terms of Use: http://www.alchemyapi.com/company/terms.html', 'status': 'OK', 'language': 'german'}\n",
      "Supertriglia\n",
      "Perché le aziende dovrebbero riascoltare David #Bowie https://t.co/7XrmkRm695 https://t.co/WTl5J8BWNC\n",
      "{'url': 'http://www.bbc.co.uk/news/entertainment-arts-35278872', 'entities': [{'text': 'David #Bowie', 'relevance': '0.33', 'type': 'Person', 'count': '1'}], 'usage': 'By accessing AlchemyAPI or using information generated by AlchemyAPI, you are agreeing to be bound by the AlchemyAPI Terms of Use: http://www.alchemyapi.com/company/terms.html', 'status': 'OK', 'language': 'italian'}\n",
      "Silvia Morosi\n",
      "David #Bowie cremato in segreto a New York (senza familiari e amici) Hashes to hashes https://t.co/Ulpi4dgPLQ https://t.co/YHc0tzjAKU\n",
      "{'url': 'http://www.bbc.co.uk/news/entertainment-arts-35278872', 'entities': [{'text': 'David #Bowie', 'relevance': '0.33', 'type': 'Person', 'count': '1'}, {'text': 'New York', 'relevance': '0.33', 'type': 'City', 'count': '1'}], 'usage': 'By accessing AlchemyAPI or using information generated by AlchemyAPI, you are agreeing to be bound by the AlchemyAPI Terms of Use: http://www.alchemyapi.com/company/terms.html', 'status': 'OK', 'language': 'italian'}\n",
      "Bin Berlin\n",
      "RT @slowberlin: Someone at Prenzlauer Berg's planetarium is a #Bowie fan 👊 (image by @BerlinMusicTour) https://t.co/cVWWO3RVck\n",
      "{'url': 'http://www.bbc.co.uk/news/entertainment-arts-35278872', 'entities': [{'text': 'Prenzlauer Berg', 'relevance': '0.33', 'type': 'Company', 'count': '1'}, {'text': 'Bowie', 'relevance': '0.33', 'type': 'Company', 'count': '1'}, {'text': '@BerlinMusicTour', 'relevance': '0.33', 'type': 'TwitterHandle', 'count': '1'}, {'text': '@slowberlin', 'relevance': '0.33', 'type': 'TwitterHandle', 'count': '1'}, {'text': '#Bowie', 'relevance': '0.33', 'type': 'Hashtag', 'count': '1'}], 'usage': 'By accessing AlchemyAPI or using information generated by AlchemyAPI, you are agreeing to be bound by the AlchemyAPI Terms of Use: http://www.alchemyapi.com/company/terms.html', 'status': 'OK', 'language': 'english'}\n",
      "Consuelo Gallego\n",
      "RT @notedetengas: Este sábado tributo a #bowie en @RazzmatazzClubs https://t.co/xKa9kr780j @AliciaMusica\n",
      "{'url': 'http://www.bbc.co.uk/news/entertainment-arts-35278872', 'entities': [{'text': 'https://t.co/xKa9kr780j', 'relevance': '0.33', 'type': 'Technology', 'count': '1'}, {'text': '@AliciaMusica', 'relevance': '0.33', 'type': 'Company', 'count': '1'}], 'usage': 'By accessing AlchemyAPI or using information generated by AlchemyAPI, you are agreeing to be bound by the AlchemyAPI Terms of Use: http://www.alchemyapi.com/company/terms.html', 'status': 'OK', 'language': 'spanish'}\n",
      "Titrespresse.com\n",
      "(metronews):#David #Bowie a été incinéré en secret sans famille ni amis : DEUIL - Selon.. https://t.co/cpo4NsaafS https://t.co/8zl0yHeXCO\n",
      "{'url': 'http://www.bbc.co.uk/news/entertainment-arts-35278872', 'entities': [{'text': 'metronews):#David', 'relevance': '0.165', 'type': 'Person', 'count': '1'}], 'usage': 'By accessing AlchemyAPI or using information generated by AlchemyAPI, you are agreeing to be bound by the AlchemyAPI Terms of Use: http://www.alchemyapi.com/company/terms.html', 'status': 'OK', 'language': 'french'}\n",
      "Sabrina\n",
      "https://t.co/pEWnHBe7Ot The Music of David Bowie at Carnegie Hall #Bowie #carnegiehall ❤️ https://t.co/d1xSRL9YeE https://t.co/aPdg0TxRE8\n",
      "{'url': 'http://www.bbc.co.uk/news/entertainment-arts-35278872', 'entities': [{'text': 'David Bowie', 'relevance': '0.33', 'disambiguated': {'opencyc': 'http://sw.opencyc.org/concept/Mx4rvf5oiJwpEbGdrcN5Y29ycA', 'subType': ['Composer', 'MusicalArtist', 'AwardNominee', 'AwardWinner', 'BroadcastArtist', 'Celebrity', 'FilmMusicContributor', 'Guitarist', 'HallOfFameInductee', 'Lyricist', 'MusicalGroupMember', 'RecordProducer', 'Songwriter', 'FilmActor', 'TVActor'], 'yago': 'http://yago-knowledge.org/resource/David_Bowie', 'name': 'David Bowie', 'musicBrainz': 'http://zitgist.com/music/artist/5441c29d-3602-4898-b1a1-b77fa23b8e50', 'website': 'http://www.davidbowie.com', 'freebase': 'http://rdf.freebase.com/ns/m.01vsy7t', 'dbpedia': 'http://dbpedia.org/resource/David_Bowie'}, 'type': 'Person', 'count': '1'}, {'text': '#carnegiehall', 'relevance': '0.33', 'type': 'Hashtag', 'count': '1'}, {'text': '#Bowie', 'relevance': '0.33', 'type': 'Hashtag', 'count': '1'}], 'usage': 'By accessing AlchemyAPI or using information generated by AlchemyAPI, you are agreeing to be bound by the AlchemyAPI Terms of Use: http://www.alchemyapi.com/company/terms.html', 'status': 'OK', 'language': 'english'}\n",
      "Superunknown\n",
      "RT @spokenly_: Kudos to all the medical staff and other people who quietly helped #Bowie over the last 18-months and never once broke his t…\n",
      "{'url': 'http://www.bbc.co.uk/news/entertainment-arts-35278872', 'entities': [{'text': 'Bowie', 'relevance': '0.33', 'type': 'Person', 'count': '1'}, {'text': '@spokenly_', 'relevance': '0.33', 'type': 'TwitterHandle', 'count': '1'}, {'text': '18-months', 'relevance': '0.33', 'type': 'Quantity', 'count': '1'}, {'text': '#Bowie', 'relevance': '0.33', 'type': 'Hashtag', 'count': '1'}], 'usage': 'By accessing AlchemyAPI or using information generated by AlchemyAPI, you are agreeing to be bound by the AlchemyAPI Terms of Use: http://www.alchemyapi.com/company/terms.html', 'status': 'OK', 'language': 'english'}\n",
      "Raj AC\n",
      "#Bowie and statutory rape. NB: not rape in the UK but 'sexual activity with a child'. \n",
      "\n",
      "https://t.co/cZGOOtHCmF\n",
      "{'url': 'http://www.bbc.co.uk/news/entertainment-arts-35278872', 'entities': [{'text': 'statutory rape', 'relevance': '0.97106', 'type': 'Crime', 'count': '1'}, {'text': 'rape', 'relevance': '0.666914', 'type': 'Crime', 'count': '1'}, {'text': 'UK', 'relevance': '0.212874', 'type': 'Country', 'count': '1'}, {'text': 'Bowie', 'relevance': '0.0912727', 'type': 'Person', 'count': '1'}, {'text': '#Bowie', 'relevance': '0.0912727', 'type': 'Hashtag', 'count': '1'}], 'usage': 'By accessing AlchemyAPI or using information generated by AlchemyAPI, you are agreeing to be bound by the AlchemyAPI Terms of Use: http://www.alchemyapi.com/company/terms.html', 'status': 'OK', 'language': 'english'}\n",
      "orenove\n",
      "Comunque Guccini non è snob, davvero non ascolta musica. Sarà pigrizia o nausea, ma sarà pur libero di fare ciò che vuole #Bowie\n",
      "{'url': 'http://www.bbc.co.uk/news/entertainment-arts-35278872', 'entities': [{'text': 'nausea', 'relevance': '0.957982', 'type': 'HealthCondition', 'count': '1'}], 'usage': 'By accessing AlchemyAPI or using information generated by AlchemyAPI, you are agreeing to be bound by the AlchemyAPI Terms of Use: http://www.alchemyapi.com/company/terms.html', 'status': 'OK', 'language': 'italian'}\n",
      "Wayne McCann\n",
      "Thanks @laurenlaverne for Reflektor. Song itself is epic. But also shows the amazing nature of #Bowie. Wanting no plaudits. Promoting others\n",
      "{'url': 'http://www.bbc.co.uk/news/entertainment-arts-35278872', 'entities': [{'text': 'Reflektor', 'relevance': '0.933292', 'type': 'City', 'count': '1'}, {'text': 'Bowie', 'relevance': '0.526543', 'type': 'City', 'count': '1'}, {'text': '@laurenlaverne', 'relevance': '0.526543', 'type': 'TwitterHandle', 'count': '1'}, {'text': '#Bowie', 'relevance': '0.526543', 'type': 'Hashtag', 'count': '1'}], 'usage': 'By accessing AlchemyAPI or using information generated by AlchemyAPI, you are agreeing to be bound by the AlchemyAPI Terms of Use: http://www.alchemyapi.com/company/terms.html', 'status': 'OK', 'language': 'english'}\n",
      "rita\n",
      "RT @PalacioLounge: \"I don't know where I'm going from here but I promise it won't be boring\" #Bowie #icon https://t.co/PEi1c2Ymcj\n",
      "{'url': 'http://www.bbc.co.uk/news/entertainment-arts-35278872', 'entities': [{'text': '@PalacioLounge', 'relevance': '0.01', 'type': 'TwitterHandle', 'count': '1'}, {'text': '#Bowie', 'relevance': '0.01', 'type': 'Hashtag', 'count': '1'}, {'text': '#icon', 'relevance': '0.01', 'type': 'Hashtag', 'count': '1'}], 'usage': 'By accessing AlchemyAPI or using information generated by AlchemyAPI, you are agreeing to be bound by the AlchemyAPI Terms of Use: http://www.alchemyapi.com/company/terms.html', 'status': 'OK', 'language': 'english'}\n",
      "Spirit Unengaged\n",
      "#Bowie possède sa propre #constellation\n",
      "https://t.co/IDNc4XBqTK https://t.co/pKWAkMLfZq\n",
      "{'language': 'unknown', 'entities': [], 'status': 'ERROR', 'url': 'http://www.bbc.co.uk/news/entertainment-arts-35278872', 'usage': 'By accessing AlchemyAPI or using information generated by AlchemyAPI, you are agreeing to be bound by the AlchemyAPI Terms of Use: http://www.alchemyapi.com/company/terms.html', 'statusInfo': 'unsupported-text-language'}\n",
      "Richard Andreucetti\n",
      "A fitting Photo of a true Artist RIP #Bowie Photographer Unknown https://t.co/4M83R88RtK\n",
      "{'url': 'http://www.bbc.co.uk/news/entertainment-arts-35278872', 'entities': [{'text': '#Bowie', 'relevance': '0.01', 'type': 'Hashtag', 'count': '1'}], 'usage': 'By accessing AlchemyAPI or using information generated by AlchemyAPI, you are agreeing to be bound by the AlchemyAPI Terms of Use: http://www.alchemyapi.com/company/terms.html', 'status': 'OK', 'language': 'english'}\n"
     ]
    }
   ],
   "source": [
    "tweets = t.search.tweets(q=\"#bowie\")\n",
    "\n",
    "for tweet in tweets['statuses']:\n",
    "    print (tweet['user']['name'])\n",
    "    print (tweet['text'])\n",
    "    print (alchemyapi.entities('text', tweet['text']))"
   ]
  },
  {
   "cell_type": "markdown",
   "metadata": {
    "collapsed": true
   },
   "source": [
    "As you can see, Alchemy identifies people mentioned as well as hashtags and twitter handles. We can also target sentiment within tweets."
   ]
  },
  {
   "cell_type": "code",
   "execution_count": 20,
   "metadata": {
    "collapsed": false
   },
   "outputs": [
    {
     "name": "stdout",
     "output_type": "stream",
     "text": [
      "Graham Watkins\n",
      "RT @ADonnellyWriter: #Bowie tribute...? https://t.co/aw7KnwFcJ5\n",
      "\n",
      "@freeboostpromo #bookboost\n",
      "@ebookbump \n",
      "#iartg #asmsg\n",
      "#RT\n",
      "Bowie Person positive 0.435633\n",
      "JP Downing\n",
      "RT @crowdermusic: I think I need to re-watch Labyrinth because I think it may actually have been a maze.  #bowie #maze vs  #labryinth\n",
      "Fito Kuadra\n",
      "Space oddity by Rockdeluxe #Bowie https://t.co/ylIoM15Vas\n",
      "Tim Falconer\n",
      "RT @andykat2: So far #Bowie's death has led to an outpouring of people talking about themselves. Yay, us. We're really great.\n",
      "Bowie Person negative -0.607994\n",
      "Mad Witch\n",
      "Awwwww #Bowie on extras 😍😍😍😍😍😍\n",
      "Miss Fletcher\n",
      "@sonolucadini Non ho ancora trovato Vanity in edicola e ciò mi fa pensare che arriverà qualcosa di speciale su #Bowie, grazie in anticipo.\n",
      "rotekatzentatze\n",
      "RT @Ms_Golightly: Happy Birthday, Mister #Bowie! https://t.co/S0Ku88N5WD\n",
      "Free eBook Promotion\n",
      "RT @ADonnellyWriter: #Bowie tribute...? https://t.co/aw7KnwFcJ5\n",
      "\n",
      "@freeboostpromo #bookboost\n",
      "@ebookbump \n",
      "#iartg #asmsg\n",
      "#RT\n",
      "Bowie Person positive 0.435633\n",
      "Olwen\n",
      "RT @spokenly_: Kudos to all the medical staff and other people who quietly helped #Bowie over the last 18-months and never once broke his t…\n",
      "Bowie Person positive 0.259289\n",
      "18-months Quantity positive 0.259289\n",
      "dixlesia\n",
      "Homenaje dixleser (algunos lo llaman #mashup) a #Lemmy #Bowie y David Kilmister que se han encontrado recientemente\n",
      " https://t.co/bOlTN9aYjY\n",
      "David Kilmister Person neutral \n",
      "https://t.co/bOlTN9aYjY Technology neutral \n",
      "Melissa72\n",
      "RT @adamlambert: @ThisIsRobThomas did a @DavidBowieReal cover of Let's Dance tonight that was so fuckin sexy! #Bowie #nilerodgers @nilerodg…\n",
      "stilltherealgraemek\n",
      "saw #Bowie here in '72 For all scousers on a nostalgia trip essential reading. https://t.co/nckFulIwUH\n",
      "Bowie Person positive 0.849399\n",
      "MC di Martino-Dhoste\n",
      "RT @Culturebox: Jérôme Soligny : \"#Bowie vivait par l'art et pour l'art\" @jeromesoligny https://t.co/ZW1azVz7uQ https://t.co/zJR2mWizew\n",
      "Héctor Becerra\n",
      "RT @Kosseing: Buen viaje #Bowie, gracias por inspirar tanto y a tantos! #TomKosseing https://t.co/NV73RFhjOU\n",
      "https://t.co/NV73RFhjOU Technology positive 0.295561\n",
      "Aurélie Poirier\n",
      "RT @TheTarnacPress: Tournage demain à #Tarnac #Correze d'un special David #Bowie pour @F3Limousin avec le photographe @PhilippeAuliac https…\n"
     ]
    }
   ],
   "source": [
    "tweets = t.search.tweets(q=\"#bowie\")\n",
    "\n",
    "for tweet in tweets['statuses']:\n",
    "    print (tweet['user']['name'])\n",
    "    print (tweet['text'])\n",
    "    entities = alchemyapi.entities('text', tweet['text'])\n",
    "    for e in entities['entities']:\n",
    "        sent = alchemyapi.sentiment_targeted('text',tweet['text'],e['text'])\n",
    "        if 'docSentiment' in sent:\n",
    "            print ( e['text'], e['type'], sent['docSentiment']['type'], \n",
    "                   ( sent['docSentiment']['score'] if 'score' in sent['docSentiment'] else '') )"
   ]
  },
  {
   "cell_type": "markdown",
   "metadata": {},
   "source": [
    "As you can see there is a mixed response to Bowie's death on twitter. Most people talking about how him in a positive way, a few decrying him."
   ]
  },
  {
   "cell_type": "code",
   "execution_count": null,
   "metadata": {
    "collapsed": true
   },
   "outputs": [],
   "source": []
  }
 ],
 "metadata": {
  "kernelspec": {
   "display_name": "Python 3",
   "language": "python",
   "name": "python3"
  },
  "language_info": {
   "codemirror_mode": {
    "name": "ipython",
    "version": 3
   },
   "file_extension": ".py",
   "mimetype": "text/x-python",
   "name": "python",
   "nbconvert_exporter": "python",
   "pygments_lexer": "ipython3",
   "version": "3.4.3"
  }
 },
 "nbformat": 4,
 "nbformat_minor": 0
}
